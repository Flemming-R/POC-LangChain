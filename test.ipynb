{
 "cells": [
  {
   "cell_type": "code",
   "execution_count": 25,
   "metadata": {},
   "outputs": [
    {
     "name": "stdout",
     "output_type": "stream",
     "text": [
      "c:\\Users\\flemm\\AppData\\Local\\pypoetry\\Cache\\virtualenvs\\langchain-lernen-NkTVdsht-py3.11\\Scripts\\python.exe\n"
     ]
    }
   ],
   "source": [
    "import sys\n",
    "print(sys.executable)\n",
    "\n",
    "import langchain_ollama\n",
    "print(\"Success!\")\n"
   ]
  },
  {
   "cell_type": "code",
   "execution_count": 26,
   "metadata": {},
   "outputs": [],
   "source": [
    "import langchain"
   ]
  },
  {
   "cell_type": "code",
   "execution_count": 27,
   "metadata": {},
   "outputs": [
    {
     "name": "stdout",
     "output_type": "stream",
     "text": [
      "aiohappyeyeballs==2.4.4\n",
      "aiohttp==3.11.11\n",
      "aiosignal==1.3.2\n",
      "annotated-types==0.7.0\n",
      "anyio==4.8.0\n",
      "asttokens==3.0.0\n",
      "attrs==25.1.0\n",
      "certifi==2024.12.14\n",
      "charset-normalizer==3.4.1\n",
      "colorama==0.4.6\n",
      "comm==0.2.2\n",
      "debugpy==1.8.12\n",
      "decorator==5.1.1\n",
      "executing==2.2.0\n",
      "frozenlist==1.5.0\n",
      "greenlet==3.1.1\n",
      "h11==0.14.0\n",
      "httpcore==1.0.7\n",
      "httpx==0.28.1\n",
      "idna==3.10\n",
      "ipykernel==6.29.5\n",
      "ipython==8.31.0\n",
      "jedi==0.19.2\n",
      "jsonpatch==1.33\n",
      "jsonpointer==3.0.0\n",
      "jupyter_client==8.6.3\n",
      "jupyter_core==5.7.2\n",
      "langchain==0.3.17\n",
      "langchain-core==0.3.33\n",
      "langchain-text-splitters==0.3.5\n",
      "langsmith==0.3.3\n",
      "matplotlib-inline==0.1.7\n",
      "multidict==6.1.0\n",
      "nest-asyncio==1.6.0\n",
      "numpy==1.26.4\n",
      "orjson==3.10.15\n",
      "packaging==24.2\n",
      "parso==0.8.4\n",
      "platformdirs==4.3.6\n",
      "prompt_toolkit==3.0.50\n",
      "propcache==0.2.1\n",
      "psutil==6.1.1\n",
      "pure_eval==0.2.3\n",
      "pydantic==2.10.6\n",
      "pydantic_core==2.27.2\n",
      "Pygments==2.19.1\n",
      "python-dateutil==2.9.0.post0\n",
      "pywin32==308\n",
      "PyYAML==6.0.2\n",
      "pyzmq==26.2.1\n",
      "requests==2.32.3\n",
      "requests-toolbelt==1.0.0\n",
      "six==1.17.0\n",
      "sniffio==1.3.1\n",
      "SQLAlchemy==2.0.37\n",
      "stack-data==0.6.3\n",
      "tenacity==9.0.0\n",
      "tornado==6.4.2\n",
      "traitlets==5.14.3\n",
      "typing_extensions==4.12.2\n",
      "urllib3==2.3.0\n",
      "wcwidth==0.2.13\n",
      "yarl==1.18.3\n",
      "zstandard==0.23.0\n",
      "\n"
     ]
    }
   ],
   "source": [
    "import subprocess\n",
    "result = subprocess.run(\n",
    "    [sys.executable, \"-m\", \"pip\", \"freeze\"],\n",
    "    capture_output=True,\n",
    "    text=True\n",
    ")\n",
    "print(result.stdout)\n"
   ]
  },
  {
   "cell_type": "code",
   "execution_count": 29,
   "metadata": {},
   "outputs": [
    {
     "name": "stdout",
     "output_type": "stream",
     "text": [
      "sys.path: ['C:\\\\Users\\\\flemm\\\\AppData\\\\Local\\\\Programs\\\\Python\\\\Python311\\\\python311.zip', 'C:\\\\Users\\\\flemm\\\\AppData\\\\Local\\\\Programs\\\\Python\\\\Python311\\\\DLLs', 'C:\\\\Users\\\\flemm\\\\AppData\\\\Local\\\\Programs\\\\Python\\\\Python311\\\\Lib', 'C:\\\\Users\\\\flemm\\\\AppData\\\\Local\\\\Programs\\\\Python\\\\Python311', 'c:\\\\Users\\\\flemm\\\\AppData\\\\Local\\\\pypoetry\\\\Cache\\\\virtualenvs\\\\langchain-lernen-NkTVdsht-py3.11', '', 'c:\\\\Users\\\\flemm\\\\AppData\\\\Local\\\\pypoetry\\\\Cache\\\\virtualenvs\\\\langchain-lernen-NkTVdsht-py3.11\\\\Lib\\\\site-packages', 'c:\\\\Users\\\\flemm\\\\AppData\\\\Local\\\\pypoetry\\\\Cache\\\\virtualenvs\\\\langchain-lernen-NkTVdsht-py3.11\\\\Lib\\\\site-packages\\\\win32', 'c:\\\\Users\\\\flemm\\\\AppData\\\\Local\\\\pypoetry\\\\Cache\\\\virtualenvs\\\\langchain-lernen-NkTVdsht-py3.11\\\\Lib\\\\site-packages\\\\win32\\\\lib', 'c:\\\\Users\\\\flemm\\\\AppData\\\\Local\\\\pypoetry\\\\Cache\\\\virtualenvs\\\\langchain-lernen-NkTVdsht-py3.11\\\\Lib\\\\site-packages\\\\Pythonwin']\n",
      "site.getsitepackages(): ['c:\\\\Users\\\\flemm\\\\AppData\\\\Local\\\\pypoetry\\\\Cache\\\\virtualenvs\\\\langchain-lernen-NkTVdsht-py3.11', 'c:\\\\Users\\\\flemm\\\\AppData\\\\Local\\\\pypoetry\\\\Cache\\\\virtualenvs\\\\langchain-lernen-NkTVdsht-py3.11\\\\Lib\\\\site-packages']\n"
     ]
    }
   ],
   "source": [
    "import sys\n",
    "print(\"sys.path:\", sys.path)\n",
    "\n",
    "import site\n",
    "print(\"site.getsitepackages():\", site.getsitepackages())\n"
   ]
  },
  {
   "cell_type": "code",
   "execution_count": 30,
   "metadata": {},
   "outputs": [
    {
     "ename": "ModuleNotFoundError",
     "evalue": "No module named 'langchain_ollama'",
     "output_type": "error",
     "traceback": [
      "\u001b[1;31m---------------------------------------------------------------------------\u001b[0m",
      "\u001b[1;31mModuleNotFoundError\u001b[0m                       Traceback (most recent call last)",
      "Cell \u001b[1;32mIn[30], line 1\u001b[0m\n\u001b[1;32m----> 1\u001b[0m \u001b[38;5;28;01mimport\u001b[39;00m\u001b[38;5;250m \u001b[39m\u001b[38;5;21;01mlangchain_ollama\u001b[39;00m\n",
      "\u001b[1;31mModuleNotFoundError\u001b[0m: No module named 'langchain_ollama'"
     ]
    }
   ],
   "source": [
    "import langchain_ollama"
   ]
  },
  {
   "cell_type": "code",
   "execution_count": null,
   "metadata": {},
   "outputs": [],
   "source": [
    "from langchain_ollama import Ollama"
   ]
  },
  {
   "cell_type": "code",
   "execution_count": null,
   "metadata": {},
   "outputs": [],
   "source": [
    "from langchain_ollama import ChatOllama"
   ]
  },
  {
   "cell_type": "code",
   "execution_count": 20,
   "metadata": {},
   "outputs": [
    {
     "name": "stdout",
     "output_type": "stream",
     "text": [
      "c:\\Users\\flemm\\AppData\\Local\\pypoetry\\Cache\\virtualenvs\\langchain-lernen-NkTVdsht-py3.11\\Scripts\\python.exe\n"
     ]
    }
   ],
   "source": [
    "import sys\n",
    "print(sys.executable)"
   ]
  },
  {
   "cell_type": "code",
   "execution_count": 7,
   "metadata": {},
   "outputs": [
    {
     "ename": "ImportError",
     "evalue": "cannot import name 'ollama' from 'langchain_core' (c:\\Users\\flemm\\AppData\\Local\\pypoetry\\Cache\\virtualenvs\\langchain-lernen-NkTVdsht-py3.11\\Lib\\site-packages\\langchain_core\\__init__.py)",
     "output_type": "error",
     "traceback": [
      "\u001b[1;31m---------------------------------------------------------------------------\u001b[0m",
      "\u001b[1;31mImportError\u001b[0m                               Traceback (most recent call last)",
      "Cell \u001b[1;32mIn[7], line 1\u001b[0m\n\u001b[1;32m----> 1\u001b[0m \u001b[38;5;28;01mfrom\u001b[39;00m\u001b[38;5;250m \u001b[39m\u001b[38;5;21;01mlangchain_core\u001b[39;00m\u001b[38;5;250m \u001b[39m\u001b[38;5;28;01mimport\u001b[39;00m ollama\n",
      "\u001b[1;31mImportError\u001b[0m: cannot import name 'ollama' from 'langchain_core' (c:\\Users\\flemm\\AppData\\Local\\pypoetry\\Cache\\virtualenvs\\langchain-lernen-NkTVdsht-py3.11\\Lib\\site-packages\\langchain_core\\__init__.py)"
     ]
    }
   ],
   "source": [
    "from langchain_community.llms import Ollama\n",
    "\n",
    "llm = Ollama(model=\"mistral\")\n",
    "response = llm(\"Was ist LangChain?\")\n",
    "print(response)\n"
   ]
  },
  {
   "cell_type": "code",
   "execution_count": null,
   "metadata": {},
   "outputs": [],
   "source": []
  }
 ],
 "metadata": {
  "kernelspec": {
   "display_name": "langchain-lernen-NkTVdsht-py3.11",
   "language": "python",
   "name": "python3"
  },
  "language_info": {
   "codemirror_mode": {
    "name": "ipython",
    "version": 3
   },
   "file_extension": ".py",
   "mimetype": "text/x-python",
   "name": "python",
   "nbconvert_exporter": "python",
   "pygments_lexer": "ipython3",
   "version": "3.11.9"
  }
 },
 "nbformat": 4,
 "nbformat_minor": 2
}
