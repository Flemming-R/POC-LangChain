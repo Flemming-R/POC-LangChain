{
 "cells": [
  {
   "cell_type": "code",
   "execution_count": 11,
   "metadata": {},
   "outputs": [],
   "source": [
    "import sqlite3\n",
    "import langchain\n",
    "import langchain_community\n",
    "from langchain_community.utilities import SQLDatabase\n",
    "import os\n",
    "import langchain_core"
   ]
  },
  {
   "cell_type": "code",
   "execution_count": 2,
   "metadata": {},
   "outputs": [],
   "source": [
    "from Flemmings_Library.variables import db_path, db\n",
    "from Flemmings_Library.ollama import get_ollama_model_names\n",
    "\n",
    "!ollama list > nul 2>&1 # Für Windows: Ollama starten, Ausgabe der Modelle unterdrücken"
   ]
  },
  {
   "cell_type": "code",
   "execution_count": 3,
   "metadata": {},
   "outputs": [],
   "source": [
    "model_names = get_ollama_model_names(debug=False)\n",
    "db_dialect = db.dialect\n",
    "model_name = model_names[0] # Modell festlegen"
   ]
  },
  {
   "cell_type": "code",
   "execution_count": 4,
   "metadata": {},
   "outputs": [
    {
     "name": "stdout",
     "output_type": "stream",
     "text": [
      "llama3.2-vision:11b ausgewählt und geladen.\n"
     ]
    }
   ],
   "source": [
    "from langchain_ollama import ChatOllama\n",
    "\n",
    "llm = ChatOllama(\n",
    "    model=model_name,\n",
    "    temperature=0,\n",
    ")\n",
    "print(f'{model_name} ausgewählt und geladen.')"
   ]
  },
  {
   "cell_type": "markdown",
   "metadata": {},
   "source": [
    "Schema extrahieren"
   ]
  },
  {
   "cell_type": "code",
   "execution_count": 5,
   "metadata": {},
   "outputs": [],
   "source": [
    "from Flemmings_Library.extract import extract_schema\n",
    "\n",
    "schema = extract_schema(db_path, sample_rows=1, verbose=False)\n",
    "schema_info_str = str(schema)"
   ]
  },
  {
   "cell_type": "markdown",
   "metadata": {},
   "source": [
    "Prompt erstellen"
   ]
  },
  {
   "cell_type": "code",
   "execution_count": 6,
   "metadata": {},
   "outputs": [],
   "source": [
    "from Flemmings_Library.variables import prompt_template_sql"
   ]
  },
  {
   "cell_type": "code",
   "execution_count": 7,
   "metadata": {},
   "outputs": [],
   "source": [
    "question = \"In which city is the customer with the highest customer ID located?\""
   ]
  },
  {
   "cell_type": "code",
   "execution_count": 8,
   "metadata": {},
   "outputs": [],
   "source": [
    "prompt = prompt_template_sql.format(\n",
    "    schema_info=schema_info_str, \n",
    "    question=question, \n",
    "    db_dialect=db_dialect\n",
    "    )"
   ]
  },
  {
   "cell_type": "code",
   "execution_count": 13,
   "metadata": {},
   "outputs": [
    {
     "ename": "AttributeError",
     "evalue": "'str' object has no attribute 'pretty_print'",
     "output_type": "error",
     "traceback": [
      "\u001b[1;31m---------------------------------------------------------------------------\u001b[0m",
      "\u001b[1;31mAttributeError\u001b[0m                            Traceback (most recent call last)",
      "Cell \u001b[1;32mIn[13], line 1\u001b[0m\n\u001b[1;32m----> 1\u001b[0m \u001b[43mprompt\u001b[49m\u001b[38;5;241;43m.\u001b[39;49m\u001b[43mpretty_print\u001b[49m()\n",
      "\u001b[1;31mAttributeError\u001b[0m: 'str' object has no attribute 'pretty_print'"
     ]
    }
   ],
   "source": [
    "prompt.pretty_print()"
   ]
  },
  {
   "cell_type": "code",
   "execution_count": 14,
   "metadata": {},
   "outputs": [
    {
     "name": "stdout",
     "output_type": "stream",
     "text": [
      "=============================\u001b[1m Messages Placeholder \u001b[0m=============================\n",
      "\n",
      "\u001b[33;1m\u001b[1;3m{chat_history}\u001b[0m\n",
      "\n",
      "================================\u001b[1m Human Message \u001b[0m=================================\n",
      "\n",
      "\u001b[33;1m\u001b[1;3m{query}\u001b[0m\n",
      "Human: Wie viele Einträge gibt es?\n"
     ]
    }
   ],
   "source": [
    "from langchain.prompts import ChatPromptTemplate, MessagesPlaceholder, HumanMessagePromptTemplate\n",
    "\n",
    "# Erstelle das PromptTemplate\n",
    "prompt_template = ChatPromptTemplate(\n",
    "    messages=[\n",
    "        MessagesPlaceholder(variable_name=\"chat_history\", optional=True),\n",
    "        HumanMessagePromptTemplate.from_template(\"{query}\")\n",
    "    ]\n",
    ")\n",
    "\n",
    "# Zeige die schön formatierte Darstellung der Prompt-Vorlage\n",
    "prompt_template.pretty_print()\n",
    "\n",
    "# Formatierung liefert einen String – diesen kannst du dann normal mit print() ausgeben\n",
    "formatted_prompt = prompt_template.format(chat_history=[], query=\"Wie viele Einträge gibt es?\")\n",
    "print(formatted_prompt)\n"
   ]
  },
  {
   "cell_type": "markdown",
   "metadata": {},
   "source": [
    "Ab hier mit ChatGPT"
   ]
  },
  {
   "cell_type": "code",
   "execution_count": null,
   "metadata": {},
   "outputs": [],
   "source": [
    "from langchain.chains import LLMChain\n",
    "from typing_extensions import TypedDict\n",
    "import re\n",
    "\n",
    "# Define your State class\n",
    "class State(TypedDict):\n",
    "    schema_info: str       # Loaded information about the DB schema\n",
    "    prompt: str\n",
    "    question: str          # Original natural language question\n",
    "    db_dialect: str        # SQL dialect (e.g., \"sqlite\")\n",
    "    parsed_question: str   # (Optional) Parsed or analyzed question\n",
    "    query: str             # Generated SQL query\n",
    "    execution_result: str  # Result from executing the SQL query\n",
    "    answer: str            # Final answer formatted for the user\n",
    "    error: str             # Error message (if any)"
   ]
  },
  {
   "cell_type": "code",
   "execution_count": null,
   "metadata": {},
   "outputs": [],
   "source": [
    "# Legacy\n",
    "# chain = LLMChain(llm=llm, prompt=prompt_template)"
   ]
  },
  {
   "cell_type": "code",
   "execution_count": null,
   "metadata": {},
   "outputs": [],
   "source": [
    "from langchain_core.output_parsers import StrOutputParser\n",
    "\n",
    "chain = prompt_template | llm | StrOutputParser()"
   ]
  },
  {
   "cell_type": "code",
   "execution_count": null,
   "metadata": {},
   "outputs": [],
   "source": [
    "# initialen State festlegen\n",
    "state: State = {\n",
    "    \"schema_info\": schema_info_str,\n",
    "    \"question\": question,\n",
    "    \"db_dialect\": db.dialect,\n",
    "    \"prompt\": prompt,\n",
    "    \"parsed_question\": \"\",     \n",
    "    \"query\": \"\",\n",
    "    \"execution_result\": \"\",\n",
    "    \"answer\": \"\",\n",
    "    \"error\": \"\"\n",
    "}"
   ]
  },
  {
   "cell_type": "code",
   "execution_count": null,
   "metadata": {},
   "outputs": [],
   "source": [
    "output = chain.invoke({\n",
    "            \"schema_info\": state[\"schema_info\"],\n",
    "            \"question\": state[\"question\"],\n",
    "            \"db_dialect\": state[\"db_dialect\"]\n",
    "        })"
   ]
  },
  {
   "cell_type": "code",
   "execution_count": null,
   "metadata": {},
   "outputs": [],
   "source": [
    "# Update für den State\n",
    "state['answer'] = output"
   ]
  },
  {
   "cell_type": "code",
   "execution_count": null,
   "metadata": {},
   "outputs": [
    {
     "data": {
      "text/plain": [
       "{'schema_info': \"{'Album': {'columns': ['AlbumId INTEGER (PK)', 'Title NVARCHAR(160)', 'ArtistId INTEGER'], 'foreign_keys': ['ArtistId -> Artist.ArtistId'], 'sample_data': [(1, 'For Those About To Rock We Salute You', 1)]}, 'Artist': {'columns': ['ArtistId INTEGER (PK)', 'Name NVARCHAR(120)'], 'foreign_keys': [], 'sample_data': [(1, 'AC/DC')]}, 'Customer': {'columns': ['CustomerId INTEGER (PK)', 'FirstName NVARCHAR(40)', 'LastName NVARCHAR(20)', 'Company NVARCHAR(80)', 'Address NVARCHAR(70)', 'City NVARCHAR(40)', 'State NVARCHAR(40)', 'Country NVARCHAR(40)', 'PostalCode NVARCHAR(10)', 'Phone NVARCHAR(24)', 'Fax NVARCHAR(24)', 'Email NVARCHAR(60)', 'SupportRepId INTEGER'], 'foreign_keys': ['SupportRepId -> Employee.EmployeeId'], 'sample_data': [(1, 'Luís', 'Gonçalves', 'Embraer - Empresa Brasileira de Aeronáutica S.A.', 'Av. Brigadeiro Faria Lima, 2170', 'São José dos Campos', 'SP', 'Brazil', '12227-000', '+55 (12) 3923-5555', '+55 (12) 3923-5566', 'luisg@embraer.com.br', 3)]}, 'Employee': {'columns': ['EmployeeId INTEGER (PK)', 'LastName NVARCHAR(20)', 'FirstName NVARCHAR(20)', 'Title NVARCHAR(30)', 'ReportsTo INTEGER', 'BirthDate DATETIME', 'HireDate DATETIME', 'Address NVARCHAR(70)', 'City NVARCHAR(40)', 'State NVARCHAR(40)', 'Country NVARCHAR(40)', 'PostalCode NVARCHAR(10)', 'Phone NVARCHAR(24)', 'Fax NVARCHAR(24)', 'Email NVARCHAR(60)'], 'foreign_keys': ['ReportsTo -> Employee.EmployeeId'], 'sample_data': [(1, 'Adams', 'Andrew', 'General Manager', None, '1962-02-18 00:00:00', '2002-08-14 00:00:00', '11120 Jasper Ave NW', 'Edmonton', 'AB', 'Canada', 'T5K 2N1', '+1 (780) 428-9482', '+1 (780) 428-3457', 'andrew@chinookcorp.com')]}, 'Genre': {'columns': ['GenreId INTEGER (PK)', 'Name NVARCHAR(120)'], 'foreign_keys': [], 'sample_data': [(1, 'Rock')]}, 'Invoice': {'columns': ['InvoiceId INTEGER (PK)', 'CustomerId INTEGER', 'InvoiceDate DATETIME', 'BillingAddress NVARCHAR(70)', 'BillingCity NVARCHAR(40)', 'BillingState NVARCHAR(40)', 'BillingCountry NVARCHAR(40)', 'BillingPostalCode NVARCHAR(10)', 'Total NUMERIC(10,2)'], 'foreign_keys': ['CustomerId -> Customer.CustomerId'], 'sample_data': [(1, 2, '2009-01-01 00:00:00', 'Theodor-Heuss-Straße 34', 'Stuttgart', None, 'Germany', '70174', 1.98)]}, 'InvoiceLine': {'columns': ['InvoiceLineId INTEGER (PK)', 'InvoiceId INTEGER', 'TrackId INTEGER', 'UnitPrice NUMERIC(10,2)', 'Quantity INTEGER'], 'foreign_keys': ['TrackId -> Track.TrackId', 'InvoiceId -> Invoice.InvoiceId'], 'sample_data': [(1, 1, 2, 0.99, 1)]}, 'MediaType': {'columns': ['MediaTypeId INTEGER (PK)', 'Name NVARCHAR(120)'], 'foreign_keys': [], 'sample_data': [(1, 'MPEG audio file')]}, 'Playlist': {'columns': ['PlaylistId INTEGER (PK)', 'Name NVARCHAR(120)'], 'foreign_keys': [], 'sample_data': [(1, 'Music')]}, 'PlaylistTrack': {'columns': ['PlaylistId INTEGER (PK)', 'TrackId INTEGER (PK)'], 'foreign_keys': ['TrackId -> Track.TrackId', 'PlaylistId -> Playlist.PlaylistId'], 'sample_data': [(1, 3402)]}, 'Track': {'columns': ['TrackId INTEGER (PK)', 'Name NVARCHAR(200)', 'AlbumId INTEGER', 'MediaTypeId INTEGER', 'GenreId INTEGER', 'Composer NVARCHAR(220)', 'Milliseconds INTEGER', 'Bytes INTEGER', 'UnitPrice NUMERIC(10,2)'], 'foreign_keys': ['MediaTypeId -> MediaType.MediaTypeId', 'GenreId -> Genre.GenreId', 'AlbumId -> Album.AlbumId'], 'sample_data': [(1, 'For Those About To Rock (We Salute You)', 1, 1, 1, 'Angus Young, Malcolm Young, Brian Johnson', 343719, 11170334, 0.99)]}}\",\n",
       " 'question': 'In which city is the customer with the highest customer ID located?',\n",
       " 'db_dialect': 'sqlite',\n",
       " 'parsed_question': '',\n",
       " 'query': '',\n",
       " 'execution_result': '',\n",
       " 'answer': 'SELECT City FROM Customer ORDER BY CustomerId DESC LIMIT 1',\n",
       " 'error': \"name 'extract_sql_statement' is not defined\"}"
      ]
     },
     "execution_count": 40,
     "metadata": {},
     "output_type": "execute_result"
    }
   ],
   "source": [
    "state"
   ]
  },
  {
   "cell_type": "code",
   "execution_count": null,
   "metadata": {},
   "outputs": [
    {
     "data": {
      "text/plain": [
       "'SELECT City FROM Customer WHERE CustomerId = ( SELECT MAX(CustomerId) FROM Customer )'"
      ]
     },
     "execution_count": 46,
     "metadata": {},
     "output_type": "execute_result"
    }
   ],
   "source": [
    "output"
   ]
  },
  {
   "cell_type": "markdown",
   "metadata": {},
   "source": [
    "# Old Stuff"
   ]
  },
  {
   "cell_type": "code",
   "execution_count": null,
   "metadata": {},
   "outputs": [],
   "source": [
    "# New helper function that uses chain.invoke and updates the State\n",
    "def extract_sql_query_state(prompt_template, state: State) -> State:\n",
    "    \"\"\"\n",
    "    Uses an LLMChain to generate an SQL query from the natural language question \n",
    "    contained in the provided state. Updates the state's 'query' field with the \n",
    "    extracted SQL and sets an 'error' field if exceptions occur.\n",
    "    \"\"\"\n",
    "    chain = LLMChain(llm=llm, prompt=prompt_template)\n",
    "    \n",
    "    try:\n",
    "        # Call chain.invoke with a dictionary as input\n",
    "        output = chain.invoke({\n",
    "            \"schema_info\": state[\"schema_info\"],\n",
    "            \"question\": state[\"question\"],\n",
    "            \"db_dialect\": state[\"db_dialect\"]\n",
    "        })\n",
    "        \n",
    "        # Optionally extract the SQL statement (if extra formatting is added)\n",
    "        sql_query = extract_sql_statement(output)\n",
    "        state[\"query\"] = sql_query if sql_query else output\n",
    "        state[\"error\"] = \"\"\n",
    "    except Exception as e:\n",
    "        state[\"error\"] = str(e)\n",
    "    \n",
    "    return state\n",
    "\n",
    "# Example usage:\n",
    "\n",
    "# Assuming you have created the prompt_template and have the following variables defined:\n",
    "# schema_info_str, question, and db_dialect\n"
   ]
  },
  {
   "cell_type": "code",
   "execution_count": null,
   "metadata": {},
   "outputs": [
    {
     "name": "stderr",
     "output_type": "stream",
     "text": [
      "C:\\Users\\flemm\\AppData\\Local\\Temp\\ipykernel_11580\\2016002811.py:8: LangChainDeprecationWarning: The class `LLMChain` was deprecated in LangChain 0.1.17 and will be removed in 1.0. Use :meth:`~RunnableSequence, e.g., `prompt | llm`` instead.\n",
      "  chain = LLMChain(llm=llm, prompt=prompt_template)\n"
     ]
    },
    {
     "name": "stdout",
     "output_type": "stream",
     "text": [
      "Generated SQL Query:\n",
      "\n",
      "Error encountered: name 'extract_sql_statement' is not defined\n"
     ]
    }
   ],
   "source": [
    "# Invoke the chain to update the state with the generated SQL query\n",
    "state = extract_sql_query_state(prompt_template, state)\n",
    "\n",
    "print(\"Generated SQL Query:\")\n",
    "print(state[\"query\"])\n",
    "if state[\"error\"]:\n",
    "    print(\"Error encountered:\", state[\"error\"])\n"
   ]
  },
  {
   "cell_type": "code",
   "execution_count": null,
   "metadata": {},
   "outputs": [],
   "source": [
    "# Wenn output ein Dictionary ist und den Schlüssel \"text\" enthält, verwende dessen Inhalt\n",
    "if isinstance(output, dict) and \"text\" in output:\n",
    "    sql_query = extract_sql_statement(output[\"text\"])\n",
    "else:\n",
    "    sql_query = extract_sql_statement(output)\n"
   ]
  },
  {
   "cell_type": "code",
   "execution_count": null,
   "metadata": {},
   "outputs": [],
   "source": [
    "def extract_sql_query_state(prompt_template, state: State) -> State:\n",
    "    chain = LLMChain(llm=llm, prompt=prompt_template)\n",
    "    \n",
    "    try:\n",
    "        output = chain.invoke({\n",
    "            \"schema_info\": state[\"schema_info\"],\n",
    "            \"question\": state[\"question\"],\n",
    "            \"db_dialect\": state[\"db_dialect\"]\n",
    "        })\n",
    "        \n",
    "        # Extrahiere den SQL-Text aus dem Dictionary, falls vorhanden\n",
    "        if isinstance(output, dict) and \"text\" in output:\n",
    "            sql_query = extract_sql_statement(output[\"text\"])\n",
    "        else:\n",
    "            sql_query = extract_sql_statement(output)\n",
    "        \n",
    "        state[\"query\"] = sql_query if sql_query else output\n",
    "        state[\"error\"] = \"\"\n",
    "    except Exception as e:\n",
    "        state[\"error\"] = str(e)\n",
    "    \n",
    "    return state\n"
   ]
  },
  {
   "cell_type": "code",
   "execution_count": null,
   "metadata": {},
   "outputs": [
    {
     "data": {
      "text/plain": [
       "{'schema_info': \"{'Album': {'columns': ['AlbumId INTEGER (PK)', 'Title NVARCHAR(160)', 'ArtistId INTEGER'], 'foreign_keys': ['ArtistId -> Artist.ArtistId'], 'sample_data': [(1, 'For Those About To Rock We Salute You', 1)]}, 'Artist': {'columns': ['ArtistId INTEGER (PK)', 'Name NVARCHAR(120)'], 'foreign_keys': [], 'sample_data': [(1, 'AC/DC')]}, 'Customer': {'columns': ['CustomerId INTEGER (PK)', 'FirstName NVARCHAR(40)', 'LastName NVARCHAR(20)', 'Company NVARCHAR(80)', 'Address NVARCHAR(70)', 'City NVARCHAR(40)', 'State NVARCHAR(40)', 'Country NVARCHAR(40)', 'PostalCode NVARCHAR(10)', 'Phone NVARCHAR(24)', 'Fax NVARCHAR(24)', 'Email NVARCHAR(60)', 'SupportRepId INTEGER'], 'foreign_keys': ['SupportRepId -> Employee.EmployeeId'], 'sample_data': [(1, 'Luís', 'Gonçalves', 'Embraer - Empresa Brasileira de Aeronáutica S.A.', 'Av. Brigadeiro Faria Lima, 2170', 'São José dos Campos', 'SP', 'Brazil', '12227-000', '+55 (12) 3923-5555', '+55 (12) 3923-5566', 'luisg@embraer.com.br', 3)]}, 'Employee': {'columns': ['EmployeeId INTEGER (PK)', 'LastName NVARCHAR(20)', 'FirstName NVARCHAR(20)', 'Title NVARCHAR(30)', 'ReportsTo INTEGER', 'BirthDate DATETIME', 'HireDate DATETIME', 'Address NVARCHAR(70)', 'City NVARCHAR(40)', 'State NVARCHAR(40)', 'Country NVARCHAR(40)', 'PostalCode NVARCHAR(10)', 'Phone NVARCHAR(24)', 'Fax NVARCHAR(24)', 'Email NVARCHAR(60)'], 'foreign_keys': ['ReportsTo -> Employee.EmployeeId'], 'sample_data': [(1, 'Adams', 'Andrew', 'General Manager', None, '1962-02-18 00:00:00', '2002-08-14 00:00:00', '11120 Jasper Ave NW', 'Edmonton', 'AB', 'Canada', 'T5K 2N1', '+1 (780) 428-9482', '+1 (780) 428-3457', 'andrew@chinookcorp.com')]}, 'Genre': {'columns': ['GenreId INTEGER (PK)', 'Name NVARCHAR(120)'], 'foreign_keys': [], 'sample_data': [(1, 'Rock')]}, 'Invoice': {'columns': ['InvoiceId INTEGER (PK)', 'CustomerId INTEGER', 'InvoiceDate DATETIME', 'BillingAddress NVARCHAR(70)', 'BillingCity NVARCHAR(40)', 'BillingState NVARCHAR(40)', 'BillingCountry NVARCHAR(40)', 'BillingPostalCode NVARCHAR(10)', 'Total NUMERIC(10,2)'], 'foreign_keys': ['CustomerId -> Customer.CustomerId'], 'sample_data': [(1, 2, '2009-01-01 00:00:00', 'Theodor-Heuss-Straße 34', 'Stuttgart', None, 'Germany', '70174', 1.98)]}, 'InvoiceLine': {'columns': ['InvoiceLineId INTEGER (PK)', 'InvoiceId INTEGER', 'TrackId INTEGER', 'UnitPrice NUMERIC(10,2)', 'Quantity INTEGER'], 'foreign_keys': ['TrackId -> Track.TrackId', 'InvoiceId -> Invoice.InvoiceId'], 'sample_data': [(1, 1, 2, 0.99, 1)]}, 'MediaType': {'columns': ['MediaTypeId INTEGER (PK)', 'Name NVARCHAR(120)'], 'foreign_keys': [], 'sample_data': [(1, 'MPEG audio file')]}, 'Playlist': {'columns': ['PlaylistId INTEGER (PK)', 'Name NVARCHAR(120)'], 'foreign_keys': [], 'sample_data': [(1, 'Music')]}, 'PlaylistTrack': {'columns': ['PlaylistId INTEGER (PK)', 'TrackId INTEGER (PK)'], 'foreign_keys': ['TrackId -> Track.TrackId', 'PlaylistId -> Playlist.PlaylistId'], 'sample_data': [(1, 3402)]}, 'Track': {'columns': ['TrackId INTEGER (PK)', 'Name NVARCHAR(200)', 'AlbumId INTEGER', 'MediaTypeId INTEGER', 'GenreId INTEGER', 'Composer NVARCHAR(220)', 'Milliseconds INTEGER', 'Bytes INTEGER', 'UnitPrice NUMERIC(10,2)'], 'foreign_keys': ['MediaTypeId -> MediaType.MediaTypeId', 'GenreId -> Genre.GenreId', 'AlbumId -> Album.AlbumId'], 'sample_data': [(1, 'For Those About To Rock (We Salute You)', 1, 1, 1, 'Angus Young, Malcolm Young, Brian Johnson', 343719, 11170334, 0.99)]}}\",\n",
       " 'question': 'In which city is the customer with the highest customer ID located?',\n",
       " 'db_dialect': 'sqlite',\n",
       " 'parsed_question': '',\n",
       " 'query': {'schema_info': \"{'Album': {'columns': ['AlbumId INTEGER (PK)', 'Title NVARCHAR(160)', 'ArtistId INTEGER'], 'foreign_keys': ['ArtistId -> Artist.ArtistId'], 'sample_data': [(1, 'For Those About To Rock We Salute You', 1)]}, 'Artist': {'columns': ['ArtistId INTEGER (PK)', 'Name NVARCHAR(120)'], 'foreign_keys': [], 'sample_data': [(1, 'AC/DC')]}, 'Customer': {'columns': ['CustomerId INTEGER (PK)', 'FirstName NVARCHAR(40)', 'LastName NVARCHAR(20)', 'Company NVARCHAR(80)', 'Address NVARCHAR(70)', 'City NVARCHAR(40)', 'State NVARCHAR(40)', 'Country NVARCHAR(40)', 'PostalCode NVARCHAR(10)', 'Phone NVARCHAR(24)', 'Fax NVARCHAR(24)', 'Email NVARCHAR(60)', 'SupportRepId INTEGER'], 'foreign_keys': ['SupportRepId -> Employee.EmployeeId'], 'sample_data': [(1, 'Luís', 'Gonçalves', 'Embraer - Empresa Brasileira de Aeronáutica S.A.', 'Av. Brigadeiro Faria Lima, 2170', 'São José dos Campos', 'SP', 'Brazil', '12227-000', '+55 (12) 3923-5555', '+55 (12) 3923-5566', 'luisg@embraer.com.br', 3)]}, 'Employee': {'columns': ['EmployeeId INTEGER (PK)', 'LastName NVARCHAR(20)', 'FirstName NVARCHAR(20)', 'Title NVARCHAR(30)', 'ReportsTo INTEGER', 'BirthDate DATETIME', 'HireDate DATETIME', 'Address NVARCHAR(70)', 'City NVARCHAR(40)', 'State NVARCHAR(40)', 'Country NVARCHAR(40)', 'PostalCode NVARCHAR(10)', 'Phone NVARCHAR(24)', 'Fax NVARCHAR(24)', 'Email NVARCHAR(60)'], 'foreign_keys': ['ReportsTo -> Employee.EmployeeId'], 'sample_data': [(1, 'Adams', 'Andrew', 'General Manager', None, '1962-02-18 00:00:00', '2002-08-14 00:00:00', '11120 Jasper Ave NW', 'Edmonton', 'AB', 'Canada', 'T5K 2N1', '+1 (780) 428-9482', '+1 (780) 428-3457', 'andrew@chinookcorp.com')]}, 'Genre': {'columns': ['GenreId INTEGER (PK)', 'Name NVARCHAR(120)'], 'foreign_keys': [], 'sample_data': [(1, 'Rock')]}, 'Invoice': {'columns': ['InvoiceId INTEGER (PK)', 'CustomerId INTEGER', 'InvoiceDate DATETIME', 'BillingAddress NVARCHAR(70)', 'BillingCity NVARCHAR(40)', 'BillingState NVARCHAR(40)', 'BillingCountry NVARCHAR(40)', 'BillingPostalCode NVARCHAR(10)', 'Total NUMERIC(10,2)'], 'foreign_keys': ['CustomerId -> Customer.CustomerId'], 'sample_data': [(1, 2, '2009-01-01 00:00:00', 'Theodor-Heuss-Straße 34', 'Stuttgart', None, 'Germany', '70174', 1.98)]}, 'InvoiceLine': {'columns': ['InvoiceLineId INTEGER (PK)', 'InvoiceId INTEGER', 'TrackId INTEGER', 'UnitPrice NUMERIC(10,2)', 'Quantity INTEGER'], 'foreign_keys': ['TrackId -> Track.TrackId', 'InvoiceId -> Invoice.InvoiceId'], 'sample_data': [(1, 1, 2, 0.99, 1)]}, 'MediaType': {'columns': ['MediaTypeId INTEGER (PK)', 'Name NVARCHAR(120)'], 'foreign_keys': [], 'sample_data': [(1, 'MPEG audio file')]}, 'Playlist': {'columns': ['PlaylistId INTEGER (PK)', 'Name NVARCHAR(120)'], 'foreign_keys': [], 'sample_data': [(1, 'Music')]}, 'PlaylistTrack': {'columns': ['PlaylistId INTEGER (PK)', 'TrackId INTEGER (PK)'], 'foreign_keys': ['TrackId -> Track.TrackId', 'PlaylistId -> Playlist.PlaylistId'], 'sample_data': [(1, 3402)]}, 'Track': {'columns': ['TrackId INTEGER (PK)', 'Name NVARCHAR(200)', 'AlbumId INTEGER', 'MediaTypeId INTEGER', 'GenreId INTEGER', 'Composer NVARCHAR(220)', 'Milliseconds INTEGER', 'Bytes INTEGER', 'UnitPrice NUMERIC(10,2)'], 'foreign_keys': ['MediaTypeId -> MediaType.MediaTypeId', 'GenreId -> Genre.GenreId', 'AlbumId -> Album.AlbumId'], 'sample_data': [(1, 'For Those About To Rock (We Salute You)', 1, 1, 1, 'Angus Young, Malcolm Young, Brian Johnson', 343719, 11170334, 0.99)]}}\",\n",
       "  'question': 'In which city is the customer with the highest customer ID located?',\n",
       "  'db_dialect': 'sqlite',\n",
       "  'text': 'SELECT City FROM Customer ORDER BY CustomerId DESC LIMIT 1'},\n",
       " 'execution_result': '',\n",
       " 'answer': '',\n",
       " 'error': ''}"
      ]
     },
     "execution_count": 24,
     "metadata": {},
     "output_type": "execute_result"
    }
   ],
   "source": [
    "extract_sql_query_state(prompt_template, state)"
   ]
  }
 ],
 "metadata": {
  "kernelspec": {
   "display_name": "langchain-lernen-GE3QnVly-py3.11",
   "language": "python",
   "name": "python3"
  },
  "language_info": {
   "codemirror_mode": {
    "name": "ipython",
    "version": 3
   },
   "file_extension": ".py",
   "mimetype": "text/x-python",
   "name": "python",
   "nbconvert_exporter": "python",
   "pygments_lexer": "ipython3",
   "version": "3.11.9"
  }
 },
 "nbformat": 4,
 "nbformat_minor": 2
}
