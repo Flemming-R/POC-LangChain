{
 "cells": [
  {
   "cell_type": "code",
   "execution_count": null,
   "metadata": {},
   "outputs": [],
   "source": [
    "import sqlite3\n",
    "import langchain\n",
    "import langchain_community\n",
    "from langchain_community.utilities import SQLDatabase"
   ]
  },
  {
   "cell_type": "code",
   "execution_count": null,
   "metadata": {},
   "outputs": [],
   "source": [
    "db_path = r\"./POC-LangChain/chinook-database-master/ChinookDatabase/DataSources/Chinook_Sqlite.sqlite\"\n",
    "db = SQLDatabase.from_uri(f\"sqlite:///{db_path}\")"
   ]
  },
  {
   "cell_type": "code",
   "execution_count": null,
   "metadata": {},
   "outputs": [],
   "source": []
  },
  {
   "cell_type": "code",
   "execution_count": null,
   "metadata": {},
   "outputs": [],
   "source": []
  },
  {
   "cell_type": "code",
   "execution_count": 2,
   "metadata": {},
   "outputs": [
    {
     "ename": "NameError",
     "evalue": "name 'schema_info_str' is not defined",
     "output_type": "error",
     "traceback": [
      "\u001b[1;31m---------------------------------------------------------------------------\u001b[0m",
      "\u001b[1;31mNameError\u001b[0m                                 Traceback (most recent call last)",
      "Cell \u001b[1;32mIn[2], line 61\u001b[0m\n\u001b[0;32m     52\u001b[0m     \u001b[38;5;28;01mreturn\u001b[39;00m state\n\u001b[0;32m     54\u001b[0m \u001b[38;5;66;03m# Example usage:\u001b[39;00m\n\u001b[0;32m     55\u001b[0m \n\u001b[0;32m     56\u001b[0m \u001b[38;5;66;03m# Assuming you have created the prompt_template and have the following variables defined:\u001b[39;00m\n\u001b[0;32m     57\u001b[0m \u001b[38;5;66;03m# schema_info_str, question, and db_dialect\u001b[39;00m\n\u001b[0;32m     58\u001b[0m \n\u001b[0;32m     59\u001b[0m \u001b[38;5;66;03m# Create an initial state\u001b[39;00m\n\u001b[0;32m     60\u001b[0m state: State \u001b[38;5;241m=\u001b[39m {\n\u001b[1;32m---> 61\u001b[0m     \u001b[38;5;124m\"\u001b[39m\u001b[38;5;124mschema_info\u001b[39m\u001b[38;5;124m\"\u001b[39m: \u001b[43mschema_info_str\u001b[49m,\n\u001b[0;32m     62\u001b[0m     \u001b[38;5;124m\"\u001b[39m\u001b[38;5;124mquestion\u001b[39m\u001b[38;5;124m\"\u001b[39m: question,\n\u001b[0;32m     63\u001b[0m     \u001b[38;5;124m\"\u001b[39m\u001b[38;5;124mdb_dialect\u001b[39m\u001b[38;5;124m\"\u001b[39m: db_dialect,\n\u001b[0;32m     64\u001b[0m     \u001b[38;5;124m\"\u001b[39m\u001b[38;5;124mparsed_question\u001b[39m\u001b[38;5;124m\"\u001b[39m: \u001b[38;5;124m\"\u001b[39m\u001b[38;5;124m\"\u001b[39m,\n\u001b[0;32m     65\u001b[0m     \u001b[38;5;124m\"\u001b[39m\u001b[38;5;124mquery\u001b[39m\u001b[38;5;124m\"\u001b[39m: \u001b[38;5;124m\"\u001b[39m\u001b[38;5;124m\"\u001b[39m,\n\u001b[0;32m     66\u001b[0m     \u001b[38;5;124m\"\u001b[39m\u001b[38;5;124mexecution_result\u001b[39m\u001b[38;5;124m\"\u001b[39m: \u001b[38;5;124m\"\u001b[39m\u001b[38;5;124m\"\u001b[39m,\n\u001b[0;32m     67\u001b[0m     \u001b[38;5;124m\"\u001b[39m\u001b[38;5;124manswer\u001b[39m\u001b[38;5;124m\"\u001b[39m: \u001b[38;5;124m\"\u001b[39m\u001b[38;5;124m\"\u001b[39m,\n\u001b[0;32m     68\u001b[0m     \u001b[38;5;124m\"\u001b[39m\u001b[38;5;124merror\u001b[39m\u001b[38;5;124m\"\u001b[39m: \u001b[38;5;124m\"\u001b[39m\u001b[38;5;124m\"\u001b[39m\n\u001b[0;32m     69\u001b[0m }\n\u001b[0;32m     71\u001b[0m \u001b[38;5;66;03m# Invoke the chain to update the state with the generated SQL query\u001b[39;00m\n\u001b[0;32m     72\u001b[0m state \u001b[38;5;241m=\u001b[39m extract_sql_query_state(prompt_template, state)\n",
      "\u001b[1;31mNameError\u001b[0m: name 'schema_info_str' is not defined"
     ]
    }
   ],
   "source": [
    "from langchain.chains import LLMChain\n",
    "from typing_extensions import TypedDict\n",
    "import re\n",
    "\n",
    "# Define your State class\n",
    "class State(TypedDict):\n",
    "    schema_info: str       # Loaded information about the DB schema\n",
    "    question: str          # Original natural language question\n",
    "    db_dialect: str        # SQL dialect (e.g., \"sqlite\")\n",
    "    parsed_question: str   # (Optional) Parsed or analyzed question\n",
    "    query: str             # Generated SQL query\n",
    "    execution_result: str  # Result from executing the SQL query\n",
    "    answer: str            # Final answer formatted for the user\n",
    "    error: str             # Error message (if any)\n",
    "\n",
    "# Function to extract SQL statement from text\n",
    "def extract_sql_statement(text: str) -> str:\n",
    "    \"\"\"\n",
    "    Extracts the SQL statement from a given text, starting from \"SELECT\" \n",
    "    until the first semicolon \";\".\n",
    "    \"\"\"\n",
    "    pattern = r'(SELECT.*?;)'\n",
    "    match = re.search(pattern, text, re.IGNORECASE | re.DOTALL)\n",
    "    if match:\n",
    "        return match.group(1).strip()\n",
    "    return \"\"\n",
    "\n",
    "# New helper function that uses chain.invoke and updates the State\n",
    "def extract_sql_query_state(prompt_template, state: State) -> State:\n",
    "    \"\"\"\n",
    "    Uses an LLMChain to generate an SQL query from the natural language question \n",
    "    contained in the provided state. Updates the state's 'query' field with the \n",
    "    extracted SQL and sets an 'error' field if exceptions occur.\n",
    "    \"\"\"\n",
    "    chain = LLMChain(llm=llm, prompt=prompt_template)\n",
    "    \n",
    "    try:\n",
    "        # Call chain.invoke with a dictionary as input\n",
    "        output = chain.invoke({\n",
    "            \"schema_info\": state[\"schema_info\"],\n",
    "            \"question\": state[\"question\"],\n",
    "            \"db_dialect\": state[\"db_dialect\"]\n",
    "        })\n",
    "        \n",
    "        # Optionally extract the SQL statement (if extra formatting is added)\n",
    "        sql_query = extract_sql_statement(output)\n",
    "        state[\"query\"] = sql_query if sql_query else output\n",
    "        state[\"error\"] = \"\"\n",
    "    except Exception as e:\n",
    "        state[\"error\"] = str(e)\n",
    "    \n",
    "    return state\n",
    "\n",
    "# Example usage:\n",
    "\n",
    "# Assuming you have created the prompt_template and have the following variables defined:\n",
    "# schema_info_str, question, and db_dialect\n",
    "\n",
    "# Create an initial state\n",
    "state: State = {\n",
    "    \"schema_info\": schema_info_str,\n",
    "    \"question\": question,\n",
    "    \"db_dialect\": db_dialect,\n",
    "    \"parsed_question\": \"\",\n",
    "    \"query\": \"\",\n",
    "    \"execution_result\": \"\",\n",
    "    \"answer\": \"\",\n",
    "    \"error\": \"\"\n",
    "}\n",
    "\n",
    "# Invoke the chain to update the state with the generated SQL query\n",
    "state = extract_sql_query_state(prompt_template, state)\n",
    "\n",
    "print(\"Generated SQL Query:\")\n",
    "print(state[\"query\"])\n",
    "if state[\"error\"]:\n",
    "    print(\"Error encountered:\", state[\"error\"])\n"
   ]
  }
 ],
 "metadata": {
  "kernelspec": {
   "display_name": "langchain-lernen-GE3QnVly-py3.11",
   "language": "python",
   "name": "python3"
  },
  "language_info": {
   "codemirror_mode": {
    "name": "ipython",
    "version": 3
   },
   "file_extension": ".py",
   "mimetype": "text/x-python",
   "name": "python",
   "nbconvert_exporter": "python",
   "pygments_lexer": "ipython3",
   "version": "3.11.9"
  }
 },
 "nbformat": 4,
 "nbformat_minor": 2
}
