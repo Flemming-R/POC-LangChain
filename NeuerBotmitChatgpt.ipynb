{
 "cells": [
  {
   "cell_type": "code",
   "execution_count": 2,
   "metadata": {},
   "outputs": [],
   "source": [
    "import sqlite3\n",
    "import langchain\n",
    "import langchain_community\n",
    "from langchain_community.utilities import SQLDatabase"
   ]
  },
  {
   "cell_type": "code",
   "execution_count": 3,
   "metadata": {},
   "outputs": [],
   "source": [
    "db_path = r\"./POC-LangChain/chinook-database-master/ChinookDatabase/DataSources/Chinook_Sqlite.sqlite\"\n",
    "db = SQLDatabase.from_uri(f\"sqlite:///{db_path}\")"
   ]
  },
  {
   "cell_type": "code",
   "execution_count": 4,
   "metadata": {},
   "outputs": [
    {
     "name": "stdout",
     "output_type": "stream",
     "text": [
      "NAME                     \tID          \tSIZE  \tMODIFIED     \n",
      "qwen2.5-coder:7b         \t2b0496514337\t4.7 GB\t7 days ago  \t\n",
      "deepseek-r1:8b           \t28f8fd6cdc67\t4.9 GB\t8 days ago  \t\n",
      "llama3.2:1b-instruct-q4_0\t53f2745c8077\t770 MB\t3 months ago\t\n",
      "llama3.2:1b              \tbaf6a787fdff\t1.3 GB\t3 months ago\t\n",
      "llama3.1:8b              \t42182419e950\t4.7 GB\t4 months ago\t\n",
      "mistral:instruct         \tf974a74358d6\t4.1 GB\t4 months ago\n"
     ]
    }
   ],
   "source": [
    "import subprocess\n",
    "\n",
    "# Führe den Befehl aus und erfasse die Ausgabe als Text\n",
    "result = subprocess.run([\"ollama\", \"list\"], capture_output=True, text=True)\n",
    "output = result.stdout.strip()\n",
    "\n",
    "print(output)  # Debugging line\n",
    "\n",
    "lines = output.splitlines()\n",
    "if not lines:\n",
    "    print(\"Keine Ausgabe erhalten.\")\n",
    "    exit()"
   ]
  },
  {
   "cell_type": "code",
   "execution_count": 31,
   "metadata": {},
   "outputs": [
    {
     "name": "stdout",
     "output_type": "stream",
     "text": [
      "Model names: ['qwen2.5-coder:7b', 'deepseek-r1:8b', 'llama3.2:1b-instruct-q4_0', 'llama3.2:1b', 'llama3.1:8b', 'mistral:instruct']\n"
     ]
    }
   ],
   "source": [
    "model_names = []\n",
    "for line in lines[1:]:\n",
    "    parts = line.split()\n",
    "    if parts:\n",
    "        model_names.append(parts[0])\n",
    "\n",
    "print(\"Model names:\", model_names)"
   ]
  },
  {
   "cell_type": "code",
   "execution_count": 6,
   "metadata": {},
   "outputs": [
    {
     "name": "stdout",
     "output_type": "stream",
     "text": [
      "sqlite\n"
     ]
    },
    {
     "data": {
      "text/plain": [
       "['Album',\n",
       " 'Artist',\n",
       " 'Customer',\n",
       " 'Employee',\n",
       " 'Genre',\n",
       " 'Invoice',\n",
       " 'InvoiceLine',\n",
       " 'MediaType',\n",
       " 'Playlist',\n",
       " 'PlaylistTrack',\n",
       " 'Track']"
      ]
     },
     "execution_count": 6,
     "metadata": {},
     "output_type": "execute_result"
    }
   ],
   "source": [
    "db_dialect = db.dialect\n",
    "print(db.dialect)\n",
    "db.get_usable_table_names()"
   ]
  },
  {
   "cell_type": "code",
   "execution_count": 7,
   "metadata": {},
   "outputs": [
    {
     "data": {
      "text/plain": [
       "'qwen2.5-coder:7b'"
      ]
     },
     "execution_count": 7,
     "metadata": {},
     "output_type": "execute_result"
    }
   ],
   "source": [
    "model_name = model_names[0] # Modell festlegen\n",
    "model_name"
   ]
  },
  {
   "cell_type": "code",
   "execution_count": 8,
   "metadata": {},
   "outputs": [
    {
     "name": "stdout",
     "output_type": "stream",
     "text": [
      "qwen2.5-coder:7b ausgewählt und geladen.\n"
     ]
    }
   ],
   "source": [
    "from langchain_ollama import ChatOllama\n",
    "\n",
    "llm = ChatOllama(\n",
    "    model=model_name,\n",
    "    temperature=0,\n",
    ")\n",
    "print(f'{model_name} ausgewählt und geladen.')"
   ]
  },
  {
   "cell_type": "code",
   "execution_count": 9,
   "metadata": {},
   "outputs": [],
   "source": [
    "import sqlite3\n",
    "\n",
    "def extract_schema(db_path, sample_rows=2, verbose=True):\n",
    "    \"\"\"\n",
    "    Extrahiert das Schema aller Tabellen in der SQLite-Datenbank und gibt\n",
    "    – abhängig vom Parameter verbose – entweder die Ergebnisse aus oder liefert sie als Dictionary zurück.\n",
    "    \n",
    "    Parameter:\n",
    "      - db_path: Pfad zur Datenbank.\n",
    "      - sample_rows: Anzahl der Beispielzeilen, die pro Tabelle abgerufen werden.\n",
    "      - verbose: Falls True, werden die Informationen direkt ausgegeben.\n",
    "      \n",
    "    Rückgabe:\n",
    "      Ein Dictionary, in dem für jede Tabelle die folgenden Informationen enthalten sind:\n",
    "        - columns: Liste der Spalten (inkl. Typ und Kennzeichnung als PK)\n",
    "        - foreign_keys: Liste der Fremdschlüssel (Format: \"Spalte -> referenzierteTabelle.referenzierteSpalte\")\n",
    "        - sample_data: Abgerufene Beispieldaten (als Liste von Zeilen)\n",
    "    \"\"\"\n",
    "    conn = sqlite3.connect(db_path)\n",
    "    cursor = conn.cursor()\n",
    "    \n",
    "    # Alle Tabellennamen abrufen\n",
    "    cursor.execute(\"SELECT name FROM sqlite_master WHERE type='table';\")\n",
    "    table_names = [row[0] for row in cursor.fetchall()]\n",
    "    \n",
    "    schema = {}\n",
    "    \n",
    "    for table in table_names:\n",
    "        if verbose:\n",
    "            print(f\"Schema for Table '{table}':\")\n",
    "        \n",
    "        # Spalteninformationen abrufen\n",
    "        cursor.execute(f\"PRAGMA table_info({table});\")\n",
    "        columns_info = cursor.fetchall()  \n",
    "        columns = []\n",
    "        for col in columns_info:\n",
    "            col_name = col[1]\n",
    "            col_type = col[2]\n",
    "            is_pk = \" (PK)\" if col[5] != 0 else \"\"\n",
    "            columns.append(f\"{col_name} {col_type}{is_pk}\")\n",
    "        if verbose:\n",
    "            print(\"Columns:\", \", \".join(columns))\n",
    "        \n",
    "        # Fremdschlüsselinformationen abrufen\n",
    "        cursor.execute(f\"PRAGMA foreign_key_list({table});\")\n",
    "        fk_info = cursor.fetchall()  \n",
    "        foreign_keys = []\n",
    "        for fk in fk_info:\n",
    "            foreign_keys.append(f\"{fk[3]} -> {fk[2]}.{fk[4]}\")\n",
    "        if verbose:\n",
    "            if foreign_keys:\n",
    "                print(\"Foreign Keys:\", \", \".join(foreign_keys))\n",
    "            else:\n",
    "                print(\"Foreign Keys: none\")\n",
    "        \n",
    "        # Beispiel-Daten abrufen\n",
    "        cursor.execute(f\"SELECT * FROM {table} LIMIT {sample_rows};\")\n",
    "        sample_data = cursor.fetchall()\n",
    "        if verbose:\n",
    "            print(\"Sample data:\", sample_data)\n",
    "            print(\"-\" * 80)\n",
    "        \n",
    "        schema[table] = {\n",
    "            \"columns\": columns,\n",
    "            \"foreign_keys\": foreign_keys,\n",
    "            \"sample_data\": sample_data\n",
    "        }\n",
    "    \n",
    "    conn.close()\n",
    "    return schema\n"
   ]
  },
  {
   "cell_type": "code",
   "execution_count": 11,
   "metadata": {},
   "outputs": [],
   "source": [
    "schema = extract_schema(db_path, sample_rows=1, verbose=False)"
   ]
  },
  {
   "cell_type": "code",
   "execution_count": 12,
   "metadata": {},
   "outputs": [],
   "source": [
    "schema_info_str = str(schema)"
   ]
  },
  {
   "cell_type": "markdown",
   "metadata": {},
   "source": [
    "Prompt-Template erstellen"
   ]
  },
  {
   "cell_type": "code",
   "execution_count": 13,
   "metadata": {},
   "outputs": [],
   "source": [
    "from langchain import PromptTemplate\n",
    "\n",
    "# Define the prompt template in English\n",
    "prompt_template = PromptTemplate(\n",
    "    input_variables=[\"schema_info\", \"question\",\"db_dialect\"],\n",
    "    template=\"\"\"\n",
    "You are a helpful SQL assistant that provides only SELECT-Statements.\n",
    "Based on the following database schema, translate a natural language query into an SQL query that is executable in my {db_dialect}-Database.\n",
    "\n",
    "Database Schema:\n",
    "{schema_info}\n",
    "\n",
    "Using the schema information above, please formulate the appropriate SQL query this question:\n",
    "Question: {question}\n",
    "\n",
    "SQL Query:\n",
    "\"\"\".strip()\n",
    ")"
   ]
  },
  {
   "cell_type": "code",
   "execution_count": 21,
   "metadata": {},
   "outputs": [],
   "source": [
    "question = \"In which city is the customer with the highest customer ID located?\""
   ]
  },
  {
   "cell_type": "code",
   "execution_count": 20,
   "metadata": {},
   "outputs": [],
   "source": [
    "prompt = prompt_template.format(\n",
    "    schema_info=schema_info_str, \n",
    "    question=question, \n",
    "    db_dialect=db_dialect\n",
    "    )\n"
   ]
  },
  {
   "cell_type": "markdown",
   "metadata": {},
   "source": [
    "Ab hier mit ChatGPT"
   ]
  },
  {
   "cell_type": "code",
   "execution_count": 33,
   "metadata": {},
   "outputs": [],
   "source": [
    "from langchain.chains import LLMChain\n",
    "from typing_extensions import TypedDict\n",
    "import re\n",
    "\n",
    "# Define your State class\n",
    "class State(TypedDict):\n",
    "    schema_info: str       # Loaded information about the DB schema\n",
    "    question: str          # Original natural language question\n",
    "    db_dialect: str        # SQL dialect (e.g., \"sqlite\")\n",
    "    parsed_question: str   # (Optional) Parsed or analyzed question\n",
    "    query: str             # Generated SQL query\n",
    "    execution_result: str  # Result from executing the SQL query\n",
    "    answer: str            # Final answer formatted for the user\n",
    "    error: str             # Error message (if any)"
   ]
  },
  {
   "cell_type": "code",
   "execution_count": 23,
   "metadata": {},
   "outputs": [],
   "source": [
    "# Function to extract SQL statement from text\n",
    "def extract_sql_statement(text: str) -> str:\n",
    "    \"\"\"\n",
    "    Extracts the SQL statement from a given text, starting from \"SELECT\" \n",
    "    until the first semicolon \";\".\n",
    "    \"\"\"\n",
    "    pattern = r'(SELECT.*?;)'\n",
    "    match = re.search(pattern, text, re.IGNORECASE | re.DOTALL)\n",
    "    if match:\n",
    "        return match.group(1).strip()\n",
    "    return \"\""
   ]
  },
  {
   "cell_type": "code",
   "execution_count": 32,
   "metadata": {},
   "outputs": [],
   "source": [
    "chain = LLMChain(llm=llm, prompt=prompt_template)"
   ]
  },
  {
   "cell_type": "code",
   "execution_count": 34,
   "metadata": {},
   "outputs": [],
   "source": [
    "output = chain.invoke({\n",
    "            \"schema_info\": state[\"schema_info\"],\n",
    "            \"question\": state[\"question\"],\n",
    "            \"db_dialect\": state[\"db_dialect\"]\n",
    "        })"
   ]
  },
  {
   "cell_type": "code",
   "execution_count": 35,
   "metadata": {},
   "outputs": [
    {
     "data": {
      "text/plain": [
       "{'schema_info': \"{'Album': {'columns': ['AlbumId INTEGER (PK)', 'Title NVARCHAR(160)', 'ArtistId INTEGER'], 'foreign_keys': ['ArtistId -> Artist.ArtistId'], 'sample_data': [(1, 'For Those About To Rock We Salute You', 1)]}, 'Artist': {'columns': ['ArtistId INTEGER (PK)', 'Name NVARCHAR(120)'], 'foreign_keys': [], 'sample_data': [(1, 'AC/DC')]}, 'Customer': {'columns': ['CustomerId INTEGER (PK)', 'FirstName NVARCHAR(40)', 'LastName NVARCHAR(20)', 'Company NVARCHAR(80)', 'Address NVARCHAR(70)', 'City NVARCHAR(40)', 'State NVARCHAR(40)', 'Country NVARCHAR(40)', 'PostalCode NVARCHAR(10)', 'Phone NVARCHAR(24)', 'Fax NVARCHAR(24)', 'Email NVARCHAR(60)', 'SupportRepId INTEGER'], 'foreign_keys': ['SupportRepId -> Employee.EmployeeId'], 'sample_data': [(1, 'Luís', 'Gonçalves', 'Embraer - Empresa Brasileira de Aeronáutica S.A.', 'Av. Brigadeiro Faria Lima, 2170', 'São José dos Campos', 'SP', 'Brazil', '12227-000', '+55 (12) 3923-5555', '+55 (12) 3923-5566', 'luisg@embraer.com.br', 3)]}, 'Employee': {'columns': ['EmployeeId INTEGER (PK)', 'LastName NVARCHAR(20)', 'FirstName NVARCHAR(20)', 'Title NVARCHAR(30)', 'ReportsTo INTEGER', 'BirthDate DATETIME', 'HireDate DATETIME', 'Address NVARCHAR(70)', 'City NVARCHAR(40)', 'State NVARCHAR(40)', 'Country NVARCHAR(40)', 'PostalCode NVARCHAR(10)', 'Phone NVARCHAR(24)', 'Fax NVARCHAR(24)', 'Email NVARCHAR(60)'], 'foreign_keys': ['ReportsTo -> Employee.EmployeeId'], 'sample_data': [(1, 'Adams', 'Andrew', 'General Manager', None, '1962-02-18 00:00:00', '2002-08-14 00:00:00', '11120 Jasper Ave NW', 'Edmonton', 'AB', 'Canada', 'T5K 2N1', '+1 (780) 428-9482', '+1 (780) 428-3457', 'andrew@chinookcorp.com')]}, 'Genre': {'columns': ['GenreId INTEGER (PK)', 'Name NVARCHAR(120)'], 'foreign_keys': [], 'sample_data': [(1, 'Rock')]}, 'Invoice': {'columns': ['InvoiceId INTEGER (PK)', 'CustomerId INTEGER', 'InvoiceDate DATETIME', 'BillingAddress NVARCHAR(70)', 'BillingCity NVARCHAR(40)', 'BillingState NVARCHAR(40)', 'BillingCountry NVARCHAR(40)', 'BillingPostalCode NVARCHAR(10)', 'Total NUMERIC(10,2)'], 'foreign_keys': ['CustomerId -> Customer.CustomerId'], 'sample_data': [(1, 2, '2009-01-01 00:00:00', 'Theodor-Heuss-Straße 34', 'Stuttgart', None, 'Germany', '70174', 1.98)]}, 'InvoiceLine': {'columns': ['InvoiceLineId INTEGER (PK)', 'InvoiceId INTEGER', 'TrackId INTEGER', 'UnitPrice NUMERIC(10,2)', 'Quantity INTEGER'], 'foreign_keys': ['TrackId -> Track.TrackId', 'InvoiceId -> Invoice.InvoiceId'], 'sample_data': [(1, 1, 2, 0.99, 1)]}, 'MediaType': {'columns': ['MediaTypeId INTEGER (PK)', 'Name NVARCHAR(120)'], 'foreign_keys': [], 'sample_data': [(1, 'MPEG audio file')]}, 'Playlist': {'columns': ['PlaylistId INTEGER (PK)', 'Name NVARCHAR(120)'], 'foreign_keys': [], 'sample_data': [(1, 'Music')]}, 'PlaylistTrack': {'columns': ['PlaylistId INTEGER (PK)', 'TrackId INTEGER (PK)'], 'foreign_keys': ['TrackId -> Track.TrackId', 'PlaylistId -> Playlist.PlaylistId'], 'sample_data': [(1, 3402)]}, 'Track': {'columns': ['TrackId INTEGER (PK)', 'Name NVARCHAR(200)', 'AlbumId INTEGER', 'MediaTypeId INTEGER', 'GenreId INTEGER', 'Composer NVARCHAR(220)', 'Milliseconds INTEGER', 'Bytes INTEGER', 'UnitPrice NUMERIC(10,2)'], 'foreign_keys': ['MediaTypeId -> MediaType.MediaTypeId', 'GenreId -> Genre.GenreId', 'AlbumId -> Album.AlbumId'], 'sample_data': [(1, 'For Those About To Rock (We Salute You)', 1, 1, 1, 'Angus Young, Malcolm Young, Brian Johnson', 343719, 11170334, 0.99)]}}\",\n",
       " 'question': 'In which city is the customer with the highest customer ID located?',\n",
       " 'db_dialect': 'sqlite',\n",
       " 'text': '```sql\\nSELECT City FROM Customer ORDER BY CustomerId DESC LIMIT 1;\\n```'}"
      ]
     },
     "execution_count": 35,
     "metadata": {},
     "output_type": "execute_result"
    }
   ],
   "source": [
    "output"
   ]
  },
  {
   "cell_type": "code",
   "execution_count": 28,
   "metadata": {},
   "outputs": [],
   "source": [
    "# New helper function that uses chain.invoke and updates the State\n",
    "def extract_sql_query_state(prompt_template, state: State) -> State:\n",
    "    \"\"\"\n",
    "    Uses an LLMChain to generate an SQL query from the natural language question \n",
    "    contained in the provided state. Updates the state's 'query' field with the \n",
    "    extracted SQL and sets an 'error' field if exceptions occur.\n",
    "    \"\"\"\n",
    "    chain = LLMChain(llm=llm, prompt=prompt_template)\n",
    "    \n",
    "    try:\n",
    "        # Call chain.invoke with a dictionary as input\n",
    "        output = chain.invoke({\n",
    "            \"schema_info\": state[\"schema_info\"],\n",
    "            \"question\": state[\"question\"],\n",
    "            \"db_dialect\": state[\"db_dialect\"]\n",
    "        })\n",
    "        \n",
    "        # Optionally extract the SQL statement (if extra formatting is added)\n",
    "        sql_query = extract_sql_statement(output)\n",
    "        state[\"query\"] = sql_query if sql_query else output\n",
    "        state[\"error\"] = \"\"\n",
    "    except Exception as e:\n",
    "        state[\"error\"] = str(e)\n",
    "    \n",
    "    return state\n",
    "\n",
    "# Example usage:\n",
    "\n",
    "# Assuming you have created the prompt_template and have the following variables defined:\n",
    "# schema_info_str, question, and db_dialect\n"
   ]
  },
  {
   "cell_type": "code",
   "execution_count": 29,
   "metadata": {},
   "outputs": [],
   "source": [
    "# Create an initial state\n",
    "state: State = {\n",
    "    \"schema_info\": schema_info_str,\n",
    "    \"question\": question,\n",
    "    \"db_dialect\": db_dialect,\n",
    "    \"parsed_question\": \"\",\n",
    "    \"query\": \"\",\n",
    "    \"execution_result\": \"\",\n",
    "    \"answer\": \"\",\n",
    "    \"error\": \"\"\n",
    "}"
   ]
  },
  {
   "cell_type": "code",
   "execution_count": 30,
   "metadata": {},
   "outputs": [
    {
     "name": "stdout",
     "output_type": "stream",
     "text": [
      "Generated SQL Query:\n",
      "\n",
      "Error encountered: expected string or bytes-like object, got 'dict'\n"
     ]
    }
   ],
   "source": [
    "# Invoke the chain to update the state with the generated SQL query\n",
    "state = extract_sql_query_state(prompt_template, state)\n",
    "\n",
    "print(\"Generated SQL Query:\")\n",
    "print(state[\"query\"])\n",
    "if state[\"error\"]:\n",
    "    print(\"Error encountered:\", state[\"error\"])\n"
   ]
  },
  {
   "cell_type": "code",
   "execution_count": 36,
   "metadata": {},
   "outputs": [],
   "source": [
    "# Wenn output ein Dictionary ist und den Schlüssel \"text\" enthält, verwende dessen Inhalt\n",
    "if isinstance(output, dict) and \"text\" in output:\n",
    "    sql_query = extract_sql_statement(output[\"text\"])\n",
    "else:\n",
    "    sql_query = extract_sql_statement(output)\n"
   ]
  },
  {
   "cell_type": "code",
   "execution_count": 37,
   "metadata": {},
   "outputs": [],
   "source": [
    "def extract_sql_query_state(prompt_template, state: State) -> State:\n",
    "    chain = LLMChain(llm=llm, prompt=prompt_template)\n",
    "    \n",
    "    try:\n",
    "        output = chain.invoke({\n",
    "            \"schema_info\": state[\"schema_info\"],\n",
    "            \"question\": state[\"question\"],\n",
    "            \"db_dialect\": state[\"db_dialect\"]\n",
    "        })\n",
    "        \n",
    "        # Extrahiere den SQL-Text aus dem Dictionary, falls vorhanden\n",
    "        if isinstance(output, dict) and \"text\" in output:\n",
    "            sql_query = extract_sql_statement(output[\"text\"])\n",
    "        else:\n",
    "            sql_query = extract_sql_statement(output)\n",
    "        \n",
    "        state[\"query\"] = sql_query if sql_query else output\n",
    "        state[\"error\"] = \"\"\n",
    "    except Exception as e:\n",
    "        state[\"error\"] = str(e)\n",
    "    \n",
    "    return state\n"
   ]
  },
  {
   "cell_type": "code",
   "execution_count": 38,
   "metadata": {},
   "outputs": [
    {
     "data": {
      "text/plain": [
       "{'schema_info': \"{'Album': {'columns': ['AlbumId INTEGER (PK)', 'Title NVARCHAR(160)', 'ArtistId INTEGER'], 'foreign_keys': ['ArtistId -> Artist.ArtistId'], 'sample_data': [(1, 'For Those About To Rock We Salute You', 1)]}, 'Artist': {'columns': ['ArtistId INTEGER (PK)', 'Name NVARCHAR(120)'], 'foreign_keys': [], 'sample_data': [(1, 'AC/DC')]}, 'Customer': {'columns': ['CustomerId INTEGER (PK)', 'FirstName NVARCHAR(40)', 'LastName NVARCHAR(20)', 'Company NVARCHAR(80)', 'Address NVARCHAR(70)', 'City NVARCHAR(40)', 'State NVARCHAR(40)', 'Country NVARCHAR(40)', 'PostalCode NVARCHAR(10)', 'Phone NVARCHAR(24)', 'Fax NVARCHAR(24)', 'Email NVARCHAR(60)', 'SupportRepId INTEGER'], 'foreign_keys': ['SupportRepId -> Employee.EmployeeId'], 'sample_data': [(1, 'Luís', 'Gonçalves', 'Embraer - Empresa Brasileira de Aeronáutica S.A.', 'Av. Brigadeiro Faria Lima, 2170', 'São José dos Campos', 'SP', 'Brazil', '12227-000', '+55 (12) 3923-5555', '+55 (12) 3923-5566', 'luisg@embraer.com.br', 3)]}, 'Employee': {'columns': ['EmployeeId INTEGER (PK)', 'LastName NVARCHAR(20)', 'FirstName NVARCHAR(20)', 'Title NVARCHAR(30)', 'ReportsTo INTEGER', 'BirthDate DATETIME', 'HireDate DATETIME', 'Address NVARCHAR(70)', 'City NVARCHAR(40)', 'State NVARCHAR(40)', 'Country NVARCHAR(40)', 'PostalCode NVARCHAR(10)', 'Phone NVARCHAR(24)', 'Fax NVARCHAR(24)', 'Email NVARCHAR(60)'], 'foreign_keys': ['ReportsTo -> Employee.EmployeeId'], 'sample_data': [(1, 'Adams', 'Andrew', 'General Manager', None, '1962-02-18 00:00:00', '2002-08-14 00:00:00', '11120 Jasper Ave NW', 'Edmonton', 'AB', 'Canada', 'T5K 2N1', '+1 (780) 428-9482', '+1 (780) 428-3457', 'andrew@chinookcorp.com')]}, 'Genre': {'columns': ['GenreId INTEGER (PK)', 'Name NVARCHAR(120)'], 'foreign_keys': [], 'sample_data': [(1, 'Rock')]}, 'Invoice': {'columns': ['InvoiceId INTEGER (PK)', 'CustomerId INTEGER', 'InvoiceDate DATETIME', 'BillingAddress NVARCHAR(70)', 'BillingCity NVARCHAR(40)', 'BillingState NVARCHAR(40)', 'BillingCountry NVARCHAR(40)', 'BillingPostalCode NVARCHAR(10)', 'Total NUMERIC(10,2)'], 'foreign_keys': ['CustomerId -> Customer.CustomerId'], 'sample_data': [(1, 2, '2009-01-01 00:00:00', 'Theodor-Heuss-Straße 34', 'Stuttgart', None, 'Germany', '70174', 1.98)]}, 'InvoiceLine': {'columns': ['InvoiceLineId INTEGER (PK)', 'InvoiceId INTEGER', 'TrackId INTEGER', 'UnitPrice NUMERIC(10,2)', 'Quantity INTEGER'], 'foreign_keys': ['TrackId -> Track.TrackId', 'InvoiceId -> Invoice.InvoiceId'], 'sample_data': [(1, 1, 2, 0.99, 1)]}, 'MediaType': {'columns': ['MediaTypeId INTEGER (PK)', 'Name NVARCHAR(120)'], 'foreign_keys': [], 'sample_data': [(1, 'MPEG audio file')]}, 'Playlist': {'columns': ['PlaylistId INTEGER (PK)', 'Name NVARCHAR(120)'], 'foreign_keys': [], 'sample_data': [(1, 'Music')]}, 'PlaylistTrack': {'columns': ['PlaylistId INTEGER (PK)', 'TrackId INTEGER (PK)'], 'foreign_keys': ['TrackId -> Track.TrackId', 'PlaylistId -> Playlist.PlaylistId'], 'sample_data': [(1, 3402)]}, 'Track': {'columns': ['TrackId INTEGER (PK)', 'Name NVARCHAR(200)', 'AlbumId INTEGER', 'MediaTypeId INTEGER', 'GenreId INTEGER', 'Composer NVARCHAR(220)', 'Milliseconds INTEGER', 'Bytes INTEGER', 'UnitPrice NUMERIC(10,2)'], 'foreign_keys': ['MediaTypeId -> MediaType.MediaTypeId', 'GenreId -> Genre.GenreId', 'AlbumId -> Album.AlbumId'], 'sample_data': [(1, 'For Those About To Rock (We Salute You)', 1, 1, 1, 'Angus Young, Malcolm Young, Brian Johnson', 343719, 11170334, 0.99)]}}\",\n",
       " 'question': 'In which city is the customer with the highest customer ID located?',\n",
       " 'db_dialect': 'sqlite',\n",
       " 'parsed_question': '',\n",
       " 'query': 'SELECT City FROM Customer ORDER BY CustomerId DESC LIMIT 1;',\n",
       " 'execution_result': '',\n",
       " 'answer': '',\n",
       " 'error': ''}"
      ]
     },
     "execution_count": 38,
     "metadata": {},
     "output_type": "execute_result"
    }
   ],
   "source": [
    "extract_sql_query_state(prompt_template, state)"
   ]
  }
 ],
 "metadata": {
  "kernelspec": {
   "display_name": "langchain-lernen-GE3QnVly-py3.11",
   "language": "python",
   "name": "python3"
  },
  "language_info": {
   "codemirror_mode": {
    "name": "ipython",
    "version": 3
   },
   "file_extension": ".py",
   "mimetype": "text/x-python",
   "name": "python",
   "nbconvert_exporter": "python",
   "pygments_lexer": "ipython3",
   "version": "3.11.9"
  }
 },
 "nbformat": 4,
 "nbformat_minor": 2
}
