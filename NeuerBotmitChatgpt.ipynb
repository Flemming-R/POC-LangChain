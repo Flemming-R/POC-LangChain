{
 "cells": [
  {
   "cell_type": "code",
   "execution_count": 2,
   "metadata": {},
   "outputs": [],
   "source": [
    "import sqlite3\n",
    "import langchain\n",
    "import langchain_community\n",
    "from langchain_community.utilities import SQLDatabase\n",
    "import os\n",
    "import langchain_core"
   ]
  },
  {
   "cell_type": "code",
   "execution_count": 3,
   "metadata": {},
   "outputs": [],
   "source": [
    "from Flemmings_Library.variables import db_path, db\n",
    "from Flemmings_Library.ollama import get_ollama_model_names\n",
    "\n",
    "!ollama list > nul 2>&1 # Für Windows: Ollama starten, Ausgabe der Modelle unterdrücken"
   ]
  },
  {
   "cell_type": "code",
   "execution_count": 4,
   "metadata": {},
   "outputs": [],
   "source": [
    "model_names = get_ollama_model_names(debug=False)\n",
    "db_dialect = db.dialect\n",
    "model_name = model_names[0] # Modell festlegen"
   ]
  },
  {
   "cell_type": "code",
   "execution_count": 5,
   "metadata": {},
   "outputs": [
    {
     "name": "stdout",
     "output_type": "stream",
     "text": [
      "llama3.2-vision:11b ausgewählt und geladen.\n"
     ]
    }
   ],
   "source": [
    "from langchain_ollama import ChatOllama\n",
    "\n",
    "llm = ChatOllama(\n",
    "    model=model_name,\n",
    "    temperature=0,\n",
    ")\n",
    "print(f'{model_name} ausgewählt und geladen.')"
   ]
  },
  {
   "cell_type": "markdown",
   "metadata": {},
   "source": [
    "Schema der Datenbank extrahieren"
   ]
  },
  {
   "cell_type": "code",
   "execution_count": 6,
   "metadata": {},
   "outputs": [],
   "source": [
    "from Flemmings_Library.extract import extract_schema\n",
    "\n",
    "schema = extract_schema(db_path, sample_rows=1, verbose=False)\n",
    "schema_info_str = str(schema)"
   ]
  },
  {
   "cell_type": "markdown",
   "metadata": {},
   "source": [
    "State-Klasse definieren"
   ]
  },
  {
   "cell_type": "code",
   "execution_count": 7,
   "metadata": {},
   "outputs": [],
   "source": [
    "from langchain.chains import LLMChain\n",
    "from typing_extensions import TypedDict\n",
    "\n",
    "class State(TypedDict):\n",
    "    schema_info: str\n",
    "    prompt: str\n",
    "    question: str      \n",
    "    db_dialect: str\n",
    "    query: str           \n",
    "    execution_result: str\n",
    "    answer: str\n",
    "    error: str"
   ]
  },
  {
   "cell_type": "markdown",
   "metadata": {},
   "source": [
    "Prompt-Template erstellen und State initiieren"
   ]
  },
  {
   "cell_type": "code",
   "execution_count": 24,
   "metadata": {},
   "outputs": [],
   "source": [
    "from langchain.prompts import (\n",
    "    ChatPromptTemplate,\n",
    "    SystemMessagePromptTemplate,\n",
    "    HumanMessagePromptTemplate,\n",
    ")\n",
    "from langchain_core.output_parsers import StrOutputParser"
   ]
  },
  {
   "cell_type": "code",
   "execution_count": 43,
   "metadata": {},
   "outputs": [],
   "source": [
    "question = \"List all Artists that start with the letter 'A'.\""
   ]
  },
  {
   "cell_type": "code",
   "execution_count": 44,
   "metadata": {},
   "outputs": [],
   "source": [
    "from Flemmings_Library.variables import chat_prompt_template_sql"
   ]
  },
  {
   "cell_type": "code",
   "execution_count": 45,
   "metadata": {},
   "outputs": [
    {
     "name": "stdout",
     "output_type": "stream",
     "text": [
      "System: You are a helpful SQL assistant that provides only SELECT-Statements. Based on the following database schema, translate a natural language query into an SQL query that is executable in my sqlite-Database.\n",
      "\n",
      "Database Schema:\n",
      "{'Album': {'columns': ['AlbumId INTEGER (PK)', 'Title NVARCHAR(160)', 'ArtistId INTEGER'], 'foreign_keys': ['ArtistId -> Artist.ArtistId'], 'sample_data': [(1, 'For Those About To Rock We Salute You', 1)]}, 'Artist': {'columns': ['ArtistId INTEGER (PK)', 'Name NVARCHAR(120)'], 'foreign_keys': [], 'sample_data': [(1, 'AC/DC')]}, 'Customer': {'columns': ['CustomerId INTEGER (PK)', 'FirstName NVARCHAR(40)', 'LastName NVARCHAR(20)', 'Company NVARCHAR(80)', 'Address NVARCHAR(70)', 'City NVARCHAR(40)', 'State NVARCHAR(40)', 'Country NVARCHAR(40)', 'PostalCode NVARCHAR(10)', 'Phone NVARCHAR(24)', 'Fax NVARCHAR(24)', 'Email NVARCHAR(60)', 'SupportRepId INTEGER'], 'foreign_keys': ['SupportRepId -> Employee.EmployeeId'], 'sample_data': [(1, 'Luís', 'Gonçalves', 'Embraer - Empresa Brasileira de Aeronáutica S.A.', 'Av. Brigadeiro Faria Lima, 2170', 'São José dos Campos', 'SP', 'Brazil', '12227-000', '+55 (12) 3923-5555', '+55 (12) 3923-5566', 'luisg@embraer.com.br', 3)]}, 'Employee': {'columns': ['EmployeeId INTEGER (PK)', 'LastName NVARCHAR(20)', 'FirstName NVARCHAR(20)', 'Title NVARCHAR(30)', 'ReportsTo INTEGER', 'BirthDate DATETIME', 'HireDate DATETIME', 'Address NVARCHAR(70)', 'City NVARCHAR(40)', 'State NVARCHAR(40)', 'Country NVARCHAR(40)', 'PostalCode NVARCHAR(10)', 'Phone NVARCHAR(24)', 'Fax NVARCHAR(24)', 'Email NVARCHAR(60)'], 'foreign_keys': ['ReportsTo -> Employee.EmployeeId'], 'sample_data': [(1, 'Adams', 'Andrew', 'General Manager', None, '1962-02-18 00:00:00', '2002-08-14 00:00:00', '11120 Jasper Ave NW', 'Edmonton', 'AB', 'Canada', 'T5K 2N1', '+1 (780) 428-9482', '+1 (780) 428-3457', 'andrew@chinookcorp.com')]}, 'Genre': {'columns': ['GenreId INTEGER (PK)', 'Name NVARCHAR(120)'], 'foreign_keys': [], 'sample_data': [(1, 'Rock')]}, 'Invoice': {'columns': ['InvoiceId INTEGER (PK)', 'CustomerId INTEGER', 'InvoiceDate DATETIME', 'BillingAddress NVARCHAR(70)', 'BillingCity NVARCHAR(40)', 'BillingState NVARCHAR(40)', 'BillingCountry NVARCHAR(40)', 'BillingPostalCode NVARCHAR(10)', 'Total NUMERIC(10,2)'], 'foreign_keys': ['CustomerId -> Customer.CustomerId'], 'sample_data': [(1, 2, '2009-01-01 00:00:00', 'Theodor-Heuss-Straße 34', 'Stuttgart', None, 'Germany', '70174', 1.98)]}, 'InvoiceLine': {'columns': ['InvoiceLineId INTEGER (PK)', 'InvoiceId INTEGER', 'TrackId INTEGER', 'UnitPrice NUMERIC(10,2)', 'Quantity INTEGER'], 'foreign_keys': ['TrackId -> Track.TrackId', 'InvoiceId -> Invoice.InvoiceId'], 'sample_data': [(1, 1, 2, 0.99, 1)]}, 'MediaType': {'columns': ['MediaTypeId INTEGER (PK)', 'Name NVARCHAR(120)'], 'foreign_keys': [], 'sample_data': [(1, 'MPEG audio file')]}, 'Playlist': {'columns': ['PlaylistId INTEGER (PK)', 'Name NVARCHAR(120)'], 'foreign_keys': [], 'sample_data': [(1, 'Music')]}, 'PlaylistTrack': {'columns': ['PlaylistId INTEGER (PK)', 'TrackId INTEGER (PK)'], 'foreign_keys': ['TrackId -> Track.TrackId', 'PlaylistId -> Playlist.PlaylistId'], 'sample_data': [(1, 3402)]}, 'Track': {'columns': ['TrackId INTEGER (PK)', 'Name NVARCHAR(200)', 'AlbumId INTEGER', 'MediaTypeId INTEGER', 'GenreId INTEGER', 'Composer NVARCHAR(220)', 'Milliseconds INTEGER', 'Bytes INTEGER', 'UnitPrice NUMERIC(10,2)'], 'foreign_keys': ['MediaTypeId -> MediaType.MediaTypeId', 'GenreId -> Genre.GenreId', 'AlbumId -> Album.AlbumId'], 'sample_data': [(1, 'For Those About To Rock (We Salute You)', 1, 1, 1, 'Angus Young, Malcolm Young, Brian Johnson', 343719, 11170334, 0.99)]}}\n",
      "Human: Using strictly the schema information above, please formulate the appropriate SQL query for the following question:\n",
      "Question: List all Artists that start with the letter 'A'.\n",
      "\n",
      "SQL Query:\n"
     ]
    }
   ],
   "source": [
    "formatted_prompt = chat_prompt_template_sql.format(\n",
    "    schema_info=schema_info_str,\n",
    "    question=question,\n",
    "    db_dialect=db_dialect\n",
    ")\n",
    "print(formatted_prompt)\n"
   ]
  },
  {
   "cell_type": "code",
   "execution_count": 46,
   "metadata": {},
   "outputs": [],
   "source": [
    "# initialen State festlegen\n",
    "state: State = {\n",
    "    \"schema_info\": schema_info_str,\n",
    "    \"question\": question,\n",
    "    \"db_dialect\": db.dialect,\n",
    "    \"prompt\": formatted_prompt,\n",
    "    \"query\": \"\",\n",
    "    \"execution_result\": \"\",\n",
    "    \"answer\": \"\",\n",
    "    \"error\": \"\"\n",
    "}"
   ]
  },
  {
   "cell_type": "markdown",
   "metadata": {},
   "source": [
    "Query durch LLM ausgeben lassen und ausführen"
   ]
  },
  {
   "cell_type": "code",
   "execution_count": 47,
   "metadata": {},
   "outputs": [],
   "source": [
    "from langchain_core.output_parsers import StrOutputParser\n",
    "\n",
    "chain = chat_prompt_template_sql | llm | StrOutputParser()"
   ]
  },
  {
   "cell_type": "code",
   "execution_count": 48,
   "metadata": {},
   "outputs": [],
   "source": [
    "try:\n",
    "    llm_output = chain.invoke({\n",
    "        \"schema_info\": schema_info_str,\n",
    "        \"question\": question,\n",
    "        \"db_dialect\": db.dialect\n",
    "    })\n",
    "\n",
    "    state[\"query\"] = llm_output\n",
    "    state['execution_result'] = db.run(state['query'])\n",
    "    state['error'] = None\n",
    "\n",
    "except Exception as e:\n",
    "    state['error'] = str(e)\n",
    "    state['execution_result'] = None\n"
   ]
  },
  {
   "cell_type": "code",
   "execution_count": 49,
   "metadata": {},
   "outputs": [
    {
     "data": {
      "text/plain": [
       "{'schema_info': \"{'Album': {'columns': ['AlbumId INTEGER (PK)', 'Title NVARCHAR(160)', 'ArtistId INTEGER'], 'foreign_keys': ['ArtistId -> Artist.ArtistId'], 'sample_data': [(1, 'For Those About To Rock We Salute You', 1)]}, 'Artist': {'columns': ['ArtistId INTEGER (PK)', 'Name NVARCHAR(120)'], 'foreign_keys': [], 'sample_data': [(1, 'AC/DC')]}, 'Customer': {'columns': ['CustomerId INTEGER (PK)', 'FirstName NVARCHAR(40)', 'LastName NVARCHAR(20)', 'Company NVARCHAR(80)', 'Address NVARCHAR(70)', 'City NVARCHAR(40)', 'State NVARCHAR(40)', 'Country NVARCHAR(40)', 'PostalCode NVARCHAR(10)', 'Phone NVARCHAR(24)', 'Fax NVARCHAR(24)', 'Email NVARCHAR(60)', 'SupportRepId INTEGER'], 'foreign_keys': ['SupportRepId -> Employee.EmployeeId'], 'sample_data': [(1, 'Luís', 'Gonçalves', 'Embraer - Empresa Brasileira de Aeronáutica S.A.', 'Av. Brigadeiro Faria Lima, 2170', 'São José dos Campos', 'SP', 'Brazil', '12227-000', '+55 (12) 3923-5555', '+55 (12) 3923-5566', 'luisg@embraer.com.br', 3)]}, 'Employee': {'columns': ['EmployeeId INTEGER (PK)', 'LastName NVARCHAR(20)', 'FirstName NVARCHAR(20)', 'Title NVARCHAR(30)', 'ReportsTo INTEGER', 'BirthDate DATETIME', 'HireDate DATETIME', 'Address NVARCHAR(70)', 'City NVARCHAR(40)', 'State NVARCHAR(40)', 'Country NVARCHAR(40)', 'PostalCode NVARCHAR(10)', 'Phone NVARCHAR(24)', 'Fax NVARCHAR(24)', 'Email NVARCHAR(60)'], 'foreign_keys': ['ReportsTo -> Employee.EmployeeId'], 'sample_data': [(1, 'Adams', 'Andrew', 'General Manager', None, '1962-02-18 00:00:00', '2002-08-14 00:00:00', '11120 Jasper Ave NW', 'Edmonton', 'AB', 'Canada', 'T5K 2N1', '+1 (780) 428-9482', '+1 (780) 428-3457', 'andrew@chinookcorp.com')]}, 'Genre': {'columns': ['GenreId INTEGER (PK)', 'Name NVARCHAR(120)'], 'foreign_keys': [], 'sample_data': [(1, 'Rock')]}, 'Invoice': {'columns': ['InvoiceId INTEGER (PK)', 'CustomerId INTEGER', 'InvoiceDate DATETIME', 'BillingAddress NVARCHAR(70)', 'BillingCity NVARCHAR(40)', 'BillingState NVARCHAR(40)', 'BillingCountry NVARCHAR(40)', 'BillingPostalCode NVARCHAR(10)', 'Total NUMERIC(10,2)'], 'foreign_keys': ['CustomerId -> Customer.CustomerId'], 'sample_data': [(1, 2, '2009-01-01 00:00:00', 'Theodor-Heuss-Straße 34', 'Stuttgart', None, 'Germany', '70174', 1.98)]}, 'InvoiceLine': {'columns': ['InvoiceLineId INTEGER (PK)', 'InvoiceId INTEGER', 'TrackId INTEGER', 'UnitPrice NUMERIC(10,2)', 'Quantity INTEGER'], 'foreign_keys': ['TrackId -> Track.TrackId', 'InvoiceId -> Invoice.InvoiceId'], 'sample_data': [(1, 1, 2, 0.99, 1)]}, 'MediaType': {'columns': ['MediaTypeId INTEGER (PK)', 'Name NVARCHAR(120)'], 'foreign_keys': [], 'sample_data': [(1, 'MPEG audio file')]}, 'Playlist': {'columns': ['PlaylistId INTEGER (PK)', 'Name NVARCHAR(120)'], 'foreign_keys': [], 'sample_data': [(1, 'Music')]}, 'PlaylistTrack': {'columns': ['PlaylistId INTEGER (PK)', 'TrackId INTEGER (PK)'], 'foreign_keys': ['TrackId -> Track.TrackId', 'PlaylistId -> Playlist.PlaylistId'], 'sample_data': [(1, 3402)]}, 'Track': {'columns': ['TrackId INTEGER (PK)', 'Name NVARCHAR(200)', 'AlbumId INTEGER', 'MediaTypeId INTEGER', 'GenreId INTEGER', 'Composer NVARCHAR(220)', 'Milliseconds INTEGER', 'Bytes INTEGER', 'UnitPrice NUMERIC(10,2)'], 'foreign_keys': ['MediaTypeId -> MediaType.MediaTypeId', 'GenreId -> Genre.GenreId', 'AlbumId -> Album.AlbumId'], 'sample_data': [(1, 'For Those About To Rock (We Salute You)', 1, 1, 1, 'Angus Young, Malcolm Young, Brian Johnson', 343719, 11170334, 0.99)]}}\",\n",
       " 'question': \"List all Artists that start with the letter 'A'.\",\n",
       " 'db_dialect': 'sqlite',\n",
       " 'prompt': \"System: You are a helpful SQL assistant that provides only SELECT-Statements. Based on the following database schema, translate a natural language query into an SQL query that is executable in my sqlite-Database.\\n\\nDatabase Schema:\\n{'Album': {'columns': ['AlbumId INTEGER (PK)', 'Title NVARCHAR(160)', 'ArtistId INTEGER'], 'foreign_keys': ['ArtistId -> Artist.ArtistId'], 'sample_data': [(1, 'For Those About To Rock We Salute You', 1)]}, 'Artist': {'columns': ['ArtistId INTEGER (PK)', 'Name NVARCHAR(120)'], 'foreign_keys': [], 'sample_data': [(1, 'AC/DC')]}, 'Customer': {'columns': ['CustomerId INTEGER (PK)', 'FirstName NVARCHAR(40)', 'LastName NVARCHAR(20)', 'Company NVARCHAR(80)', 'Address NVARCHAR(70)', 'City NVARCHAR(40)', 'State NVARCHAR(40)', 'Country NVARCHAR(40)', 'PostalCode NVARCHAR(10)', 'Phone NVARCHAR(24)', 'Fax NVARCHAR(24)', 'Email NVARCHAR(60)', 'SupportRepId INTEGER'], 'foreign_keys': ['SupportRepId -> Employee.EmployeeId'], 'sample_data': [(1, 'Luís', 'Gonçalves', 'Embraer - Empresa Brasileira de Aeronáutica S.A.', 'Av. Brigadeiro Faria Lima, 2170', 'São José dos Campos', 'SP', 'Brazil', '12227-000', '+55 (12) 3923-5555', '+55 (12) 3923-5566', 'luisg@embraer.com.br', 3)]}, 'Employee': {'columns': ['EmployeeId INTEGER (PK)', 'LastName NVARCHAR(20)', 'FirstName NVARCHAR(20)', 'Title NVARCHAR(30)', 'ReportsTo INTEGER', 'BirthDate DATETIME', 'HireDate DATETIME', 'Address NVARCHAR(70)', 'City NVARCHAR(40)', 'State NVARCHAR(40)', 'Country NVARCHAR(40)', 'PostalCode NVARCHAR(10)', 'Phone NVARCHAR(24)', 'Fax NVARCHAR(24)', 'Email NVARCHAR(60)'], 'foreign_keys': ['ReportsTo -> Employee.EmployeeId'], 'sample_data': [(1, 'Adams', 'Andrew', 'General Manager', None, '1962-02-18 00:00:00', '2002-08-14 00:00:00', '11120 Jasper Ave NW', 'Edmonton', 'AB', 'Canada', 'T5K 2N1', '+1 (780) 428-9482', '+1 (780) 428-3457', 'andrew@chinookcorp.com')]}, 'Genre': {'columns': ['GenreId INTEGER (PK)', 'Name NVARCHAR(120)'], 'foreign_keys': [], 'sample_data': [(1, 'Rock')]}, 'Invoice': {'columns': ['InvoiceId INTEGER (PK)', 'CustomerId INTEGER', 'InvoiceDate DATETIME', 'BillingAddress NVARCHAR(70)', 'BillingCity NVARCHAR(40)', 'BillingState NVARCHAR(40)', 'BillingCountry NVARCHAR(40)', 'BillingPostalCode NVARCHAR(10)', 'Total NUMERIC(10,2)'], 'foreign_keys': ['CustomerId -> Customer.CustomerId'], 'sample_data': [(1, 2, '2009-01-01 00:00:00', 'Theodor-Heuss-Straße 34', 'Stuttgart', None, 'Germany', '70174', 1.98)]}, 'InvoiceLine': {'columns': ['InvoiceLineId INTEGER (PK)', 'InvoiceId INTEGER', 'TrackId INTEGER', 'UnitPrice NUMERIC(10,2)', 'Quantity INTEGER'], 'foreign_keys': ['TrackId -> Track.TrackId', 'InvoiceId -> Invoice.InvoiceId'], 'sample_data': [(1, 1, 2, 0.99, 1)]}, 'MediaType': {'columns': ['MediaTypeId INTEGER (PK)', 'Name NVARCHAR(120)'], 'foreign_keys': [], 'sample_data': [(1, 'MPEG audio file')]}, 'Playlist': {'columns': ['PlaylistId INTEGER (PK)', 'Name NVARCHAR(120)'], 'foreign_keys': [], 'sample_data': [(1, 'Music')]}, 'PlaylistTrack': {'columns': ['PlaylistId INTEGER (PK)', 'TrackId INTEGER (PK)'], 'foreign_keys': ['TrackId -> Track.TrackId', 'PlaylistId -> Playlist.PlaylistId'], 'sample_data': [(1, 3402)]}, 'Track': {'columns': ['TrackId INTEGER (PK)', 'Name NVARCHAR(200)', 'AlbumId INTEGER', 'MediaTypeId INTEGER', 'GenreId INTEGER', 'Composer NVARCHAR(220)', 'Milliseconds INTEGER', 'Bytes INTEGER', 'UnitPrice NUMERIC(10,2)'], 'foreign_keys': ['MediaTypeId -> MediaType.MediaTypeId', 'GenreId -> Genre.GenreId', 'AlbumId -> Album.AlbumId'], 'sample_data': [(1, 'For Those About To Rock (We Salute You)', 1, 1, 1, 'Angus Young, Malcolm Young, Brian Johnson', 343719, 11170334, 0.99)]}}\\nHuman: Using strictly the schema information above, please formulate the appropriate SQL query for the following question:\\nQuestion: List all Artists that start with the letter 'A'.\\n\\nSQL Query:\",\n",
       " 'query': \"SELECT Name FROM Artist WHERE Name LIKE 'A%'\",\n",
       " 'execution_result': '[(\\'AC/DC\\',), (\\'Accept\\',), (\\'Aerosmith\\',), (\\'Alanis Morissette\\',), (\\'Alice In Chains\\',), (\\'Antônio Carlos Jobim\\',), (\\'Apocalyptica\\',), (\\'Audioslave\\',), (\\'Azymuth\\',), (\\'A Cor Do Som\\',), (\\'Aquaman\\',), (\"Aerosmith & Sierra Leone\\'s Refugee Allstars\",), (\\'Avril Lavigne\\',), (\\'Aisha Duo\\',), (\\'Aaron Goldberg\\',), (\\'Alberto Turco & Nova Schola Gregoriana\\',), (\\'Anne-Sophie Mutter, Herbert Von Karajan & Wiener Philharmoniker\\',), (\\'Academy of St. Martin in the Fields & Sir Neville Marriner\\',), (\\'Academy of St. Martin in the Fields Chamber Ensemble & Sir Neville Marriner\\',), (\\'Academy of St. Martin in the Fields, John Birch, Sir Neville Marriner & Sylvia McNair\\',), (\\'Aaron Copland & London Symphony Orchestra\\',), (\\'Academy of St. Martin in the Fields, Sir Neville Marriner & William Bennett\\',), (\\'Antal Doráti & London Symphony Orchestra\\',), (\\'Amy Winehouse\\',), (\\'Academy of St. Martin in the Fields, Sir Neville Marriner & Thurston Dart\\',), (\\'Adrian Leaper & Doreen de Feis\\',)]',\n",
       " 'answer': '',\n",
       " 'error': None}"
      ]
     },
     "execution_count": 49,
     "metadata": {},
     "output_type": "execute_result"
    }
   ],
   "source": [
    "state"
   ]
  },
  {
   "cell_type": "markdown",
   "metadata": {},
   "source": [
    "Error-Handler-LLM, falls es zuvor einen Error gab"
   ]
  },
  {
   "cell_type": "code",
   "execution_count": 37,
   "metadata": {},
   "outputs": [],
   "source": [
    "from Flemmings_Library.variables import prompt_sql_fix_template"
   ]
  },
  {
   "cell_type": "code",
   "execution_count": 38,
   "metadata": {},
   "outputs": [
    {
     "name": "stdout",
     "output_type": "stream",
     "text": [
      "System: You are a helpful SQL assistant and you will help me to fix my SQL query for my sqlite-Database. I will show you the database schema, the question and the error that I got.\n",
      "Please only answer based on the provided information.\n",
      "\n",
      "Human: User Question: What City is the Customer with the highest ID from?\n",
      "SQL Query: SELECT T2.City FROM Customer AS T1 INNER JOIN Address AS T2 ON T1.AddressId = T2.AddressId WHERE T1.CustomerId = ( SELECT MAX(CustomerId) FROM Customer )\n",
      "Error: (sqlite3.OperationalError) no such table: Address\n",
      "[SQL: SELECT T2.City FROM Customer AS T1 INNER JOIN Address AS T2 ON T1.AddressId = T2.AddressId WHERE T1.CustomerId = ( SELECT MAX(CustomerId) FROM Customer )]\n",
      "(Background on this error at: https://sqlalche.me/e/20/e3q8)\n",
      "Database-Schema: {'Album': {'columns': ['AlbumId INTEGER (PK)', 'Title NVARCHAR(160)', 'ArtistId INTEGER'], 'foreign_keys': ['ArtistId -> Artist.ArtistId'], 'sample_data': [(1, 'For Those About To Rock We Salute You', 1)]}, 'Artist': {'columns': ['ArtistId INTEGER (PK)', 'Name NVARCHAR(120)'], 'foreign_keys': [], 'sample_data': [(1, 'AC/DC')]}, 'Customer': {'columns': ['CustomerId INTEGER (PK)', 'FirstName NVARCHAR(40)', 'LastName NVARCHAR(20)', 'Company NVARCHAR(80)', 'Address NVARCHAR(70)', 'City NVARCHAR(40)', 'State NVARCHAR(40)', 'Country NVARCHAR(40)', 'PostalCode NVARCHAR(10)', 'Phone NVARCHAR(24)', 'Fax NVARCHAR(24)', 'Email NVARCHAR(60)', 'SupportRepId INTEGER'], 'foreign_keys': ['SupportRepId -> Employee.EmployeeId'], 'sample_data': [(1, 'Luís', 'Gonçalves', 'Embraer - Empresa Brasileira de Aeronáutica S.A.', 'Av. Brigadeiro Faria Lima, 2170', 'São José dos Campos', 'SP', 'Brazil', '12227-000', '+55 (12) 3923-5555', '+55 (12) 3923-5566', 'luisg@embraer.com.br', 3)]}, 'Employee': {'columns': ['EmployeeId INTEGER (PK)', 'LastName NVARCHAR(20)', 'FirstName NVARCHAR(20)', 'Title NVARCHAR(30)', 'ReportsTo INTEGER', 'BirthDate DATETIME', 'HireDate DATETIME', 'Address NVARCHAR(70)', 'City NVARCHAR(40)', 'State NVARCHAR(40)', 'Country NVARCHAR(40)', 'PostalCode NVARCHAR(10)', 'Phone NVARCHAR(24)', 'Fax NVARCHAR(24)', 'Email NVARCHAR(60)'], 'foreign_keys': ['ReportsTo -> Employee.EmployeeId'], 'sample_data': [(1, 'Adams', 'Andrew', 'General Manager', None, '1962-02-18 00:00:00', '2002-08-14 00:00:00', '11120 Jasper Ave NW', 'Edmonton', 'AB', 'Canada', 'T5K 2N1', '+1 (780) 428-9482', '+1 (780) 428-3457', 'andrew@chinookcorp.com')]}, 'Genre': {'columns': ['GenreId INTEGER (PK)', 'Name NVARCHAR(120)'], 'foreign_keys': [], 'sample_data': [(1, 'Rock')]}, 'Invoice': {'columns': ['InvoiceId INTEGER (PK)', 'CustomerId INTEGER', 'InvoiceDate DATETIME', 'BillingAddress NVARCHAR(70)', 'BillingCity NVARCHAR(40)', 'BillingState NVARCHAR(40)', 'BillingCountry NVARCHAR(40)', 'BillingPostalCode NVARCHAR(10)', 'Total NUMERIC(10,2)'], 'foreign_keys': ['CustomerId -> Customer.CustomerId'], 'sample_data': [(1, 2, '2009-01-01 00:00:00', 'Theodor-Heuss-Straße 34', 'Stuttgart', None, 'Germany', '70174', 1.98)]}, 'InvoiceLine': {'columns': ['InvoiceLineId INTEGER (PK)', 'InvoiceId INTEGER', 'TrackId INTEGER', 'UnitPrice NUMERIC(10,2)', 'Quantity INTEGER'], 'foreign_keys': ['TrackId -> Track.TrackId', 'InvoiceId -> Invoice.InvoiceId'], 'sample_data': [(1, 1, 2, 0.99, 1)]}, 'MediaType': {'columns': ['MediaTypeId INTEGER (PK)', 'Name NVARCHAR(120)'], 'foreign_keys': [], 'sample_data': [(1, 'MPEG audio file')]}, 'Playlist': {'columns': ['PlaylistId INTEGER (PK)', 'Name NVARCHAR(120)'], 'foreign_keys': [], 'sample_data': [(1, 'Music')]}, 'PlaylistTrack': {'columns': ['PlaylistId INTEGER (PK)', 'TrackId INTEGER (PK)'], 'foreign_keys': ['TrackId -> Track.TrackId', 'PlaylistId -> Playlist.PlaylistId'], 'sample_data': [(1, 3402)]}, 'Track': {'columns': ['TrackId INTEGER (PK)', 'Name NVARCHAR(200)', 'AlbumId INTEGER', 'MediaTypeId INTEGER', 'GenreId INTEGER', 'Composer NVARCHAR(220)', 'Milliseconds INTEGER', 'Bytes INTEGER', 'UnitPrice NUMERIC(10,2)'], 'foreign_keys': ['MediaTypeId -> MediaType.MediaTypeId', 'GenreId -> Genre.GenreId', 'AlbumId -> Album.AlbumId'], 'sample_data': [(1, 'For Those About To Rock (We Salute You)', 1, 1, 1, 'Angus Young, Malcolm Young, Brian Johnson', 343719, 11170334, 0.99)]}}\n",
      "\n"
     ]
    }
   ],
   "source": [
    "formatted_prompt_sql_fix = prompt_sql_fix_template.format(\n",
    "    schema_info=state[\"schema_info\"],\n",
    "    question=state[\"question\"],\n",
    "    query=state[\"query\"],\n",
    "    error=state[\"error\"],\n",
    "    db_dialect=state[\"db_dialect\"]\n",
    ")\n",
    "\n",
    "print(formatted_prompt_sql_fix)"
   ]
  },
  {
   "cell_type": "code",
   "execution_count": 39,
   "metadata": {},
   "outputs": [],
   "source": [
    "chain_sql_fix = prompt_sql_fix_template | llm | StrOutputParser()"
   ]
  },
  {
   "cell_type": "code",
   "execution_count": 40,
   "metadata": {},
   "outputs": [],
   "source": [
    "llm_answer = chain_sql_fix.invoke({\n",
    "            \"db_dialect\": state[\"db_dialect\"],\n",
    "            \"schema_info\": state[\"schema_info\"],\n",
    "            \"question\": state[\"question\"],\n",
    "            \"query\": state[\"query\"],\n",
    "            \"error\": state[\"error\"]\n",
    "        })\n",
    "\n",
    "state[\"answer\"] = llm_answer"
   ]
  },
  {
   "cell_type": "code",
   "execution_count": 41,
   "metadata": {},
   "outputs": [
    {
     "data": {
      "text/plain": [
       "{'schema_info': \"{'Album': {'columns': ['AlbumId INTEGER (PK)', 'Title NVARCHAR(160)', 'ArtistId INTEGER'], 'foreign_keys': ['ArtistId -> Artist.ArtistId'], 'sample_data': [(1, 'For Those About To Rock We Salute You', 1)]}, 'Artist': {'columns': ['ArtistId INTEGER (PK)', 'Name NVARCHAR(120)'], 'foreign_keys': [], 'sample_data': [(1, 'AC/DC')]}, 'Customer': {'columns': ['CustomerId INTEGER (PK)', 'FirstName NVARCHAR(40)', 'LastName NVARCHAR(20)', 'Company NVARCHAR(80)', 'Address NVARCHAR(70)', 'City NVARCHAR(40)', 'State NVARCHAR(40)', 'Country NVARCHAR(40)', 'PostalCode NVARCHAR(10)', 'Phone NVARCHAR(24)', 'Fax NVARCHAR(24)', 'Email NVARCHAR(60)', 'SupportRepId INTEGER'], 'foreign_keys': ['SupportRepId -> Employee.EmployeeId'], 'sample_data': [(1, 'Luís', 'Gonçalves', 'Embraer - Empresa Brasileira de Aeronáutica S.A.', 'Av. Brigadeiro Faria Lima, 2170', 'São José dos Campos', 'SP', 'Brazil', '12227-000', '+55 (12) 3923-5555', '+55 (12) 3923-5566', 'luisg@embraer.com.br', 3)]}, 'Employee': {'columns': ['EmployeeId INTEGER (PK)', 'LastName NVARCHAR(20)', 'FirstName NVARCHAR(20)', 'Title NVARCHAR(30)', 'ReportsTo INTEGER', 'BirthDate DATETIME', 'HireDate DATETIME', 'Address NVARCHAR(70)', 'City NVARCHAR(40)', 'State NVARCHAR(40)', 'Country NVARCHAR(40)', 'PostalCode NVARCHAR(10)', 'Phone NVARCHAR(24)', 'Fax NVARCHAR(24)', 'Email NVARCHAR(60)'], 'foreign_keys': ['ReportsTo -> Employee.EmployeeId'], 'sample_data': [(1, 'Adams', 'Andrew', 'General Manager', None, '1962-02-18 00:00:00', '2002-08-14 00:00:00', '11120 Jasper Ave NW', 'Edmonton', 'AB', 'Canada', 'T5K 2N1', '+1 (780) 428-9482', '+1 (780) 428-3457', 'andrew@chinookcorp.com')]}, 'Genre': {'columns': ['GenreId INTEGER (PK)', 'Name NVARCHAR(120)'], 'foreign_keys': [], 'sample_data': [(1, 'Rock')]}, 'Invoice': {'columns': ['InvoiceId INTEGER (PK)', 'CustomerId INTEGER', 'InvoiceDate DATETIME', 'BillingAddress NVARCHAR(70)', 'BillingCity NVARCHAR(40)', 'BillingState NVARCHAR(40)', 'BillingCountry NVARCHAR(40)', 'BillingPostalCode NVARCHAR(10)', 'Total NUMERIC(10,2)'], 'foreign_keys': ['CustomerId -> Customer.CustomerId'], 'sample_data': [(1, 2, '2009-01-01 00:00:00', 'Theodor-Heuss-Straße 34', 'Stuttgart', None, 'Germany', '70174', 1.98)]}, 'InvoiceLine': {'columns': ['InvoiceLineId INTEGER (PK)', 'InvoiceId INTEGER', 'TrackId INTEGER', 'UnitPrice NUMERIC(10,2)', 'Quantity INTEGER'], 'foreign_keys': ['TrackId -> Track.TrackId', 'InvoiceId -> Invoice.InvoiceId'], 'sample_data': [(1, 1, 2, 0.99, 1)]}, 'MediaType': {'columns': ['MediaTypeId INTEGER (PK)', 'Name NVARCHAR(120)'], 'foreign_keys': [], 'sample_data': [(1, 'MPEG audio file')]}, 'Playlist': {'columns': ['PlaylistId INTEGER (PK)', 'Name NVARCHAR(120)'], 'foreign_keys': [], 'sample_data': [(1, 'Music')]}, 'PlaylistTrack': {'columns': ['PlaylistId INTEGER (PK)', 'TrackId INTEGER (PK)'], 'foreign_keys': ['TrackId -> Track.TrackId', 'PlaylistId -> Playlist.PlaylistId'], 'sample_data': [(1, 3402)]}, 'Track': {'columns': ['TrackId INTEGER (PK)', 'Name NVARCHAR(200)', 'AlbumId INTEGER', 'MediaTypeId INTEGER', 'GenreId INTEGER', 'Composer NVARCHAR(220)', 'Milliseconds INTEGER', 'Bytes INTEGER', 'UnitPrice NUMERIC(10,2)'], 'foreign_keys': ['MediaTypeId -> MediaType.MediaTypeId', 'GenreId -> Genre.GenreId', 'AlbumId -> Album.AlbumId'], 'sample_data': [(1, 'For Those About To Rock (We Salute You)', 1, 1, 1, 'Angus Young, Malcolm Young, Brian Johnson', 343719, 11170334, 0.99)]}}\",\n",
       " 'question': 'What City is the Customer with the highest ID from?',\n",
       " 'db_dialect': 'sqlite',\n",
       " 'prompt': \"System: You are a helpful SQL assistant that provides only SELECT-Statements. Based on the following database schema, translate a natural language query into an SQL query that is executable in my sqlite-Database.\\n\\nDatabase Schema:\\n{'Album': {'columns': ['AlbumId INTEGER (PK)', 'Title NVARCHAR(160)', 'ArtistId INTEGER'], 'foreign_keys': ['ArtistId -> Artist.ArtistId'], 'sample_data': [(1, 'For Those About To Rock We Salute You', 1)]}, 'Artist': {'columns': ['ArtistId INTEGER (PK)', 'Name NVARCHAR(120)'], 'foreign_keys': [], 'sample_data': [(1, 'AC/DC')]}, 'Customer': {'columns': ['CustomerId INTEGER (PK)', 'FirstName NVARCHAR(40)', 'LastName NVARCHAR(20)', 'Company NVARCHAR(80)', 'Address NVARCHAR(70)', 'City NVARCHAR(40)', 'State NVARCHAR(40)', 'Country NVARCHAR(40)', 'PostalCode NVARCHAR(10)', 'Phone NVARCHAR(24)', 'Fax NVARCHAR(24)', 'Email NVARCHAR(60)', 'SupportRepId INTEGER'], 'foreign_keys': ['SupportRepId -> Employee.EmployeeId'], 'sample_data': [(1, 'Luís', 'Gonçalves', 'Embraer - Empresa Brasileira de Aeronáutica S.A.', 'Av. Brigadeiro Faria Lima, 2170', 'São José dos Campos', 'SP', 'Brazil', '12227-000', '+55 (12) 3923-5555', '+55 (12) 3923-5566', 'luisg@embraer.com.br', 3)]}, 'Employee': {'columns': ['EmployeeId INTEGER (PK)', 'LastName NVARCHAR(20)', 'FirstName NVARCHAR(20)', 'Title NVARCHAR(30)', 'ReportsTo INTEGER', 'BirthDate DATETIME', 'HireDate DATETIME', 'Address NVARCHAR(70)', 'City NVARCHAR(40)', 'State NVARCHAR(40)', 'Country NVARCHAR(40)', 'PostalCode NVARCHAR(10)', 'Phone NVARCHAR(24)', 'Fax NVARCHAR(24)', 'Email NVARCHAR(60)'], 'foreign_keys': ['ReportsTo -> Employee.EmployeeId'], 'sample_data': [(1, 'Adams', 'Andrew', 'General Manager', None, '1962-02-18 00:00:00', '2002-08-14 00:00:00', '11120 Jasper Ave NW', 'Edmonton', 'AB', 'Canada', 'T5K 2N1', '+1 (780) 428-9482', '+1 (780) 428-3457', 'andrew@chinookcorp.com')]}, 'Genre': {'columns': ['GenreId INTEGER (PK)', 'Name NVARCHAR(120)'], 'foreign_keys': [], 'sample_data': [(1, 'Rock')]}, 'Invoice': {'columns': ['InvoiceId INTEGER (PK)', 'CustomerId INTEGER', 'InvoiceDate DATETIME', 'BillingAddress NVARCHAR(70)', 'BillingCity NVARCHAR(40)', 'BillingState NVARCHAR(40)', 'BillingCountry NVARCHAR(40)', 'BillingPostalCode NVARCHAR(10)', 'Total NUMERIC(10,2)'], 'foreign_keys': ['CustomerId -> Customer.CustomerId'], 'sample_data': [(1, 2, '2009-01-01 00:00:00', 'Theodor-Heuss-Straße 34', 'Stuttgart', None, 'Germany', '70174', 1.98)]}, 'InvoiceLine': {'columns': ['InvoiceLineId INTEGER (PK)', 'InvoiceId INTEGER', 'TrackId INTEGER', 'UnitPrice NUMERIC(10,2)', 'Quantity INTEGER'], 'foreign_keys': ['TrackId -> Track.TrackId', 'InvoiceId -> Invoice.InvoiceId'], 'sample_data': [(1, 1, 2, 0.99, 1)]}, 'MediaType': {'columns': ['MediaTypeId INTEGER (PK)', 'Name NVARCHAR(120)'], 'foreign_keys': [], 'sample_data': [(1, 'MPEG audio file')]}, 'Playlist': {'columns': ['PlaylistId INTEGER (PK)', 'Name NVARCHAR(120)'], 'foreign_keys': [], 'sample_data': [(1, 'Music')]}, 'PlaylistTrack': {'columns': ['PlaylistId INTEGER (PK)', 'TrackId INTEGER (PK)'], 'foreign_keys': ['TrackId -> Track.TrackId', 'PlaylistId -> Playlist.PlaylistId'], 'sample_data': [(1, 3402)]}, 'Track': {'columns': ['TrackId INTEGER (PK)', 'Name NVARCHAR(200)', 'AlbumId INTEGER', 'MediaTypeId INTEGER', 'GenreId INTEGER', 'Composer NVARCHAR(220)', 'Milliseconds INTEGER', 'Bytes INTEGER', 'UnitPrice NUMERIC(10,2)'], 'foreign_keys': ['MediaTypeId -> MediaType.MediaTypeId', 'GenreId -> Genre.GenreId', 'AlbumId -> Album.AlbumId'], 'sample_data': [(1, 'For Those About To Rock (We Salute You)', 1, 1, 1, 'Angus Young, Malcolm Young, Brian Johnson', 343719, 11170334, 0.99)]}}\\nHuman: Using strictly the schema information above, please formulate the appropriate SQL query for the following question:\\nQuestion: What City is the Customer with the highest ID from?\\n\\nSQL Query:\",\n",
       " 'query': 'SELECT T2.City FROM Customer AS T1 INNER JOIN Address AS T2 ON T1.AddressId = T2.AddressId WHERE T1.CustomerId = ( SELECT MAX(CustomerId) FROM Customer )',\n",
       " 'execution_result': None,\n",
       " 'answer': 'The error message indicates that the table \"Address\" does not exist in your database schema.\\n\\nHowever, according to your database schema, there is a column named \"Address\" in the \"Customer\" table, but it seems like you are trying to join this column with an \"Address\" table. \\n\\nTo fix this issue, you should either remove the \"Address\" table from your query or replace it with the correct table that contains the address information.\\n\\nHere\\'s how you can modify your query:\\n\\n```sql\\nSELECT T1.Address AS City \\nFROM Customer AS T1 \\nWHERE T1.CustomerId = ( SELECT MAX(CustomerId) FROM Customer )\\n```\\n\\nThis will return the city of the customer with the highest ID.',\n",
       " 'error': '(sqlite3.OperationalError) no such table: Address\\n[SQL: SELECT T2.City FROM Customer AS T1 INNER JOIN Address AS T2 ON T1.AddressId = T2.AddressId WHERE T1.CustomerId = ( SELECT MAX(CustomerId) FROM Customer )]\\n(Background on this error at: https://sqlalche.me/e/20/e3q8)'}"
      ]
     },
     "execution_count": 41,
     "metadata": {},
     "output_type": "execute_result"
    }
   ],
   "source": [
    "state"
   ]
  },
  {
   "cell_type": "markdown",
   "metadata": {},
   "source": [
    "Antwort des Modells in Textform"
   ]
  },
  {
   "cell_type": "code",
   "execution_count": 50,
   "metadata": {},
   "outputs": [],
   "source": [
    "from Flemmings_Library.variables import answer_prompt_template"
   ]
  },
  {
   "cell_type": "code",
   "execution_count": 51,
   "metadata": {},
   "outputs": [
    {
     "name": "stdout",
     "output_type": "stream",
     "text": [
      "System: You are a helpful SQL assistant. Based on the SQL query and its execution result, provide a concise final answer to the user's question.\n",
      "Human: User Question: List all Artists that start with the letter 'A'.\n",
      "SQL Query: SELECT Name FROM Artist WHERE Name LIKE 'A%'\n",
      "Execution Result: [('AC/DC',), ('Accept',), ('Aerosmith',), ('Alanis Morissette',), ('Alice In Chains',), ('Antônio Carlos Jobim',), ('Apocalyptica',), ('Audioslave',), ('Azymuth',), ('A Cor Do Som',), ('Aquaman',), (\"Aerosmith & Sierra Leone's Refugee Allstars\",), ('Avril Lavigne',), ('Aisha Duo',), ('Aaron Goldberg',), ('Alberto Turco & Nova Schola Gregoriana',), ('Anne-Sophie Mutter, Herbert Von Karajan & Wiener Philharmoniker',), ('Academy of St. Martin in the Fields & Sir Neville Marriner',), ('Academy of St. Martin in the Fields Chamber Ensemble & Sir Neville Marriner',), ('Academy of St. Martin in the Fields, John Birch, Sir Neville Marriner & Sylvia McNair',), ('Aaron Copland & London Symphony Orchestra',), ('Academy of St. Martin in the Fields, Sir Neville Marriner & William Bennett',), ('Antal Doráti & London Symphony Orchestra',), ('Amy Winehouse',), ('Academy of St. Martin in the Fields, Sir Neville Marriner & Thurston Dart',), ('Adrian Leaper & Doreen de Feis',)]\n",
      "\n",
      "Please provide your final answer:\n"
     ]
    }
   ],
   "source": [
    "formatted_answer_prompt = answer_prompt_template.format(\n",
    "    question=state[\"question\"],\n",
    "    query=state[\"query\"],\n",
    "    execution_result=state[\"execution_result\"]\n",
    ")\n",
    "\n",
    "print(formatted_answer_prompt)"
   ]
  },
  {
   "cell_type": "code",
   "execution_count": 52,
   "metadata": {},
   "outputs": [],
   "source": [
    "chain_answer = answer_prompt_template | llm | StrOutputParser()"
   ]
  },
  {
   "cell_type": "code",
   "execution_count": 53,
   "metadata": {},
   "outputs": [],
   "source": [
    "llm_answer = chain_answer.invoke({\n",
    "            \"schema_info\": state[\"schema_info\"],\n",
    "            \"question\": state[\"question\"],\n",
    "            \"query\": state[\"query\"],\n",
    "            \"execution_result\": state[\"execution_result\"]\n",
    "        })\n",
    "\n",
    "state[\"answer\"] = llm_answer"
   ]
  },
  {
   "cell_type": "code",
   "execution_count": 54,
   "metadata": {},
   "outputs": [
    {
     "data": {
      "text/plain": [
       "{'schema_info': \"{'Album': {'columns': ['AlbumId INTEGER (PK)', 'Title NVARCHAR(160)', 'ArtistId INTEGER'], 'foreign_keys': ['ArtistId -> Artist.ArtistId'], 'sample_data': [(1, 'For Those About To Rock We Salute You', 1)]}, 'Artist': {'columns': ['ArtistId INTEGER (PK)', 'Name NVARCHAR(120)'], 'foreign_keys': [], 'sample_data': [(1, 'AC/DC')]}, 'Customer': {'columns': ['CustomerId INTEGER (PK)', 'FirstName NVARCHAR(40)', 'LastName NVARCHAR(20)', 'Company NVARCHAR(80)', 'Address NVARCHAR(70)', 'City NVARCHAR(40)', 'State NVARCHAR(40)', 'Country NVARCHAR(40)', 'PostalCode NVARCHAR(10)', 'Phone NVARCHAR(24)', 'Fax NVARCHAR(24)', 'Email NVARCHAR(60)', 'SupportRepId INTEGER'], 'foreign_keys': ['SupportRepId -> Employee.EmployeeId'], 'sample_data': [(1, 'Luís', 'Gonçalves', 'Embraer - Empresa Brasileira de Aeronáutica S.A.', 'Av. Brigadeiro Faria Lima, 2170', 'São José dos Campos', 'SP', 'Brazil', '12227-000', '+55 (12) 3923-5555', '+55 (12) 3923-5566', 'luisg@embraer.com.br', 3)]}, 'Employee': {'columns': ['EmployeeId INTEGER (PK)', 'LastName NVARCHAR(20)', 'FirstName NVARCHAR(20)', 'Title NVARCHAR(30)', 'ReportsTo INTEGER', 'BirthDate DATETIME', 'HireDate DATETIME', 'Address NVARCHAR(70)', 'City NVARCHAR(40)', 'State NVARCHAR(40)', 'Country NVARCHAR(40)', 'PostalCode NVARCHAR(10)', 'Phone NVARCHAR(24)', 'Fax NVARCHAR(24)', 'Email NVARCHAR(60)'], 'foreign_keys': ['ReportsTo -> Employee.EmployeeId'], 'sample_data': [(1, 'Adams', 'Andrew', 'General Manager', None, '1962-02-18 00:00:00', '2002-08-14 00:00:00', '11120 Jasper Ave NW', 'Edmonton', 'AB', 'Canada', 'T5K 2N1', '+1 (780) 428-9482', '+1 (780) 428-3457', 'andrew@chinookcorp.com')]}, 'Genre': {'columns': ['GenreId INTEGER (PK)', 'Name NVARCHAR(120)'], 'foreign_keys': [], 'sample_data': [(1, 'Rock')]}, 'Invoice': {'columns': ['InvoiceId INTEGER (PK)', 'CustomerId INTEGER', 'InvoiceDate DATETIME', 'BillingAddress NVARCHAR(70)', 'BillingCity NVARCHAR(40)', 'BillingState NVARCHAR(40)', 'BillingCountry NVARCHAR(40)', 'BillingPostalCode NVARCHAR(10)', 'Total NUMERIC(10,2)'], 'foreign_keys': ['CustomerId -> Customer.CustomerId'], 'sample_data': [(1, 2, '2009-01-01 00:00:00', 'Theodor-Heuss-Straße 34', 'Stuttgart', None, 'Germany', '70174', 1.98)]}, 'InvoiceLine': {'columns': ['InvoiceLineId INTEGER (PK)', 'InvoiceId INTEGER', 'TrackId INTEGER', 'UnitPrice NUMERIC(10,2)', 'Quantity INTEGER'], 'foreign_keys': ['TrackId -> Track.TrackId', 'InvoiceId -> Invoice.InvoiceId'], 'sample_data': [(1, 1, 2, 0.99, 1)]}, 'MediaType': {'columns': ['MediaTypeId INTEGER (PK)', 'Name NVARCHAR(120)'], 'foreign_keys': [], 'sample_data': [(1, 'MPEG audio file')]}, 'Playlist': {'columns': ['PlaylistId INTEGER (PK)', 'Name NVARCHAR(120)'], 'foreign_keys': [], 'sample_data': [(1, 'Music')]}, 'PlaylistTrack': {'columns': ['PlaylistId INTEGER (PK)', 'TrackId INTEGER (PK)'], 'foreign_keys': ['TrackId -> Track.TrackId', 'PlaylistId -> Playlist.PlaylistId'], 'sample_data': [(1, 3402)]}, 'Track': {'columns': ['TrackId INTEGER (PK)', 'Name NVARCHAR(200)', 'AlbumId INTEGER', 'MediaTypeId INTEGER', 'GenreId INTEGER', 'Composer NVARCHAR(220)', 'Milliseconds INTEGER', 'Bytes INTEGER', 'UnitPrice NUMERIC(10,2)'], 'foreign_keys': ['MediaTypeId -> MediaType.MediaTypeId', 'GenreId -> Genre.GenreId', 'AlbumId -> Album.AlbumId'], 'sample_data': [(1, 'For Those About To Rock (We Salute You)', 1, 1, 1, 'Angus Young, Malcolm Young, Brian Johnson', 343719, 11170334, 0.99)]}}\",\n",
       " 'question': \"List all Artists that start with the letter 'A'.\",\n",
       " 'db_dialect': 'sqlite',\n",
       " 'prompt': \"System: You are a helpful SQL assistant that provides only SELECT-Statements. Based on the following database schema, translate a natural language query into an SQL query that is executable in my sqlite-Database.\\n\\nDatabase Schema:\\n{'Album': {'columns': ['AlbumId INTEGER (PK)', 'Title NVARCHAR(160)', 'ArtistId INTEGER'], 'foreign_keys': ['ArtistId -> Artist.ArtistId'], 'sample_data': [(1, 'For Those About To Rock We Salute You', 1)]}, 'Artist': {'columns': ['ArtistId INTEGER (PK)', 'Name NVARCHAR(120)'], 'foreign_keys': [], 'sample_data': [(1, 'AC/DC')]}, 'Customer': {'columns': ['CustomerId INTEGER (PK)', 'FirstName NVARCHAR(40)', 'LastName NVARCHAR(20)', 'Company NVARCHAR(80)', 'Address NVARCHAR(70)', 'City NVARCHAR(40)', 'State NVARCHAR(40)', 'Country NVARCHAR(40)', 'PostalCode NVARCHAR(10)', 'Phone NVARCHAR(24)', 'Fax NVARCHAR(24)', 'Email NVARCHAR(60)', 'SupportRepId INTEGER'], 'foreign_keys': ['SupportRepId -> Employee.EmployeeId'], 'sample_data': [(1, 'Luís', 'Gonçalves', 'Embraer - Empresa Brasileira de Aeronáutica S.A.', 'Av. Brigadeiro Faria Lima, 2170', 'São José dos Campos', 'SP', 'Brazil', '12227-000', '+55 (12) 3923-5555', '+55 (12) 3923-5566', 'luisg@embraer.com.br', 3)]}, 'Employee': {'columns': ['EmployeeId INTEGER (PK)', 'LastName NVARCHAR(20)', 'FirstName NVARCHAR(20)', 'Title NVARCHAR(30)', 'ReportsTo INTEGER', 'BirthDate DATETIME', 'HireDate DATETIME', 'Address NVARCHAR(70)', 'City NVARCHAR(40)', 'State NVARCHAR(40)', 'Country NVARCHAR(40)', 'PostalCode NVARCHAR(10)', 'Phone NVARCHAR(24)', 'Fax NVARCHAR(24)', 'Email NVARCHAR(60)'], 'foreign_keys': ['ReportsTo -> Employee.EmployeeId'], 'sample_data': [(1, 'Adams', 'Andrew', 'General Manager', None, '1962-02-18 00:00:00', '2002-08-14 00:00:00', '11120 Jasper Ave NW', 'Edmonton', 'AB', 'Canada', 'T5K 2N1', '+1 (780) 428-9482', '+1 (780) 428-3457', 'andrew@chinookcorp.com')]}, 'Genre': {'columns': ['GenreId INTEGER (PK)', 'Name NVARCHAR(120)'], 'foreign_keys': [], 'sample_data': [(1, 'Rock')]}, 'Invoice': {'columns': ['InvoiceId INTEGER (PK)', 'CustomerId INTEGER', 'InvoiceDate DATETIME', 'BillingAddress NVARCHAR(70)', 'BillingCity NVARCHAR(40)', 'BillingState NVARCHAR(40)', 'BillingCountry NVARCHAR(40)', 'BillingPostalCode NVARCHAR(10)', 'Total NUMERIC(10,2)'], 'foreign_keys': ['CustomerId -> Customer.CustomerId'], 'sample_data': [(1, 2, '2009-01-01 00:00:00', 'Theodor-Heuss-Straße 34', 'Stuttgart', None, 'Germany', '70174', 1.98)]}, 'InvoiceLine': {'columns': ['InvoiceLineId INTEGER (PK)', 'InvoiceId INTEGER', 'TrackId INTEGER', 'UnitPrice NUMERIC(10,2)', 'Quantity INTEGER'], 'foreign_keys': ['TrackId -> Track.TrackId', 'InvoiceId -> Invoice.InvoiceId'], 'sample_data': [(1, 1, 2, 0.99, 1)]}, 'MediaType': {'columns': ['MediaTypeId INTEGER (PK)', 'Name NVARCHAR(120)'], 'foreign_keys': [], 'sample_data': [(1, 'MPEG audio file')]}, 'Playlist': {'columns': ['PlaylistId INTEGER (PK)', 'Name NVARCHAR(120)'], 'foreign_keys': [], 'sample_data': [(1, 'Music')]}, 'PlaylistTrack': {'columns': ['PlaylistId INTEGER (PK)', 'TrackId INTEGER (PK)'], 'foreign_keys': ['TrackId -> Track.TrackId', 'PlaylistId -> Playlist.PlaylistId'], 'sample_data': [(1, 3402)]}, 'Track': {'columns': ['TrackId INTEGER (PK)', 'Name NVARCHAR(200)', 'AlbumId INTEGER', 'MediaTypeId INTEGER', 'GenreId INTEGER', 'Composer NVARCHAR(220)', 'Milliseconds INTEGER', 'Bytes INTEGER', 'UnitPrice NUMERIC(10,2)'], 'foreign_keys': ['MediaTypeId -> MediaType.MediaTypeId', 'GenreId -> Genre.GenreId', 'AlbumId -> Album.AlbumId'], 'sample_data': [(1, 'For Those About To Rock (We Salute You)', 1, 1, 1, 'Angus Young, Malcolm Young, Brian Johnson', 343719, 11170334, 0.99)]}}\\nHuman: Using strictly the schema information above, please formulate the appropriate SQL query for the following question:\\nQuestion: List all Artists that start with the letter 'A'.\\n\\nSQL Query:\",\n",
       " 'query': \"SELECT Name FROM Artist WHERE Name LIKE 'A%'\",\n",
       " 'execution_result': '[(\\'AC/DC\\',), (\\'Accept\\',), (\\'Aerosmith\\',), (\\'Alanis Morissette\\',), (\\'Alice In Chains\\',), (\\'Antônio Carlos Jobim\\',), (\\'Apocalyptica\\',), (\\'Audioslave\\',), (\\'Azymuth\\',), (\\'A Cor Do Som\\',), (\\'Aquaman\\',), (\"Aerosmith & Sierra Leone\\'s Refugee Allstars\",), (\\'Avril Lavigne\\',), (\\'Aisha Duo\\',), (\\'Aaron Goldberg\\',), (\\'Alberto Turco & Nova Schola Gregoriana\\',), (\\'Anne-Sophie Mutter, Herbert Von Karajan & Wiener Philharmoniker\\',), (\\'Academy of St. Martin in the Fields & Sir Neville Marriner\\',), (\\'Academy of St. Martin in the Fields Chamber Ensemble & Sir Neville Marriner\\',), (\\'Academy of St. Martin in the Fields, John Birch, Sir Neville Marriner & Sylvia McNair\\',), (\\'Aaron Copland & London Symphony Orchestra\\',), (\\'Academy of St. Martin in the Fields, Sir Neville Marriner & William Bennett\\',), (\\'Antal Doráti & London Symphony Orchestra\\',), (\\'Amy Winehouse\\',), (\\'Academy of St. Martin in the Fields, Sir Neville Marriner & Thurston Dart\\',), (\\'Adrian Leaper & Doreen de Feis\\',)]',\n",
       " 'answer': \"The list of Artists that start with the letter 'A' is:\\n\\n1. AC/DC\\n2. Accept\\n3. Aerosmith\\n4. Alanis Morissette\\n5. Alice In Chains\\n6. Antônio Carlos Jobim\\n7. Apocalyptica\\n8. Audioslave\\n9. Azymuth\\n10. A Cor Do Som\\n11. Aquaman\\n12. Aerosmith & Sierra Leone's Refugee Allstars\\n13. Avril Lavigne\\n14. Aisha Duo\\n15. Aaron Goldberg\\n16. Alberto Turco & Nova Schola Gregoriana\\n17. Anne-Sophie Mutter, Herbert Von Karajan & Wiener Philharmoniker\\n18. Academy of St. Martin in the Fields & Sir Neville Marriner\\n19. Academy of St. Martin in the Fields Chamber Ensemble & Sir Neville Marriner\\n20. Academy of St. Martin in the Fields, John Birch, Sir Neville Marriner & Sylvia McNair\\n21. Aaron Copland & London Symphony Orchestra\\n22. Academy of St. Martin in the Fields, Sir Neville Marriner & William Bennett\\n23. Antal Doráti & London Symphony Orchestra\\n24. Amy Winehouse\\n25. Academy of St. Martin in the Fields, Sir Neville Marriner & Thurston Dart\\n26. Adrian Leaper & Doreen de Feis\",\n",
       " 'error': None}"
      ]
     },
     "execution_count": 54,
     "metadata": {},
     "output_type": "execute_result"
    }
   ],
   "source": [
    "state"
   ]
  }
 ],
 "metadata": {
  "kernelspec": {
   "display_name": "langchain-lernen-GE3QnVly-py3.11",
   "language": "python",
   "name": "python3"
  },
  "language_info": {
   "codemirror_mode": {
    "name": "ipython",
    "version": 3
   },
   "file_extension": ".py",
   "mimetype": "text/x-python",
   "name": "python",
   "nbconvert_exporter": "python",
   "pygments_lexer": "ipython3",
   "version": "3.11.9"
  }
 },
 "nbformat": 4,
 "nbformat_minor": 2
}
