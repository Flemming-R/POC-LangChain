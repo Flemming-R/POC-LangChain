{
 "cells": [
  {
   "cell_type": "code",
   "execution_count": 65,
   "metadata": {},
   "outputs": [],
   "source": [
    "import sqlite3\n",
    "import langchain\n",
    "import langchain_community\n",
    "from langchain_community.utilities import SQLDatabase\n",
    "import os\n",
    "import langchain_core"
   ]
  },
  {
   "cell_type": "code",
   "execution_count": 66,
   "metadata": {},
   "outputs": [],
   "source": [
    "from Flemmings_Library.variables import db_path, db\n",
    "from Flemmings_Library.ollama import get_ollama_model_names\n",
    "\n",
    "!ollama list > nul 2>&1 # Für Windows: Ollama starten, Ausgabe der Modelle unterdrücken"
   ]
  },
  {
   "cell_type": "code",
   "execution_count": 67,
   "metadata": {},
   "outputs": [],
   "source": [
    "model_names = get_ollama_model_names(debug=False)\n",
    "db_dialect = db.dialect\n",
    "model_name = model_names[0] # Modell festlegen"
   ]
  },
  {
   "cell_type": "code",
   "execution_count": 68,
   "metadata": {},
   "outputs": [
    {
     "name": "stdout",
     "output_type": "stream",
     "text": [
      "llama3.2-vision:11b ausgewählt und geladen.\n"
     ]
    }
   ],
   "source": [
    "from langchain_ollama import ChatOllama\n",
    "\n",
    "llm = ChatOllama(\n",
    "    model=model_name,\n",
    "    temperature=0,\n",
    ")\n",
    "print(f'{model_name} ausgewählt und geladen.')"
   ]
  },
  {
   "cell_type": "markdown",
   "metadata": {},
   "source": [
    "Schema der Datenbank extrahieren"
   ]
  },
  {
   "cell_type": "code",
   "execution_count": 69,
   "metadata": {},
   "outputs": [],
   "source": [
    "from Flemmings_Library.extract import extract_schema\n",
    "\n",
    "schema = extract_schema(db_path, sample_rows=1, verbose=False)\n",
    "schema_info_str = str(schema)"
   ]
  },
  {
   "cell_type": "markdown",
   "metadata": {},
   "source": [
    "State-Klasse definieren"
   ]
  },
  {
   "cell_type": "code",
   "execution_count": 70,
   "metadata": {},
   "outputs": [],
   "source": [
    "from langchain.chains import LLMChain\n",
    "from typing_extensions import TypedDict\n",
    "\n",
    "class State(TypedDict):\n",
    "    schema_info: str\n",
    "    prompt: str\n",
    "    question: str      \n",
    "    db_dialect: str\n",
    "    query: str           \n",
    "    execution_result: str\n",
    "    error: str"
   ]
  },
  {
   "cell_type": "markdown",
   "metadata": {},
   "source": [
    "Prompt-Template erstellen und State initiieren"
   ]
  },
  {
   "cell_type": "code",
   "execution_count": 71,
   "metadata": {},
   "outputs": [],
   "source": [
    "question = \"In which city is the customer with the highest customer ID located?\""
   ]
  },
  {
   "cell_type": "code",
   "execution_count": 72,
   "metadata": {},
   "outputs": [],
   "source": [
    "from Flemmings_Library.variables import chat_prompt_template_sql"
   ]
  },
  {
   "cell_type": "code",
   "execution_count": 73,
   "metadata": {},
   "outputs": [
    {
     "name": "stdout",
     "output_type": "stream",
     "text": [
      "System: You are a helpful SQL assistant that provides only SELECT-Statements. Based on the following database schema, translate a natural language query into an SQL query that is executable in my sqlite-Database.\n",
      "\n",
      "Database Schema:\n",
      "{'Album': {'columns': ['AlbumId INTEGER (PK)', 'Title NVARCHAR(160)', 'ArtistId INTEGER'], 'foreign_keys': ['ArtistId -> Artist.ArtistId'], 'sample_data': [(1, 'For Those About To Rock We Salute You', 1)]}, 'Artist': {'columns': ['ArtistId INTEGER (PK)', 'Name NVARCHAR(120)'], 'foreign_keys': [], 'sample_data': [(1, 'AC/DC')]}, 'Customer': {'columns': ['CustomerId INTEGER (PK)', 'FirstName NVARCHAR(40)', 'LastName NVARCHAR(20)', 'Company NVARCHAR(80)', 'Address NVARCHAR(70)', 'City NVARCHAR(40)', 'State NVARCHAR(40)', 'Country NVARCHAR(40)', 'PostalCode NVARCHAR(10)', 'Phone NVARCHAR(24)', 'Fax NVARCHAR(24)', 'Email NVARCHAR(60)', 'SupportRepId INTEGER'], 'foreign_keys': ['SupportRepId -> Employee.EmployeeId'], 'sample_data': [(1, 'Luís', 'Gonçalves', 'Embraer - Empresa Brasileira de Aeronáutica S.A.', 'Av. Brigadeiro Faria Lima, 2170', 'São José dos Campos', 'SP', 'Brazil', '12227-000', '+55 (12) 3923-5555', '+55 (12) 3923-5566', 'luisg@embraer.com.br', 3)]}, 'Employee': {'columns': ['EmployeeId INTEGER (PK)', 'LastName NVARCHAR(20)', 'FirstName NVARCHAR(20)', 'Title NVARCHAR(30)', 'ReportsTo INTEGER', 'BirthDate DATETIME', 'HireDate DATETIME', 'Address NVARCHAR(70)', 'City NVARCHAR(40)', 'State NVARCHAR(40)', 'Country NVARCHAR(40)', 'PostalCode NVARCHAR(10)', 'Phone NVARCHAR(24)', 'Fax NVARCHAR(24)', 'Email NVARCHAR(60)'], 'foreign_keys': ['ReportsTo -> Employee.EmployeeId'], 'sample_data': [(1, 'Adams', 'Andrew', 'General Manager', None, '1962-02-18 00:00:00', '2002-08-14 00:00:00', '11120 Jasper Ave NW', 'Edmonton', 'AB', 'Canada', 'T5K 2N1', '+1 (780) 428-9482', '+1 (780) 428-3457', 'andrew@chinookcorp.com')]}, 'Genre': {'columns': ['GenreId INTEGER (PK)', 'Name NVARCHAR(120)'], 'foreign_keys': [], 'sample_data': [(1, 'Rock')]}, 'Invoice': {'columns': ['InvoiceId INTEGER (PK)', 'CustomerId INTEGER', 'InvoiceDate DATETIME', 'BillingAddress NVARCHAR(70)', 'BillingCity NVARCHAR(40)', 'BillingState NVARCHAR(40)', 'BillingCountry NVARCHAR(40)', 'BillingPostalCode NVARCHAR(10)', 'Total NUMERIC(10,2)'], 'foreign_keys': ['CustomerId -> Customer.CustomerId'], 'sample_data': [(1, 2, '2009-01-01 00:00:00', 'Theodor-Heuss-Straße 34', 'Stuttgart', None, 'Germany', '70174', 1.98)]}, 'InvoiceLine': {'columns': ['InvoiceLineId INTEGER (PK)', 'InvoiceId INTEGER', 'TrackId INTEGER', 'UnitPrice NUMERIC(10,2)', 'Quantity INTEGER'], 'foreign_keys': ['TrackId -> Track.TrackId', 'InvoiceId -> Invoice.InvoiceId'], 'sample_data': [(1, 1, 2, 0.99, 1)]}, 'MediaType': {'columns': ['MediaTypeId INTEGER (PK)', 'Name NVARCHAR(120)'], 'foreign_keys': [], 'sample_data': [(1, 'MPEG audio file')]}, 'Playlist': {'columns': ['PlaylistId INTEGER (PK)', 'Name NVARCHAR(120)'], 'foreign_keys': [], 'sample_data': [(1, 'Music')]}, 'PlaylistTrack': {'columns': ['PlaylistId INTEGER (PK)', 'TrackId INTEGER (PK)'], 'foreign_keys': ['TrackId -> Track.TrackId', 'PlaylistId -> Playlist.PlaylistId'], 'sample_data': [(1, 3402)]}, 'Track': {'columns': ['TrackId INTEGER (PK)', 'Name NVARCHAR(200)', 'AlbumId INTEGER', 'MediaTypeId INTEGER', 'GenreId INTEGER', 'Composer NVARCHAR(220)', 'Milliseconds INTEGER', 'Bytes INTEGER', 'UnitPrice NUMERIC(10,2)'], 'foreign_keys': ['MediaTypeId -> MediaType.MediaTypeId', 'GenreId -> Genre.GenreId', 'AlbumId -> Album.AlbumId'], 'sample_data': [(1, 'For Those About To Rock (We Salute You)', 1, 1, 1, 'Angus Young, Malcolm Young, Brian Johnson', 343719, 11170334, 0.99)]}}\n",
      "Human: Using strictly the schema information above, please formulate the appropriate SQL query for the following question:\n",
      "Question: In which city is the customer with the highest customer ID located?\n",
      "\n",
      "SQL Query:\n"
     ]
    }
   ],
   "source": [
    "formatted_prompt = chat_prompt_template_sql.format(\n",
    "    schema_info=schema_info_str,\n",
    "    question=question,\n",
    "    db_dialect=db_dialect\n",
    ")\n",
    "print(formatted_prompt)\n"
   ]
  },
  {
   "cell_type": "code",
   "execution_count": 74,
   "metadata": {},
   "outputs": [],
   "source": [
    "# initialen State festlegen\n",
    "state: State = {\n",
    "    \"schema_info\": schema_info_str,\n",
    "    \"question\": question,\n",
    "    \"db_dialect\": db.dialect,\n",
    "    \"prompt\": formatted_prompt,\n",
    "    \"query\": \"\",\n",
    "    \"execution_result\": \"\",\n",
    "    \"answer\": \"\",\n",
    "    \"error\": \"\"\n",
    "}"
   ]
  },
  {
   "cell_type": "markdown",
   "metadata": {},
   "source": [
    "Query durch LLM ausgeben lassen und ausführen"
   ]
  },
  {
   "cell_type": "code",
   "execution_count": 75,
   "metadata": {},
   "outputs": [],
   "source": [
    "from langchain_core.output_parsers import StrOutputParser\n",
    "\n",
    "chain = chat_prompt_template_sql | llm | StrOutputParser()"
   ]
  },
  {
   "cell_type": "code",
   "execution_count": 76,
   "metadata": {},
   "outputs": [],
   "source": [
    "llm_output = chain.invoke({\n",
    "            \"schema_info\": schema_info_str,\n",
    "            \"question\": question,\n",
    "            \"db_dialect\": db.dialect\n",
    "        })\n",
    "\n",
    "state[\"query\"] = llm_output\n",
    "state['execution_result'] = db.run(state['query'])"
   ]
  },
  {
   "cell_type": "code",
   "execution_count": 77,
   "metadata": {},
   "outputs": [
    {
     "data": {
      "text/plain": [
       "{'schema_info': \"{'Album': {'columns': ['AlbumId INTEGER (PK)', 'Title NVARCHAR(160)', 'ArtistId INTEGER'], 'foreign_keys': ['ArtistId -> Artist.ArtistId'], 'sample_data': [(1, 'For Those About To Rock We Salute You', 1)]}, 'Artist': {'columns': ['ArtistId INTEGER (PK)', 'Name NVARCHAR(120)'], 'foreign_keys': [], 'sample_data': [(1, 'AC/DC')]}, 'Customer': {'columns': ['CustomerId INTEGER (PK)', 'FirstName NVARCHAR(40)', 'LastName NVARCHAR(20)', 'Company NVARCHAR(80)', 'Address NVARCHAR(70)', 'City NVARCHAR(40)', 'State NVARCHAR(40)', 'Country NVARCHAR(40)', 'PostalCode NVARCHAR(10)', 'Phone NVARCHAR(24)', 'Fax NVARCHAR(24)', 'Email NVARCHAR(60)', 'SupportRepId INTEGER'], 'foreign_keys': ['SupportRepId -> Employee.EmployeeId'], 'sample_data': [(1, 'Luís', 'Gonçalves', 'Embraer - Empresa Brasileira de Aeronáutica S.A.', 'Av. Brigadeiro Faria Lima, 2170', 'São José dos Campos', 'SP', 'Brazil', '12227-000', '+55 (12) 3923-5555', '+55 (12) 3923-5566', 'luisg@embraer.com.br', 3)]}, 'Employee': {'columns': ['EmployeeId INTEGER (PK)', 'LastName NVARCHAR(20)', 'FirstName NVARCHAR(20)', 'Title NVARCHAR(30)', 'ReportsTo INTEGER', 'BirthDate DATETIME', 'HireDate DATETIME', 'Address NVARCHAR(70)', 'City NVARCHAR(40)', 'State NVARCHAR(40)', 'Country NVARCHAR(40)', 'PostalCode NVARCHAR(10)', 'Phone NVARCHAR(24)', 'Fax NVARCHAR(24)', 'Email NVARCHAR(60)'], 'foreign_keys': ['ReportsTo -> Employee.EmployeeId'], 'sample_data': [(1, 'Adams', 'Andrew', 'General Manager', None, '1962-02-18 00:00:00', '2002-08-14 00:00:00', '11120 Jasper Ave NW', 'Edmonton', 'AB', 'Canada', 'T5K 2N1', '+1 (780) 428-9482', '+1 (780) 428-3457', 'andrew@chinookcorp.com')]}, 'Genre': {'columns': ['GenreId INTEGER (PK)', 'Name NVARCHAR(120)'], 'foreign_keys': [], 'sample_data': [(1, 'Rock')]}, 'Invoice': {'columns': ['InvoiceId INTEGER (PK)', 'CustomerId INTEGER', 'InvoiceDate DATETIME', 'BillingAddress NVARCHAR(70)', 'BillingCity NVARCHAR(40)', 'BillingState NVARCHAR(40)', 'BillingCountry NVARCHAR(40)', 'BillingPostalCode NVARCHAR(10)', 'Total NUMERIC(10,2)'], 'foreign_keys': ['CustomerId -> Customer.CustomerId'], 'sample_data': [(1, 2, '2009-01-01 00:00:00', 'Theodor-Heuss-Straße 34', 'Stuttgart', None, 'Germany', '70174', 1.98)]}, 'InvoiceLine': {'columns': ['InvoiceLineId INTEGER (PK)', 'InvoiceId INTEGER', 'TrackId INTEGER', 'UnitPrice NUMERIC(10,2)', 'Quantity INTEGER'], 'foreign_keys': ['TrackId -> Track.TrackId', 'InvoiceId -> Invoice.InvoiceId'], 'sample_data': [(1, 1, 2, 0.99, 1)]}, 'MediaType': {'columns': ['MediaTypeId INTEGER (PK)', 'Name NVARCHAR(120)'], 'foreign_keys': [], 'sample_data': [(1, 'MPEG audio file')]}, 'Playlist': {'columns': ['PlaylistId INTEGER (PK)', 'Name NVARCHAR(120)'], 'foreign_keys': [], 'sample_data': [(1, 'Music')]}, 'PlaylistTrack': {'columns': ['PlaylistId INTEGER (PK)', 'TrackId INTEGER (PK)'], 'foreign_keys': ['TrackId -> Track.TrackId', 'PlaylistId -> Playlist.PlaylistId'], 'sample_data': [(1, 3402)]}, 'Track': {'columns': ['TrackId INTEGER (PK)', 'Name NVARCHAR(200)', 'AlbumId INTEGER', 'MediaTypeId INTEGER', 'GenreId INTEGER', 'Composer NVARCHAR(220)', 'Milliseconds INTEGER', 'Bytes INTEGER', 'UnitPrice NUMERIC(10,2)'], 'foreign_keys': ['MediaTypeId -> MediaType.MediaTypeId', 'GenreId -> Genre.GenreId', 'AlbumId -> Album.AlbumId'], 'sample_data': [(1, 'For Those About To Rock (We Salute You)', 1, 1, 1, 'Angus Young, Malcolm Young, Brian Johnson', 343719, 11170334, 0.99)]}}\",\n",
       " 'question': 'In which city is the customer with the highest customer ID located?',\n",
       " 'db_dialect': 'sqlite',\n",
       " 'prompt': \"System: You are a helpful SQL assistant that provides only SELECT-Statements. Based on the following database schema, translate a natural language query into an SQL query that is executable in my sqlite-Database.\\n\\nDatabase Schema:\\n{'Album': {'columns': ['AlbumId INTEGER (PK)', 'Title NVARCHAR(160)', 'ArtistId INTEGER'], 'foreign_keys': ['ArtistId -> Artist.ArtistId'], 'sample_data': [(1, 'For Those About To Rock We Salute You', 1)]}, 'Artist': {'columns': ['ArtistId INTEGER (PK)', 'Name NVARCHAR(120)'], 'foreign_keys': [], 'sample_data': [(1, 'AC/DC')]}, 'Customer': {'columns': ['CustomerId INTEGER (PK)', 'FirstName NVARCHAR(40)', 'LastName NVARCHAR(20)', 'Company NVARCHAR(80)', 'Address NVARCHAR(70)', 'City NVARCHAR(40)', 'State NVARCHAR(40)', 'Country NVARCHAR(40)', 'PostalCode NVARCHAR(10)', 'Phone NVARCHAR(24)', 'Fax NVARCHAR(24)', 'Email NVARCHAR(60)', 'SupportRepId INTEGER'], 'foreign_keys': ['SupportRepId -> Employee.EmployeeId'], 'sample_data': [(1, 'Luís', 'Gonçalves', 'Embraer - Empresa Brasileira de Aeronáutica S.A.', 'Av. Brigadeiro Faria Lima, 2170', 'São José dos Campos', 'SP', 'Brazil', '12227-000', '+55 (12) 3923-5555', '+55 (12) 3923-5566', 'luisg@embraer.com.br', 3)]}, 'Employee': {'columns': ['EmployeeId INTEGER (PK)', 'LastName NVARCHAR(20)', 'FirstName NVARCHAR(20)', 'Title NVARCHAR(30)', 'ReportsTo INTEGER', 'BirthDate DATETIME', 'HireDate DATETIME', 'Address NVARCHAR(70)', 'City NVARCHAR(40)', 'State NVARCHAR(40)', 'Country NVARCHAR(40)', 'PostalCode NVARCHAR(10)', 'Phone NVARCHAR(24)', 'Fax NVARCHAR(24)', 'Email NVARCHAR(60)'], 'foreign_keys': ['ReportsTo -> Employee.EmployeeId'], 'sample_data': [(1, 'Adams', 'Andrew', 'General Manager', None, '1962-02-18 00:00:00', '2002-08-14 00:00:00', '11120 Jasper Ave NW', 'Edmonton', 'AB', 'Canada', 'T5K 2N1', '+1 (780) 428-9482', '+1 (780) 428-3457', 'andrew@chinookcorp.com')]}, 'Genre': {'columns': ['GenreId INTEGER (PK)', 'Name NVARCHAR(120)'], 'foreign_keys': [], 'sample_data': [(1, 'Rock')]}, 'Invoice': {'columns': ['InvoiceId INTEGER (PK)', 'CustomerId INTEGER', 'InvoiceDate DATETIME', 'BillingAddress NVARCHAR(70)', 'BillingCity NVARCHAR(40)', 'BillingState NVARCHAR(40)', 'BillingCountry NVARCHAR(40)', 'BillingPostalCode NVARCHAR(10)', 'Total NUMERIC(10,2)'], 'foreign_keys': ['CustomerId -> Customer.CustomerId'], 'sample_data': [(1, 2, '2009-01-01 00:00:00', 'Theodor-Heuss-Straße 34', 'Stuttgart', None, 'Germany', '70174', 1.98)]}, 'InvoiceLine': {'columns': ['InvoiceLineId INTEGER (PK)', 'InvoiceId INTEGER', 'TrackId INTEGER', 'UnitPrice NUMERIC(10,2)', 'Quantity INTEGER'], 'foreign_keys': ['TrackId -> Track.TrackId', 'InvoiceId -> Invoice.InvoiceId'], 'sample_data': [(1, 1, 2, 0.99, 1)]}, 'MediaType': {'columns': ['MediaTypeId INTEGER (PK)', 'Name NVARCHAR(120)'], 'foreign_keys': [], 'sample_data': [(1, 'MPEG audio file')]}, 'Playlist': {'columns': ['PlaylistId INTEGER (PK)', 'Name NVARCHAR(120)'], 'foreign_keys': [], 'sample_data': [(1, 'Music')]}, 'PlaylistTrack': {'columns': ['PlaylistId INTEGER (PK)', 'TrackId INTEGER (PK)'], 'foreign_keys': ['TrackId -> Track.TrackId', 'PlaylistId -> Playlist.PlaylistId'], 'sample_data': [(1, 3402)]}, 'Track': {'columns': ['TrackId INTEGER (PK)', 'Name NVARCHAR(200)', 'AlbumId INTEGER', 'MediaTypeId INTEGER', 'GenreId INTEGER', 'Composer NVARCHAR(220)', 'Milliseconds INTEGER', 'Bytes INTEGER', 'UnitPrice NUMERIC(10,2)'], 'foreign_keys': ['MediaTypeId -> MediaType.MediaTypeId', 'GenreId -> Genre.GenreId', 'AlbumId -> Album.AlbumId'], 'sample_data': [(1, 'For Those About To Rock (We Salute You)', 1, 1, 1, 'Angus Young, Malcolm Young, Brian Johnson', 343719, 11170334, 0.99)]}}\\nHuman: Using strictly the schema information above, please formulate the appropriate SQL query for the following question:\\nQuestion: In which city is the customer with the highest customer ID located?\\n\\nSQL Query:\",\n",
       " 'query': 'SELECT City FROM Customer WHERE CustomerId = ( SELECT MAX(CustomerId) FROM Customer )',\n",
       " 'execution_result': \"[('Bangalore',)]\",\n",
       " 'answer': '',\n",
       " 'error': ''}"
      ]
     },
     "execution_count": 77,
     "metadata": {},
     "output_type": "execute_result"
    }
   ],
   "source": [
    "state"
   ]
  },
  {
   "cell_type": "markdown",
   "metadata": {},
   "source": [
    "Antwort des Modells in Textform"
   ]
  },
  {
   "cell_type": "code",
   "execution_count": 79,
   "metadata": {},
   "outputs": [],
   "source": [
    "from langchain.prompts import (\n",
    "    ChatPromptTemplate,\n",
    "    SystemMessagePromptTemplate,\n",
    "    HumanMessagePromptTemplate,\n",
    ")\n",
    "from langchain_core.output_parsers import StrOutputParser"
   ]
  },
  {
   "cell_type": "code",
   "execution_count": 81,
   "metadata": {},
   "outputs": [],
   "source": [
    "answer_prompt_template = ChatPromptTemplate.from_messages([\n",
    "    SystemMessagePromptTemplate.from_template(\n",
    "        \"You are a helpful SQL assistant. Based on the SQL query and its execution result, provide a concise final answer to the user's question.\"\n",
    "    ),\n",
    "    HumanMessagePromptTemplate.from_template(\n",
    "        \"User Question: {question}\\n\"\n",
    "        \"SQL Query: {query}\\n\"\n",
    "        \"Execution Result: {execution_result}\\n\\nPlease provide your final answer:\"\n",
    "    )\n",
    "])"
   ]
  },
  {
   "cell_type": "code",
   "execution_count": 83,
   "metadata": {},
   "outputs": [
    {
     "name": "stdout",
     "output_type": "stream",
     "text": [
      "System: You are a helpful SQL assistant. Based on the SQL query and its execution result, provide a concise final answer to the user's question.\n",
      "Human: User Question: In which city is the customer with the highest customer ID located?\n",
      "SQL Query: SELECT City FROM Customer WHERE CustomerId = ( SELECT MAX(CustomerId) FROM Customer )\n",
      "Execution Result: [('Bangalore',)]\n",
      "\n",
      "Please provide your final answer:\n"
     ]
    }
   ],
   "source": [
    "formatted_answer_prompt = answer_prompt_template.format(\n",
    "    question=state[\"question\"],\n",
    "    query=state[\"query\"],\n",
    "    execution_result=state[\"execution_result\"]\n",
    ")\n",
    "\n",
    "print(formatted_answer_prompt)"
   ]
  },
  {
   "cell_type": "code",
   "execution_count": 86,
   "metadata": {},
   "outputs": [],
   "source": [
    "chain_answer = answer_prompt_template | llm | StrOutputParser()"
   ]
  },
  {
   "cell_type": "code",
   "execution_count": 88,
   "metadata": {},
   "outputs": [],
   "source": [
    "llm_answer = chain_answer.invoke({\n",
    "            \"schema_info\": state[\"schema_info\"],\n",
    "            \"question\": state[\"question\"],\n",
    "            \"query\": state[\"query\"],\n",
    "            \"execution_result\": state[\"execution_result\"]\n",
    "        })\n",
    "\n",
    "state[\"answer\"] = llm_answer"
   ]
  },
  {
   "cell_type": "code",
   "execution_count": 89,
   "metadata": {},
   "outputs": [
    {
     "data": {
      "text/plain": [
       "{'schema_info': \"{'Album': {'columns': ['AlbumId INTEGER (PK)', 'Title NVARCHAR(160)', 'ArtistId INTEGER'], 'foreign_keys': ['ArtistId -> Artist.ArtistId'], 'sample_data': [(1, 'For Those About To Rock We Salute You', 1)]}, 'Artist': {'columns': ['ArtistId INTEGER (PK)', 'Name NVARCHAR(120)'], 'foreign_keys': [], 'sample_data': [(1, 'AC/DC')]}, 'Customer': {'columns': ['CustomerId INTEGER (PK)', 'FirstName NVARCHAR(40)', 'LastName NVARCHAR(20)', 'Company NVARCHAR(80)', 'Address NVARCHAR(70)', 'City NVARCHAR(40)', 'State NVARCHAR(40)', 'Country NVARCHAR(40)', 'PostalCode NVARCHAR(10)', 'Phone NVARCHAR(24)', 'Fax NVARCHAR(24)', 'Email NVARCHAR(60)', 'SupportRepId INTEGER'], 'foreign_keys': ['SupportRepId -> Employee.EmployeeId'], 'sample_data': [(1, 'Luís', 'Gonçalves', 'Embraer - Empresa Brasileira de Aeronáutica S.A.', 'Av. Brigadeiro Faria Lima, 2170', 'São José dos Campos', 'SP', 'Brazil', '12227-000', '+55 (12) 3923-5555', '+55 (12) 3923-5566', 'luisg@embraer.com.br', 3)]}, 'Employee': {'columns': ['EmployeeId INTEGER (PK)', 'LastName NVARCHAR(20)', 'FirstName NVARCHAR(20)', 'Title NVARCHAR(30)', 'ReportsTo INTEGER', 'BirthDate DATETIME', 'HireDate DATETIME', 'Address NVARCHAR(70)', 'City NVARCHAR(40)', 'State NVARCHAR(40)', 'Country NVARCHAR(40)', 'PostalCode NVARCHAR(10)', 'Phone NVARCHAR(24)', 'Fax NVARCHAR(24)', 'Email NVARCHAR(60)'], 'foreign_keys': ['ReportsTo -> Employee.EmployeeId'], 'sample_data': [(1, 'Adams', 'Andrew', 'General Manager', None, '1962-02-18 00:00:00', '2002-08-14 00:00:00', '11120 Jasper Ave NW', 'Edmonton', 'AB', 'Canada', 'T5K 2N1', '+1 (780) 428-9482', '+1 (780) 428-3457', 'andrew@chinookcorp.com')]}, 'Genre': {'columns': ['GenreId INTEGER (PK)', 'Name NVARCHAR(120)'], 'foreign_keys': [], 'sample_data': [(1, 'Rock')]}, 'Invoice': {'columns': ['InvoiceId INTEGER (PK)', 'CustomerId INTEGER', 'InvoiceDate DATETIME', 'BillingAddress NVARCHAR(70)', 'BillingCity NVARCHAR(40)', 'BillingState NVARCHAR(40)', 'BillingCountry NVARCHAR(40)', 'BillingPostalCode NVARCHAR(10)', 'Total NUMERIC(10,2)'], 'foreign_keys': ['CustomerId -> Customer.CustomerId'], 'sample_data': [(1, 2, '2009-01-01 00:00:00', 'Theodor-Heuss-Straße 34', 'Stuttgart', None, 'Germany', '70174', 1.98)]}, 'InvoiceLine': {'columns': ['InvoiceLineId INTEGER (PK)', 'InvoiceId INTEGER', 'TrackId INTEGER', 'UnitPrice NUMERIC(10,2)', 'Quantity INTEGER'], 'foreign_keys': ['TrackId -> Track.TrackId', 'InvoiceId -> Invoice.InvoiceId'], 'sample_data': [(1, 1, 2, 0.99, 1)]}, 'MediaType': {'columns': ['MediaTypeId INTEGER (PK)', 'Name NVARCHAR(120)'], 'foreign_keys': [], 'sample_data': [(1, 'MPEG audio file')]}, 'Playlist': {'columns': ['PlaylistId INTEGER (PK)', 'Name NVARCHAR(120)'], 'foreign_keys': [], 'sample_data': [(1, 'Music')]}, 'PlaylistTrack': {'columns': ['PlaylistId INTEGER (PK)', 'TrackId INTEGER (PK)'], 'foreign_keys': ['TrackId -> Track.TrackId', 'PlaylistId -> Playlist.PlaylistId'], 'sample_data': [(1, 3402)]}, 'Track': {'columns': ['TrackId INTEGER (PK)', 'Name NVARCHAR(200)', 'AlbumId INTEGER', 'MediaTypeId INTEGER', 'GenreId INTEGER', 'Composer NVARCHAR(220)', 'Milliseconds INTEGER', 'Bytes INTEGER', 'UnitPrice NUMERIC(10,2)'], 'foreign_keys': ['MediaTypeId -> MediaType.MediaTypeId', 'GenreId -> Genre.GenreId', 'AlbumId -> Album.AlbumId'], 'sample_data': [(1, 'For Those About To Rock (We Salute You)', 1, 1, 1, 'Angus Young, Malcolm Young, Brian Johnson', 343719, 11170334, 0.99)]}}\",\n",
       " 'question': 'In which city is the customer with the highest customer ID located?',\n",
       " 'db_dialect': 'sqlite',\n",
       " 'prompt': \"System: You are a helpful SQL assistant that provides only SELECT-Statements. Based on the following database schema, translate a natural language query into an SQL query that is executable in my sqlite-Database.\\n\\nDatabase Schema:\\n{'Album': {'columns': ['AlbumId INTEGER (PK)', 'Title NVARCHAR(160)', 'ArtistId INTEGER'], 'foreign_keys': ['ArtistId -> Artist.ArtistId'], 'sample_data': [(1, 'For Those About To Rock We Salute You', 1)]}, 'Artist': {'columns': ['ArtistId INTEGER (PK)', 'Name NVARCHAR(120)'], 'foreign_keys': [], 'sample_data': [(1, 'AC/DC')]}, 'Customer': {'columns': ['CustomerId INTEGER (PK)', 'FirstName NVARCHAR(40)', 'LastName NVARCHAR(20)', 'Company NVARCHAR(80)', 'Address NVARCHAR(70)', 'City NVARCHAR(40)', 'State NVARCHAR(40)', 'Country NVARCHAR(40)', 'PostalCode NVARCHAR(10)', 'Phone NVARCHAR(24)', 'Fax NVARCHAR(24)', 'Email NVARCHAR(60)', 'SupportRepId INTEGER'], 'foreign_keys': ['SupportRepId -> Employee.EmployeeId'], 'sample_data': [(1, 'Luís', 'Gonçalves', 'Embraer - Empresa Brasileira de Aeronáutica S.A.', 'Av. Brigadeiro Faria Lima, 2170', 'São José dos Campos', 'SP', 'Brazil', '12227-000', '+55 (12) 3923-5555', '+55 (12) 3923-5566', 'luisg@embraer.com.br', 3)]}, 'Employee': {'columns': ['EmployeeId INTEGER (PK)', 'LastName NVARCHAR(20)', 'FirstName NVARCHAR(20)', 'Title NVARCHAR(30)', 'ReportsTo INTEGER', 'BirthDate DATETIME', 'HireDate DATETIME', 'Address NVARCHAR(70)', 'City NVARCHAR(40)', 'State NVARCHAR(40)', 'Country NVARCHAR(40)', 'PostalCode NVARCHAR(10)', 'Phone NVARCHAR(24)', 'Fax NVARCHAR(24)', 'Email NVARCHAR(60)'], 'foreign_keys': ['ReportsTo -> Employee.EmployeeId'], 'sample_data': [(1, 'Adams', 'Andrew', 'General Manager', None, '1962-02-18 00:00:00', '2002-08-14 00:00:00', '11120 Jasper Ave NW', 'Edmonton', 'AB', 'Canada', 'T5K 2N1', '+1 (780) 428-9482', '+1 (780) 428-3457', 'andrew@chinookcorp.com')]}, 'Genre': {'columns': ['GenreId INTEGER (PK)', 'Name NVARCHAR(120)'], 'foreign_keys': [], 'sample_data': [(1, 'Rock')]}, 'Invoice': {'columns': ['InvoiceId INTEGER (PK)', 'CustomerId INTEGER', 'InvoiceDate DATETIME', 'BillingAddress NVARCHAR(70)', 'BillingCity NVARCHAR(40)', 'BillingState NVARCHAR(40)', 'BillingCountry NVARCHAR(40)', 'BillingPostalCode NVARCHAR(10)', 'Total NUMERIC(10,2)'], 'foreign_keys': ['CustomerId -> Customer.CustomerId'], 'sample_data': [(1, 2, '2009-01-01 00:00:00', 'Theodor-Heuss-Straße 34', 'Stuttgart', None, 'Germany', '70174', 1.98)]}, 'InvoiceLine': {'columns': ['InvoiceLineId INTEGER (PK)', 'InvoiceId INTEGER', 'TrackId INTEGER', 'UnitPrice NUMERIC(10,2)', 'Quantity INTEGER'], 'foreign_keys': ['TrackId -> Track.TrackId', 'InvoiceId -> Invoice.InvoiceId'], 'sample_data': [(1, 1, 2, 0.99, 1)]}, 'MediaType': {'columns': ['MediaTypeId INTEGER (PK)', 'Name NVARCHAR(120)'], 'foreign_keys': [], 'sample_data': [(1, 'MPEG audio file')]}, 'Playlist': {'columns': ['PlaylistId INTEGER (PK)', 'Name NVARCHAR(120)'], 'foreign_keys': [], 'sample_data': [(1, 'Music')]}, 'PlaylistTrack': {'columns': ['PlaylistId INTEGER (PK)', 'TrackId INTEGER (PK)'], 'foreign_keys': ['TrackId -> Track.TrackId', 'PlaylistId -> Playlist.PlaylistId'], 'sample_data': [(1, 3402)]}, 'Track': {'columns': ['TrackId INTEGER (PK)', 'Name NVARCHAR(200)', 'AlbumId INTEGER', 'MediaTypeId INTEGER', 'GenreId INTEGER', 'Composer NVARCHAR(220)', 'Milliseconds INTEGER', 'Bytes INTEGER', 'UnitPrice NUMERIC(10,2)'], 'foreign_keys': ['MediaTypeId -> MediaType.MediaTypeId', 'GenreId -> Genre.GenreId', 'AlbumId -> Album.AlbumId'], 'sample_data': [(1, 'For Those About To Rock (We Salute You)', 1, 1, 1, 'Angus Young, Malcolm Young, Brian Johnson', 343719, 11170334, 0.99)]}}\\nHuman: Using strictly the schema information above, please formulate the appropriate SQL query for the following question:\\nQuestion: In which city is the customer with the highest customer ID located?\\n\\nSQL Query:\",\n",
       " 'query': 'SELECT City FROM Customer WHERE CustomerId = ( SELECT MAX(CustomerId) FROM Customer )',\n",
       " 'execution_result': \"[('Bangalore',)]\",\n",
       " 'answer': 'The customer with the highest customer ID is located in Bangalore.',\n",
       " 'error': ''}"
      ]
     },
     "execution_count": 89,
     "metadata": {},
     "output_type": "execute_result"
    }
   ],
   "source": [
    "state"
   ]
  }
 ],
 "metadata": {
  "kernelspec": {
   "display_name": "langchain-lernen-GE3QnVly-py3.11",
   "language": "python",
   "name": "python3"
  },
  "language_info": {
   "codemirror_mode": {
    "name": "ipython",
    "version": 3
   },
   "file_extension": ".py",
   "mimetype": "text/x-python",
   "name": "python",
   "nbconvert_exporter": "python",
   "pygments_lexer": "ipython3",
   "version": "3.11.9"
  }
 },
 "nbformat": 4,
 "nbformat_minor": 2
}
