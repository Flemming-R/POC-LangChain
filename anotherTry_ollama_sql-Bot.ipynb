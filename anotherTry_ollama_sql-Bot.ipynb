{
 "cells": [
  {
   "cell_type": "markdown",
   "metadata": {},
   "source": [
    "Grundlage:\n",
    "* https://js.langchain.com/v0.1/docs/modules/chains/popular/sqlite/\n",
    "* https://js.langchain.com/v0.1/docs/integrations/toolkits/sql/\n",
    "\n",
    "* https://python.langchain.com/docs/tutorials/sql_qa/"
   ]
  },
  {
   "cell_type": "markdown",
   "metadata": {},
   "source": [
    "# Setup"
   ]
  },
  {
   "cell_type": "code",
   "execution_count": 21,
   "metadata": {},
   "outputs": [],
   "source": [
    "import sqlite3\n",
    "import langchain\n",
    "import langchain_community\n",
    "from langchain_community.utilities import SQLDatabase"
   ]
  },
  {
   "cell_type": "code",
   "execution_count": 22,
   "metadata": {},
   "outputs": [],
   "source": [
    "db_path = r\"./POC-LangChain/chinook-database-master/ChinookDatabase/DataSources/Chinook_Sqlite.sqlite\"\n",
    "db = SQLDatabase.from_uri(f\"sqlite:///{db_path}\")"
   ]
  },
  {
   "cell_type": "code",
   "execution_count": 23,
   "metadata": {},
   "outputs": [
    {
     "name": "stdout",
     "output_type": "stream",
     "text": [
      "sqlite\n"
     ]
    },
    {
     "data": {
      "text/plain": [
       "['Album',\n",
       " 'Artist',\n",
       " 'Customer',\n",
       " 'Employee',\n",
       " 'Genre',\n",
       " 'Invoice',\n",
       " 'InvoiceLine',\n",
       " 'MediaType',\n",
       " 'Playlist',\n",
       " 'PlaylistTrack',\n",
       " 'Track']"
      ]
     },
     "execution_count": 23,
     "metadata": {},
     "output_type": "execute_result"
    }
   ],
   "source": [
    "print(db.dialect)\n",
    "db.get_usable_table_names()"
   ]
  },
  {
   "cell_type": "code",
   "execution_count": 24,
   "metadata": {},
   "outputs": [
    {
     "data": {
      "text/plain": [
       "\"[(1, 'AC/DC'), (2, 'Accept'), (3, 'Aerosmith'), (4, 'Alanis Morissette'), (5, 'Alice In Chains'), (6, 'Antônio Carlos Jobim'), (7, 'Apocalyptica'), (8, 'Audioslave'), (9, 'BackBeat'), (10, 'Billy Cobham')]\""
      ]
     },
     "execution_count": 24,
     "metadata": {},
     "output_type": "execute_result"
    }
   ],
   "source": [
    "db.run(\"SELECT * FROM Artist LIMIT 10;\")"
   ]
  },
  {
   "cell_type": "markdown",
   "metadata": {},
   "source": [
    "**Prompt Template** - Definieren, wie die Frage in eine SQL-Anweisung übersetzt wird."
   ]
  },
  {
   "cell_type": "code",
   "execution_count": 25,
   "metadata": {},
   "outputs": [],
   "source": [
    "sql_template = \"\"\"\n",
    "Du bist ein SQL-Experte, der ausschließlich lesende (SELECT-)Abfragen schreibt.\n",
    "Deine Aufgabe ist es, aus einer natürlichen Spracheingabe eine korrekte SQL-Abfrage zu erstellen,\n",
    "die exakt auf das folgende Datenbankschema abgestimmt ist. Beachte bitte:\n",
    "  - Verwende nur die Tabellen und Spalten, die im Schema aufgeführt sind.\n",
    "  - Schreibe ausschließlich SELECT-Abfragen, keine INSERT-, UPDATE- oder DELETE-Anweisungen.\n",
    "  - Wenn du die Antwort nicht sicher ableiten kannst, gib eine höfliche Meldung zurück, dass die Frage unklar ist.\n",
    "\n",
    "Bitte verwende exakt das folgende Format:\n",
    "\n",
    "Frage: <die ursprüngliche Frage>\n",
    "SQL-Abfrage: <die generierte SQL-Abfrage>\n",
    "SQL-Ergebnis: <das Ergebnis der SQL-Abfrage>\n",
    "Antwort: <eine klare, kurze und präzise Antwort auf die ursprüngliche Frage>\n",
    "\n",
    "Nutze das unten stehende Datenbankschema:\n",
    "{dbschema}\n",
    "\n",
    "Frage: {question}\n",
    "SQL-Abfrage:\n",
    "\"\"\"\n"
   ]
  },
  {
   "cell_type": "code",
   "execution_count": 26,
   "metadata": {},
   "outputs": [],
   "source": [
    "from langchain import PromptTemplate #, SQLTemplate, SQLDatabase, SQLQuery, SQLResult, SQLAnswer"
   ]
  },
  {
   "cell_type": "code",
   "execution_count": 27,
   "metadata": {},
   "outputs": [],
   "source": [
    "prompt_template = PromptTemplate(\n",
    "        input_variables=[\"dbschema\", \"question\"],\n",
    "        template=sql_template\n",
    "    )\n",
    "    \n",
    "# Example database schema and question\n",
    "dbschema = \"Album(AlbumID, Title, ArtistID); Artist(ArtistID, Name); Track(TrackID, Name, AlbumID)\"\n",
    "question = \"Zeige alle Tracks aus dem Album Jazz\""
   ]
  },
  {
   "cell_type": "markdown",
   "metadata": {},
   "source": [
    "**Integrate the LLM**"
   ]
  },
  {
   "cell_type": "code",
   "execution_count": 28,
   "metadata": {},
   "outputs": [],
   "source": [
    "import requests\n",
    "from typing import List, Optional, Mapping, Any\n",
    "from langchain.llms.base import LLM\n",
    "from pydantic import BaseModel\n",
    "\n",
    "class OllamaLLM(LLM):\n",
    "    model: str\n",
    "    base_url: str = \"http://localhost:11434\"\n",
    "    token: Optional[str] = None\n",
    "    temperature: float = 0.7\n",
    "    max_tokens: int = 256\n",
    "\n",
    "    @property\n",
    "    def _llm_type(self) -> str:\n",
    "        return \"ollama\"\n",
    "\n",
    "    def _call(self, prompt: str, stop: Optional[List[str]] = None, **kwargs: Any) -> str:\n",
    "        if stop is not None:\n",
    "            raise ValueError(\"stop kwargs are not permitted.\")\n",
    "        payload = {\n",
    "            \"model\": self.model,\n",
    "            \"prompt\": prompt,\n",
    "            \"options\": {\n",
    "                \"temperature\": self.temperature,\n",
    "                \"num_predict\": self.max_tokens,\n",
    "            },\n",
    "            \"token\": self.token or \"\"\n",
    "        }\n",
    "        url = f\"{self.base_url}/api/generate\"\n",
    "        response = requests.post(url, json=payload)\n",
    "        response.raise_for_status()\n",
    "        data = response.json()\n",
    "        # Adjust this key depending on your Ollama API response format\n",
    "        return data.get(\"response\", \"\").strip()\n",
    "\n",
    "    @property\n",
    "    def _identifying_params(self) -> Mapping[str, Any]:\n",
    "        return {\"model\": self.model, \"base_url\": self.base_url}\n",
    "\n",
    "\n"
   ]
  },
  {
   "cell_type": "code",
   "execution_count": 8,
   "metadata": {},
   "outputs": [
    {
     "name": "stdout",
     "output_type": "stream",
     "text": [
      "NAME                     \tID          \tSIZE  \tMODIFIED     \n",
      "qwen2.5-coder:7b         \t2b0496514337\t4.7 GB\t31 hours ago\t\n",
      "deepseek-r1:8b           \t28f8fd6cdc67\t4.9 GB\t3 days ago  \t\n",
      "llama3.2:1b-instruct-q4_0\t53f2745c8077\t770 MB\t3 months ago\t\n",
      "llama3.2:1b              \tbaf6a787fdff\t1.3 GB\t3 months ago\t\n",
      "llama3.1:8b              \t42182419e950\t4.7 GB\t4 months ago\t\n",
      "mistral:instruct         \tf974a74358d6\t4.1 GB\t4 months ago\t\n"
     ]
    }
   ],
   "source": [
    "!ollama list"
   ]
  },
  {
   "cell_type": "markdown",
   "metadata": {},
   "source": [
    "#### Funktioniert, aber ist nicht gut optimiert"
   ]
  },
  {
   "cell_type": "code",
   "execution_count": null,
   "metadata": {},
   "outputs": [
    {
     "name": "stdout",
     "output_type": "stream",
     "text": [
      "Generated SQL Query:\n",
      "Ich kann keine SQL-Abfragen generieren, die auf einem nicht existierenden Datenbankschema abzielen. Wenn Sie jedoch ein bestimmtes Szenario beschreiben, kann ich eine mögliche Lösung basierend auf dem gegebenen Schema erstellen.\n",
      "\n",
      "Wenn ich jedoch das gegebene Szenario interpretiere und annehmen muss, dass es sich um die Tabelle \"Album\" handelt, von der wir alle Tracks aus dem Album \"Jazz\" herausfiltern möchten, könnte die SQL-Abfrage wie folgt aussehen:\n",
      "\n",
      "```sql\n",
      "SELECT t.Name AS TrackName\n",
      "FROM Track t\n",
      "JOIN Album a ON t.AlbumID = a.AlbumID\n",
      "WHERE a.Title = 'Jazz';\n",
      "```\n",
      "\n",
      "In dieser Abfrage wird zunächst alle Tracks (Name) gefiltert, die sich mit der ID (`AlbumID`) mit denjenigen verbinden, die in der Tabelle `Album` unter dem Titel \"Jazz\" stehen.\n"
     ]
    }
   ],
   "source": [
    "import requests\n",
    "import json\n",
    "from langchain import PromptTemplate\n",
    "\n",
    "def generate_sql(prompt, model=\"llama3.1:8B\", token=\"your_api_token_here\", temperature=0.7, max_tokens=256, base_url=\"http://localhost:11434\"):\n",
    "    # Prepare the payload with streaming disabled\n",
    "    payload = {\n",
    "        \"model\": model,\n",
    "        \"prompt\": prompt,\n",
    "        \"options\": {\n",
    "            \"temperature\": temperature,\n",
    "            \"num_predict\": max_tokens\n",
    "        },\n",
    "        \"token\": token,\n",
    "        \"stream\": False  # Disable streaming to get a complete response\n",
    "    }\n",
    "    url = f\"{base_url}/api/generate\"\n",
    "    response = requests.post(url, json=payload)\n",
    "    response.raise_for_status()\n",
    "    \n",
    "    # Parse the complete JSON response\n",
    "    data = response.json()\n",
    "    # Assuming the API returns the generated SQL under the \"response\" key:\n",
    "    return data.get(\"response\", \"\").strip()\n",
    "\n",
    "if __name__ == \"__main__\":\n",
    "    # Define the SQL prompt template using LangChain's PromptTemplate\n",
    "    sql_template = \"\"\"\n",
    "Du bist ein SQL-Experte, der ausschließlich SELECT-Abfragen generiert.\n",
    "Deine Aufgabe ist es, aus der natürlichen Spracheingabe eine korrekte SQL-Abfrage zu erstellen,\n",
    "die exakt auf das folgende Datenbankschema abgestimmt ist.\n",
    "Verwende nur die aufgeführten Tabellen und Spalten.\n",
    "Falls die Frage unklar ist, gib eine höfliche Meldung zurück.\n",
    "\n",
    "Datenbankschema:\n",
    "{dbschema}\n",
    "\n",
    "Frage: {question}\n",
    "SQL-Abfrage:\n",
    "    \"\"\"\n",
    "    \n",
    "    prompt_template = PromptTemplate(\n",
    "        input_variables=[\"dbschema\", \"question\"],\n",
    "        template=sql_template\n",
    "    )\n",
    "    \n",
    "    # Example database schema and question\n",
    "    dbschema = \"Album(AlbumID, Title, ArtistID); Artist(ArtistID, Name); Track(TrackID, Name, AlbumID)\"\n",
    "    question = \"Zeige alle Tracks aus dem Album Jazz\"\n",
    "    \n",
    "    # Generate the final prompt using the template\n",
    "    prompt = prompt_template.format(dbschema=dbschema, question=question)\n",
    "    sql_query = generate_sql(prompt)\n",
    "    print(\"Generated SQL Query:\")\n",
    "    print(sql_query)\n"
   ]
  },
  {
   "cell_type": "markdown",
   "metadata": {},
   "source": [
    "### Versuch für bessere Schemaübergabe"
   ]
  },
  {
   "cell_type": "code",
   "execution_count": 12,
   "metadata": {},
   "outputs": [],
   "source": [
    "import requests\n",
    "import json\n",
    "from langchain import PromptTemplate\n",
    "\n",
    "def generate_sql(prompt, model=\"llama3.1:8B\", token=\"your_api_token_here\", temperature=0.0, max_tokens=256, base_url=\"http://localhost:11434\"):\n",
    "    # Prepare the payload with streaming disabled\n",
    "    payload = {\n",
    "        \"model\": model,\n",
    "        \"prompt\": prompt,\n",
    "        \"options\": {\n",
    "            \"temperature\": temperature,\n",
    "            \"num_predict\": max_tokens\n",
    "        },\n",
    "        \"token\": token,\n",
    "        \"stream\": False  # Disable streaming to get a complete response\n",
    "    }\n",
    "    url = f\"{base_url}/api/generate\"\n",
    "    response = requests.post(url, json=payload)\n",
    "    response.raise_for_status()\n",
    "    \n",
    "    # Parse the complete JSON response\n",
    "    data = response.json()\n",
    "    # Assuming the API returns the generated SQL under the \"response\" key:\n",
    "    return data.get(\"response\", \"\").strip()\n"
   ]
  },
  {
   "cell_type": "code",
   "execution_count": 15,
   "metadata": {},
   "outputs": [
    {
     "name": "stdout",
     "output_type": "stream",
     "text": [
      "Generated SQL Query:\n",
      "Ich kann keine SQL-Abfragen generieren. Wenn du jedoch eine bestimmte Frage hast, kann ich versuchen, sie in eine korrekte SQL-Abfrage zu übersetzen. \n",
      "\n",
      "Um deine Frage zu beantworten: Um alle Tracks aus dem Album \"Jazz\" anzuzeigen, müsste ich wissen, welches AlbumID der Titel \"Jazz\" hat. Wenn wir jedoch davon ausgehen, dass wir das AlbumID kennen, könnten wir folgende Abfrage verwenden:\n",
      "\n",
      "```sql\n",
      "SELECT T1.Name \n",
      "FROM Track AS T1 \n",
      "JOIN Album AS T2 ON T1.AlbumID = T2.AlbumID \n",
      "WHERE T2.Title = 'Jazz';\n",
      "```\n",
      "\n",
      "Dieser Code würde alle Tracks aus dem Album \"Jazz\" anzeigen. Wenn du jedoch wissen möchtest, wie man die Tracks aus einem bestimmten Album findet, ohne das AlbumID zu kennen, müsste ich mehr Informationen über deine Datenbank haben.\n",
      "\n",
      "Bitte beachte, dass dies eine vereinfachte Antwort ist und je nachdem, was genau gefragt wird, könnte es weitere Abfragen geben.\n"
     ]
    }
   ],
   "source": [
    "# Generate the final prompt using the template\n",
    "prompt = prompt_template.format(dbschema=dbschema, question=question)\n",
    "sql_query = generate_sql(prompt)\n",
    "print(\"Generated SQL Query:\")\n",
    "print(sql_query)"
   ]
  },
  {
   "cell_type": "code",
   "execution_count": 30,
   "metadata": {},
   "outputs": [],
   "source": [
    "import requests\n",
    "import json\n",
    "from langchain import PromptTemplate\n",
    "from langchain_community.utilities import SQLDatabase\n",
    "\n",
    "# Function to extract a simple schema string from the SQLDatabase object.\n",
    "def extract_schema(db: SQLDatabase) -> str:\n",
    "    # Get the list of usable table names\n",
    "    tables = db.get_usable_table_names()\n",
    "    schema_parts = []\n",
    "    # For each table, try to extract the columns.\n",
    "    # (Assumes that db provides a method get_table_columns; if not, you can implement one using PRAGMA queries.)\n",
    "    for table in tables:\n",
    "        try:\n",
    "            # This method may vary depending on your SQLDatabase implementation.\n",
    "            # For SQLite, one common approach is to use PRAGMA table_info(table)\n",
    "            columns = db.get_table_columns(table)\n",
    "        except Exception:\n",
    "            # Fallback: if no column information is available, just list the table name.\n",
    "            columns = []\n",
    "        if columns:\n",
    "            schema_parts.append(f\"{table}({', '.join(columns)})\")\n",
    "        else:\n",
    "            schema_parts.append(f\"{table}\")\n",
    "    # Join all table schema strings with semicolons.\n",
    "    return \"; \".join(schema_parts)"
   ]
  },
  {
   "cell_type": "code",
   "execution_count": null,
   "metadata": {},
   "outputs": [
    {
     "name": "stdout",
     "output_type": "stream",
     "text": [
      "\n",
      "Du bist ein SQL-Experte, der ausschließlich lesende (SELECT-)Abfragen schreibt.\n",
      "Deine Aufgabe ist es, aus einer natürlichen Spracheingabe eine korrekte SQL-Abfrage zu erstellen,\n",
      "die exakt auf das folgende Datenbankschema abgestimmt ist. Beachte bitte:\n",
      "  - Verwende nur die Tabellen und Spalten, die im Schema aufgeführt sind.\n",
      "  - Schreibe ausschließlich SELECT-Abfragen, keine INSERT-, UPDATE- oder DELETE-Anweisungen.\n",
      "  - Wenn du die Antwort nicht sicher ableiten kannst, gib eine höfliche Meldung zurück, dass die Frage unklar ist.\n",
      "\n",
      "Bitte verwende exakt das folgende Format:\n",
      "\n",
      "Frage: <die ursprüngliche Frage>\n",
      "SQL-Abfrage: <die generierte SQL-Abfrage>\n",
      "SQL-Ergebnis: <das Ergebnis der SQL-Abfrage>\n",
      "Antwort: <eine klare, kurze und präzise Antwort auf die ursprüngliche Frage>\n",
      "\n",
      "Nutze das unten stehende Datenbankschema:\n",
      "Album: AlbumId (INTEGER NOT NULL), Title (NVARCHAR(160) NOT NULL), ArtistId (INTEGER NOT NULL)\n",
      "Artist: ArtistId (INTEGER NOT NULL), Name (NVARCHAR(120))\n",
      "Customer: CustomerId (INTEGER NOT NULL), FirstName (NVARCHAR(40) NOT NULL), LastName (NVARCHAR(20) NOT NULL), Company (NVARCHAR(80)), Address (NVARCHAR(70)), City (NVARCHAR(40)), State (NVARCHAR(40)), Country (NVARCHAR(40)), PostalCode (NVARCHAR(10)), Phone (NVARCHAR(24)), Fax (NVARCHAR(24)), Email (NVARCHAR(60) NOT NULL), SupportRepId (INTEGER)\n",
      "Employee: EmployeeId (INTEGER NOT NULL), LastName (NVARCHAR(20) NOT NULL), FirstName (NVARCHAR(20) NOT NULL), Title (NVARCHAR(30)), ReportsTo (INTEGER), BirthDate (DATETIME), HireDate (DATETIME), Address (NVARCHAR(70)), City (NVARCHAR(40)), State (NVARCHAR(40)), Country (NVARCHAR(40)), PostalCode (NVARCHAR(10)), Phone (NVARCHAR(24)), Fax (NVARCHAR(24)), Email (NVARCHAR(60))\n",
      "Genre: GenreId (INTEGER NOT NULL), Name (NVARCHAR(120))\n",
      "Invoice: InvoiceId (INTEGER NOT NULL), CustomerId (INTEGER NOT NULL), InvoiceDate (DATETIME NOT NULL), BillingAddress (NVARCHAR(70)), BillingCity (NVARCHAR(40)), BillingState (NVARCHAR(40)), BillingCountry (NVARCHAR(40)), BillingPostalCode (NVARCHAR(10)), Total (NUMERIC(10,2) NOT NULL)\n",
      "InvoiceLine: InvoiceLineId (INTEGER NOT NULL), InvoiceId (INTEGER NOT NULL), TrackId (INTEGER NOT NULL), UnitPrice (NUMERIC(10,2) NOT NULL), Quantity (INTEGER NOT NULL)\n",
      "MediaType: MediaTypeId (INTEGER NOT NULL), Name (NVARCHAR(120))\n",
      "Playlist: PlaylistId (INTEGER NOT NULL), Name (NVARCHAR(120))\n",
      "PlaylistTrack: PlaylistId (INTEGER NOT NULL), TrackId (INTEGER NOT NULL)\n",
      "Track: TrackId (INTEGER NOT NULL), Name (NVARCHAR(200) NOT NULL), AlbumId (INTEGER), MediaTypeId (INTEGER NOT NULL), GenreId (INTEGER), Composer (NVARCHAR(220)), Milliseconds (INTEGER NOT NULL), Bytes (INTEGER), UnitPrice (NUMERIC(10,2) NOT NULL)\n",
      "\n",
      "Frage: Zeige alle Tracks aus dem Album Jazz\n",
      "SQL-Abfrage:\n",
      "    \n"
     ]
    }
   ],
   "source": [
    "from sqlalchemy import text\n",
    "\n",
    "def improved_extract_schema(db: SQLDatabase) -> str:\n",
    "    \"\"\"Extract a detailed schema string using PRAGMA table_info for each table.\n",
    "    \n",
    "    For each table in db.get_usable_table_names(), run the PRAGMA query and build a description\n",
    "    including the column name, type, and NOT NULL constraint.\n",
    "    \"\"\"\n",
    "    schema_parts = []\n",
    "    # Use the underlying SQLAlchemy engine (stored in _engine) to get a connection.\n",
    "    with db._engine.connect() as connection:\n",
    "        for table in db.get_usable_table_names():\n",
    "            # Wrap the SQL in text() to make it executable.\n",
    "            result = connection.execute(text(f\"PRAGMA table_info('{table}')\"))\n",
    "            columns = []\n",
    "            for row in result:\n",
    "                # row structure: (cid, name, type, notnull, dflt_value, pk)\n",
    "                col_name = row[1]\n",
    "                col_type = row[2]\n",
    "                notnull = \" NOT NULL\" if row[3] else \"\"\n",
    "                columns.append(f\"{col_name} ({col_type}{notnull})\")\n",
    "            schema_parts.append(f\"{table}: \" + \", \".join(columns))\n",
    "    return \"\\n\".join(schema_parts)\n",
    "\n",
    "# Example usage:\n",
    "if __name__ == \"__main__\":\n",
    "    db_path = \"./POC-LangChain/chinook-database-master/ChinookDatabase/DataSources/Chinook_Sqlite.sqlite\"\n",
    "    db = SQLDatabase.from_uri(f\"sqlite:///{db_path}\")\n",
    "    \n",
    "    # Use our improved schema extraction:\n",
    "    dbschema = improved_extract_schema(db)\n",
    "    \n",
    "    from langchain import PromptTemplate\n",
    "    \n",
    "    sql_template = \"\"\"\n",
    "Du bist ein SQL-Experte, der ausschließlich lesende (SELECT-)Abfragen schreibt.\n",
    "Deine Aufgabe ist es, aus einer natürlichen Spracheingabe eine korrekte SQL-Abfrage zu erstellen,\n",
    "die exakt auf das folgende Datenbankschema abgestimmt ist. Beachte bitte:\n",
    "  - Verwende nur die Tabellen und Spalten, die im Schema aufgeführt sind.\n",
    "  - Schreibe ausschließlich SELECT-Abfragen, keine INSERT-, UPDATE- oder DELETE-Anweisungen.\n",
    "  - Wenn du die Antwort nicht sicher ableiten kannst, gib eine höfliche Meldung zurück, dass die Frage unklar ist.\n",
    "\n",
    "Bitte verwende exakt das folgende Format:\n",
    "\n",
    "Frage: <die ursprüngliche Frage>\n",
    "SQL-Abfrage: <die generierte SQL-Abfrage>\n",
    "SQL-Ergebnis: <das Ergebnis der SQL-Abfrage>\n",
    "Antwort: <eine klare, kurze und präzise Antwort auf die ursprüngliche Frage>\n",
    "\n",
    "Nutze das unten stehende Datenbankschema:\n",
    "{dbschema}\n",
    "\n",
    "Frage: {question}\n",
    "SQL-Abfrage:\n",
    "    \"\"\"\n",
    "    \n",
    "    prompt_template = PromptTemplate(\n",
    "        input_variables=[\"dbschema\", \"question\"],\n",
    "        template=sql_template\n",
    "    )\n",
    "    \n",
    "\n",
    "    prompt = prompt_template.format(dbschema=dbschema, question=question)\n",
    "    print(prompt)\n",
    "    question = \"Zeige alle Tracks aus dem Album Jazz\""
   ]
  },
  {
   "cell_type": "code",
   "execution_count": 39,
   "metadata": {},
   "outputs": [
    {
     "name": "stdout",
     "output_type": "stream",
     "text": [
      "Generated SQL Query:\n",
      "Leider kann ich dir nicht helfen. Die Frage ist unklar. Das Datenbankschema enthält eine Tabelle namens \"Invoice\", aber es gibt keine direkte Beziehung zwischen diesem und der Tabelle \"Customer\". Es gibt jedoch die Möglichkeit, dass das Kundenid aus der Tabelle \"Invoice\" herangezogen werden kann, um den jeweiligen Kunden zu identifizieren.\n"
     ]
    }
   ],
   "source": [
    "question = \"Welche Kunden haben den höchsten Gesamtumsatz generiert?\"\n",
    "\n",
    "# Generate the final prompt using the template\n",
    "prompt = prompt_template.format(dbschema=dbschema, question=question)\n",
    "sql_query = generate_sql(prompt)\n",
    "print(\"Generated SQL Query:\")\n",
    "print(sql_query)"
   ]
  },
  {
   "cell_type": "code",
   "execution_count": 44,
   "metadata": {},
   "outputs": [
    {
     "name": "stdout",
     "output_type": "stream",
     "text": [
      "Finaler Prompt für das Modell:\n",
      "\n",
      "Du bist ein SQL-Experte, der ausschließlich lesende (SELECT-)Abfragen schreibt.\n",
      "Deine Aufgabe ist es, aus einer natürlichen Spracheingabe eine korrekte SQL-Abfrage zu erstellen,\n",
      "die exakt auf das folgende Datenbankschema abgestimmt ist. Beachte bitte:\n",
      "  - Verwende nur die Tabellen, Spalten und Relationen, die im Schema aufgeführt sind.\n",
      "  - Schreibe ausschließlich SELECT-Abfragen, keine INSERT-, UPDATE- oder DELETE-Anweisungen.\n",
      "  - Falls du die Antwort nicht sicher ableiten kannst, gib eine höfliche Meldung zurück, dass die Frage unklar ist.\n",
      "\n",
      "Bitte verwende exakt das folgende Format:\n",
      "\n",
      "Frage: <die ursprüngliche Frage>\n",
      "SQL-Abfrage: <die generierte SQL-Abfrage>\n",
      "SQL-Ergebnis: <das Ergebnis der SQL-Abfrage>\n",
      "Antwort: <eine klare, kurze und präzise Antwort auf die ursprüngliche Frage>\n",
      "\n",
      "Nutze das unten stehende Datenbankschema:\n",
      "Album: AlbumId (INTEGER NOT NULL), Title (NVARCHAR(160) NOT NULL), ArtistId (INTEGER NOT NULL) | FK: ArtistId -> Artist(ArtistId)\n",
      "Artist: ArtistId (INTEGER NOT NULL), Name (NVARCHAR(120))\n",
      "Customer: CustomerId (INTEGER NOT NULL), FirstName (NVARCHAR(40) NOT NULL), LastName (NVARCHAR(20) NOT NULL), Company (NVARCHAR(80)), Address (NVARCHAR(70)), City (NVARCHAR(40)), State (NVARCHAR(40)), Country (NVARCHAR(40)), PostalCode (NVARCHAR(10)), Phone (NVARCHAR(24)), Fax (NVARCHAR(24)), Email (NVARCHAR(60) NOT NULL), SupportRepId (INTEGER) | FK: SupportRepId -> Employee(EmployeeId)\n",
      "Employee: EmployeeId (INTEGER NOT NULL), LastName (NVARCHAR(20) NOT NULL), FirstName (NVARCHAR(20) NOT NULL), Title (NVARCHAR(30)), ReportsTo (INTEGER), BirthDate (DATETIME), HireDate (DATETIME), Address (NVARCHAR(70)), City (NVARCHAR(40)), State (NVARCHAR(40)), Country (NVARCHAR(40)), PostalCode (NVARCHAR(10)), Phone (NVARCHAR(24)), Fax (NVARCHAR(24)), Email (NVARCHAR(60)) | FK: ReportsTo -> Employee(EmployeeId)\n",
      "Genre: GenreId (INTEGER NOT NULL), Name (NVARCHAR(120))\n",
      "Invoice: InvoiceId (INTEGER NOT NULL), CustomerId (INTEGER NOT NULL), InvoiceDate (DATETIME NOT NULL), BillingAddress (NVARCHAR(70)), BillingCity (NVARCHAR(40)), BillingState (NVARCHAR(40)), BillingCountry (NVARCHAR(40)), BillingPostalCode (NVARCHAR(10)), Total (NUMERIC(10,2) NOT NULL) | FK: CustomerId -> Customer(CustomerId)\n",
      "InvoiceLine: InvoiceLineId (INTEGER NOT NULL), InvoiceId (INTEGER NOT NULL), TrackId (INTEGER NOT NULL), UnitPrice (NUMERIC(10,2) NOT NULL), Quantity (INTEGER NOT NULL) | FK: TrackId -> Track(TrackId), InvoiceId -> Invoice(InvoiceId)\n",
      "MediaType: MediaTypeId (INTEGER NOT NULL), Name (NVARCHAR(120))\n",
      "Playlist: PlaylistId (INTEGER NOT NULL), Name (NVARCHAR(120))\n",
      "PlaylistTrack: PlaylistId (INTEGER NOT NULL), TrackId (INTEGER NOT NULL) | FK: TrackId -> Track(TrackId), PlaylistId -> Playlist(PlaylistId)\n",
      "Track: TrackId (INTEGER NOT NULL), Name (NVARCHAR(200) NOT NULL), AlbumId (INTEGER), MediaTypeId (INTEGER NOT NULL), GenreId (INTEGER), Composer (NVARCHAR(220)), Milliseconds (INTEGER NOT NULL), Bytes (INTEGER), UnitPrice (NUMERIC(10,2) NOT NULL) | FK: MediaTypeId -> MediaType(MediaTypeId), GenreId -> Genre(GenreId), AlbumId -> Album(AlbumId)\n",
      "\n",
      "Frage: Welche Kunden haben den höchsten Gesamtumsatz generiert?\n",
      "SQL-Abfrage:\n",
      "    \n"
     ]
    }
   ],
   "source": [
    "from sqlalchemy import text\n",
    "\n",
    "def extract_schema_with_relationships(db: SQLDatabase) -> str:\n",
    "    \"\"\"Extrahiert den Tabellenschema-String inklusive Fremdschlüssel-Relationen.\n",
    "    \n",
    "    Für jede benutzbare Tabelle wird PRAGMA table_info und PRAGMA foreign_key_list ausgeführt.\n",
    "    Die Spalten-Informationen (Name, Typ, NOT NULL) werden gesammelt und falls vorhanden,\n",
    "    werden die Fremdschlüsselbeziehungen (Format: <Spalte> -> <referenzierte Tabelle>(<referenzierte Spalte>))\n",
    "    angehängt.\n",
    "    \"\"\"\n",
    "    schema_parts = []\n",
    "    # Verwenden des zugrundeliegenden SQLAlchemy-Engines (hier als _engine angenommen)\n",
    "    with db._engine.connect() as connection:\n",
    "        for table in db.get_usable_table_names():\n",
    "            # Spalteninformationen abrufen\n",
    "            result_columns = connection.execute(text(f\"PRAGMA table_info('{table}')\"))\n",
    "            columns = []\n",
    "            for row in result_columns:\n",
    "                # row hat folgende Struktur: (cid, name, type, notnull, dflt_value, pk)\n",
    "                col_name = row[1]\n",
    "                col_type = row[2]\n",
    "                notnull = \" NOT NULL\" if row[3] else \"\"\n",
    "                columns.append(f\"{col_name} ({col_type}{notnull})\")\n",
    "            # Fremdschlüsselinformationen abrufen\n",
    "            result_fkeys = connection.execute(text(f\"PRAGMA foreign_key_list('{table}')\"))\n",
    "            fkeys = []\n",
    "            for row in result_fkeys:\n",
    "                # row enthält z.B.: (id, seq, table, from, to, on_update, on_delete, match)\n",
    "                # Wir verwenden row[3] als Spalte in der aktuellen Tabelle,\n",
    "                # row[2] als referenzierte Tabelle und row[4] als referenzierte Spalte.\n",
    "                fkeys.append(f\"{row[3]} -> {row[2]}({row[4]})\")\n",
    "            # Kombinieren der Spalten- und Fremdschlüsselinfos\n",
    "            if fkeys:\n",
    "                schema_parts.append(f\"{table}: \" + \", \".join(columns) + \" | FK: \" + \", \".join(fkeys))\n",
    "            else:\n",
    "                schema_parts.append(f\"{table}: \" + \", \".join(columns))\n",
    "    return \"\\n\".join(schema_parts)\n",
    "\n",
    "# Beispielhafter Einsatz:\n",
    "if __name__ == \"__main__\":\n",
    "    db_path = \"./POC-LangChain/chinook-database-master/ChinookDatabase/DataSources/Chinook_Sqlite.sqlite\"\n",
    "    db = SQLDatabase.from_uri(f\"sqlite:///{db_path}\")\n",
    "    \n",
    "    # Verwenden Sie die erweiterte Schemaextraktion:\n",
    "    dbschema = extract_schema_with_relationships(db)\n",
    "    \n",
    "    from langchain import PromptTemplate\n",
    "    sql_template = \"\"\"\n",
    "Du bist ein SQL-Experte, der ausschließlich lesende (SELECT-)Abfragen schreibt.\n",
    "Deine Aufgabe ist es, aus einer natürlichen Spracheingabe eine korrekte SQL-Abfrage zu erstellen,\n",
    "die exakt auf das folgende Datenbankschema abgestimmt ist. Beachte bitte:\n",
    "  - Verwende nur die Tabellen, Spalten und Relationen, die im Schema aufgeführt sind.\n",
    "  - Schreibe ausschließlich SELECT-Abfragen, keine INSERT-, UPDATE- oder DELETE-Anweisungen.\n",
    "  - Falls du die Antwort nicht sicher ableiten kannst, gib eine höfliche Meldung zurück, dass die Frage unklar ist.\n",
    "\n",
    "Bitte verwende exakt das folgende Format:\n",
    "\n",
    "Frage: <die ursprüngliche Frage>\n",
    "SQL-Abfrage: <die generierte SQL-Abfrage>\n",
    "SQL-Ergebnis: <das Ergebnis der SQL-Abfrage>\n",
    "Antwort: <eine klare, kurze und präzise Antwort auf die ursprüngliche Frage>\n",
    "\n",
    "Nutze das unten stehende Datenbankschema:\n",
    "{dbschema}\n",
    "\n",
    "Frage: {question}\n",
    "SQL-Abfrage:\n",
    "    \"\"\"\n",
    "    \n",
    "    prompt_template = PromptTemplate(\n",
    "        input_variables=[\"dbschema\", \"question\"],\n",
    "        template=sql_template\n",
    "    )\n",
    "    \n",
    "    #question = \"Zeige alle Tracks aus dem Album Jazz\"\n",
    "    prompt = prompt_template.format(dbschema=dbschema, question=question)\n",
    "    \n",
    "    print(\"Finaler Prompt für das Modell:\")\n",
    "    print(prompt)\n"
   ]
  },
  {
   "cell_type": "code",
   "execution_count": 45,
   "metadata": {},
   "outputs": [
    {
     "name": "stdout",
     "output_type": "stream",
     "text": [
      "Generated SQL Query:\n",
      "Ich kann diese Anfrage nicht bearbeiten, da sie unklar ist. Es fehlt eine genaue Beschreibung der geforderten Daten und Beziehungen zwischen den Tabellen. Bitte präziseiere deine Frage, damit ich eine korrekte SQL-Abfrage erstellen kann.\n"
     ]
    }
   ],
   "source": [
    "question = \"Welche Kunden haben den höchsten Gesamtumsatz generiert?\"\n",
    "\n",
    "# Generate the final prompt using the template\n",
    "prompt = prompt_template.format(dbschema=dbschema, question=question)\n",
    "sql_query = generate_sql(prompt)\n",
    "print(\"Generated SQL Query:\")\n",
    "print(sql_query)"
   ]
  }
 ],
 "metadata": {
  "kernelspec": {
   "display_name": "langchain-lernen-GE3QnVly-py3.11",
   "language": "python",
   "name": "python3"
  },
  "language_info": {
   "codemirror_mode": {
    "name": "ipython",
    "version": 3
   },
   "file_extension": ".py",
   "mimetype": "text/x-python",
   "name": "python",
   "nbconvert_exporter": "python",
   "pygments_lexer": "ipython3",
   "version": "3.11.9"
  }
 },
 "nbformat": 4,
 "nbformat_minor": 2
}
