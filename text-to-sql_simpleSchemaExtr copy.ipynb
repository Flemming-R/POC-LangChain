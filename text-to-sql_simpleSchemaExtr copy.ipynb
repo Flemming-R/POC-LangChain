{
 "cells": [
  {
   "cell_type": "code",
   "execution_count": 77,
   "metadata": {},
   "outputs": [],
   "source": [
    "import sqlite3\n",
    "import langchain\n",
    "import langchain_community\n",
    "from langchain_community.utilities import SQLDatabase"
   ]
  },
  {
   "cell_type": "code",
   "execution_count": 78,
   "metadata": {},
   "outputs": [],
   "source": [
    "db_path = r\"./POC-LangChain/chinook-database-master/ChinookDatabase/DataSources/Chinook_Sqlite.sqlite\"\n",
    "db = SQLDatabase.from_uri(f\"sqlite:///{db_path}\")"
   ]
  },
  {
   "cell_type": "code",
   "execution_count": 79,
   "metadata": {},
   "outputs": [
    {
     "name": "stdout",
     "output_type": "stream",
     "text": [
      "NAME                     \tID          \tSIZE  \tMODIFIED     \n",
      "qwen2.5-coder:7b         \t2b0496514337\t4.7 GB\t6 days ago  \t\n",
      "deepseek-r1:8b           \t28f8fd6cdc67\t4.9 GB\t8 days ago  \t\n",
      "llama3.2:1b-instruct-q4_0\t53f2745c8077\t770 MB\t3 months ago\t\n",
      "llama3.2:1b              \tbaf6a787fdff\t1.3 GB\t3 months ago\t\n",
      "llama3.1:8b              \t42182419e950\t4.7 GB\t4 months ago\t\n",
      "mistral:instruct         \tf974a74358d6\t4.1 GB\t4 months ago\n"
     ]
    }
   ],
   "source": [
    "import subprocess\n",
    "\n",
    "# Führe den Befehl aus und erfasse die Ausgabe als Text\n",
    "result = subprocess.run([\"ollama\", \"list\"], capture_output=True, text=True)\n",
    "output = result.stdout.strip()\n",
    "\n",
    "print(output)  # Debugging line\n",
    "\n",
    "lines = output.splitlines()\n",
    "if not lines:\n",
    "    print(\"Keine Ausgabe erhalten.\")\n",
    "    exit()"
   ]
  },
  {
   "cell_type": "code",
   "execution_count": 80,
   "metadata": {},
   "outputs": [
    {
     "name": "stdout",
     "output_type": "stream",
     "text": [
      "Model names: ['qwen2.5-coder:7b', 'deepseek-r1:8b', 'llama3.2:1b-instruct-q4_0', 'llama3.2:1b', 'llama3.1:8b', 'mistral:instruct']\n"
     ]
    }
   ],
   "source": [
    "model_names = []\n",
    "for line in lines[1:]:\n",
    "    parts = line.split()\n",
    "    if parts:\n",
    "        model_names.append(parts[0])\n",
    "\n",
    "print(\"Model names:\", model_names)"
   ]
  },
  {
   "cell_type": "code",
   "execution_count": 81,
   "metadata": {},
   "outputs": [
    {
     "name": "stdout",
     "output_type": "stream",
     "text": [
      "sqlite\n"
     ]
    },
    {
     "data": {
      "text/plain": [
       "['Album',\n",
       " 'Artist',\n",
       " 'Customer',\n",
       " 'Employee',\n",
       " 'Genre',\n",
       " 'Invoice',\n",
       " 'InvoiceLine',\n",
       " 'MediaType',\n",
       " 'Playlist',\n",
       " 'PlaylistTrack',\n",
       " 'Track']"
      ]
     },
     "execution_count": 81,
     "metadata": {},
     "output_type": "execute_result"
    }
   ],
   "source": [
    "db_dialect = db.dialect\n",
    "print(db.dialect)\n",
    "db.get_usable_table_names()"
   ]
  },
  {
   "cell_type": "markdown",
   "metadata": {},
   "source": [
    "#### Schemainformationen aus der Datenbank extrahieren"
   ]
  },
  {
   "cell_type": "code",
   "execution_count": 82,
   "metadata": {},
   "outputs": [],
   "source": [
    "tables = db.get_usable_table_names()\n",
    "\n",
    "table_info = []\n",
    "for table in tables:\n",
    "    info = db.get_table_info([table])\n",
    "    # print(info)\n",
    "    table_info.append(info)\n"
   ]
  },
  {
   "cell_type": "code",
   "execution_count": 83,
   "metadata": {},
   "outputs": [],
   "source": [
    "table_info_str = str(table_info)"
   ]
  },
  {
   "cell_type": "markdown",
   "metadata": {},
   "source": [
    "#### Modell initialisieren"
   ]
  },
  {
   "cell_type": "code",
   "execution_count": 84,
   "metadata": {},
   "outputs": [
    {
     "data": {
      "text/plain": [
       "['qwen2.5-coder:7b',\n",
       " 'deepseek-r1:8b',\n",
       " 'llama3.2:1b-instruct-q4_0',\n",
       " 'llama3.2:1b',\n",
       " 'llama3.1:8b',\n",
       " 'mistral:instruct']"
      ]
     },
     "execution_count": 84,
     "metadata": {},
     "output_type": "execute_result"
    }
   ],
   "source": [
    "model_names"
   ]
  },
  {
   "cell_type": "code",
   "execution_count": 85,
   "metadata": {},
   "outputs": [
    {
     "data": {
      "text/plain": [
       "'qwen2.5-coder:7b'"
      ]
     },
     "execution_count": 85,
     "metadata": {},
     "output_type": "execute_result"
    }
   ],
   "source": [
    "model_name = model_names[0] # Modell festlegen\n",
    "model_name"
   ]
  },
  {
   "cell_type": "code",
   "execution_count": 86,
   "metadata": {},
   "outputs": [
    {
     "name": "stdout",
     "output_type": "stream",
     "text": [
      "qwen2.5-coder:7b ausgewählt und geladen.\n"
     ]
    }
   ],
   "source": [
    "from langchain_ollama import ChatOllama\n",
    "\n",
    "llm = ChatOllama(\n",
    "    model=model_name,\n",
    "    temperature=0,\n",
    ")\n",
    "print(f'{model_name} ausgewählt und geladen.')"
   ]
  },
  {
   "cell_type": "markdown",
   "metadata": {},
   "source": [
    "#### Tokenzählung für Schemainformationen durchführen"
   ]
  },
  {
   "cell_type": "code",
   "execution_count": 87,
   "metadata": {},
   "outputs": [
    {
     "name": "stdout",
     "output_type": "stream",
     "text": [
      "Tokenanzahl: 2337\n"
     ]
    }
   ],
   "source": [
    "from litellm import token_counter\n",
    "\n",
    "messages = [{\"role\": \"user\", \"content\": table_info_str}]\n",
    "\n",
    "num_tokens = token_counter(model=f\"ollama/{model_name}\", messages=messages)\n",
    "\n",
    "print(f\"Tokenanzahl: {num_tokens}\")"
   ]
  },
  {
   "cell_type": "markdown",
   "metadata": {},
   "source": [
    "#### Selbstgebaute Funktion zur Schemaextraktion"
   ]
  },
  {
   "cell_type": "code",
   "execution_count": 88,
   "metadata": {},
   "outputs": [],
   "source": [
    "import sqlite3\n",
    "\n",
    "def extract_schema(db_path, sample_rows=2, verbose=True):\n",
    "    \"\"\"\n",
    "    Extrahiert das Schema aller Tabellen in der SQLite-Datenbank und gibt\n",
    "    – abhängig vom Parameter verbose – entweder die Ergebnisse aus oder liefert sie als Dictionary zurück.\n",
    "    \n",
    "    Parameter:\n",
    "      - db_path: Pfad zur Datenbank.\n",
    "      - sample_rows: Anzahl der Beispielzeilen, die pro Tabelle abgerufen werden.\n",
    "      - verbose: Falls True, werden die Informationen direkt ausgegeben.\n",
    "      \n",
    "    Rückgabe:\n",
    "      Ein Dictionary, in dem für jede Tabelle die folgenden Informationen enthalten sind:\n",
    "        - columns: Liste der Spalten (inkl. Typ und Kennzeichnung als PK)\n",
    "        - foreign_keys: Liste der Fremdschlüssel (Format: \"Spalte -> referenzierteTabelle.referenzierteSpalte\")\n",
    "        - sample_data: Abgerufene Beispieldaten (als Liste von Zeilen)\n",
    "    \"\"\"\n",
    "    conn = sqlite3.connect(db_path)\n",
    "    cursor = conn.cursor()\n",
    "    \n",
    "    # Alle Tabellennamen abrufen\n",
    "    cursor.execute(\"SELECT name FROM sqlite_master WHERE type='table';\")\n",
    "    table_names = [row[0] for row in cursor.fetchall()]\n",
    "    \n",
    "    schema = {}\n",
    "    \n",
    "    for table in table_names:\n",
    "        if verbose:\n",
    "            print(f\"Schema for Table '{table}':\")\n",
    "        \n",
    "        # Spalteninformationen abrufen\n",
    "        cursor.execute(f\"PRAGMA table_info({table});\")\n",
    "        columns_info = cursor.fetchall()  \n",
    "        columns = []\n",
    "        for col in columns_info:\n",
    "            col_name = col[1]\n",
    "            col_type = col[2]\n",
    "            is_pk = \" (PK)\" if col[5] != 0 else \"\"\n",
    "            columns.append(f\"{col_name} {col_type}{is_pk}\")\n",
    "        if verbose:\n",
    "            print(\"Columns:\", \", \".join(columns))\n",
    "        \n",
    "        # Fremdschlüsselinformationen abrufen\n",
    "        cursor.execute(f\"PRAGMA foreign_key_list({table});\")\n",
    "        fk_info = cursor.fetchall()  \n",
    "        foreign_keys = []\n",
    "        for fk in fk_info:\n",
    "            foreign_keys.append(f\"{fk[3]} -> {fk[2]}.{fk[4]}\")\n",
    "        if verbose:\n",
    "            if foreign_keys:\n",
    "                print(\"Foreign Keys:\", \", \".join(foreign_keys))\n",
    "            else:\n",
    "                print(\"Foreign Keys: none\")\n",
    "        \n",
    "        # Beispiel-Daten abrufen\n",
    "        cursor.execute(f\"SELECT * FROM {table} LIMIT {sample_rows};\")\n",
    "        sample_data = cursor.fetchall()\n",
    "        if verbose:\n",
    "            print(\"Sample data:\", sample_data)\n",
    "            print(\"-\" * 80)\n",
    "        \n",
    "        schema[table] = {\n",
    "            \"columns\": columns,\n",
    "            \"foreign_keys\": foreign_keys,\n",
    "            \"sample_data\": sample_data\n",
    "        }\n",
    "    \n",
    "    conn.close()\n",
    "    return schema\n"
   ]
  },
  {
   "cell_type": "code",
   "execution_count": 89,
   "metadata": {},
   "outputs": [
    {
     "name": "stdout",
     "output_type": "stream",
     "text": [
      "Schema for Table 'Album':\n",
      "Columns: AlbumId INTEGER (PK), Title NVARCHAR(160), ArtistId INTEGER\n",
      "Foreign Keys: ArtistId -> Artist.ArtistId\n",
      "Sample data: [(1, 'For Those About To Rock We Salute You', 1)]\n",
      "--------------------------------------------------------------------------------\n",
      "Schema for Table 'Artist':\n",
      "Columns: ArtistId INTEGER (PK), Name NVARCHAR(120)\n",
      "Foreign Keys: none\n",
      "Sample data: [(1, 'AC/DC')]\n",
      "--------------------------------------------------------------------------------\n",
      "Schema for Table 'Customer':\n",
      "Columns: CustomerId INTEGER (PK), FirstName NVARCHAR(40), LastName NVARCHAR(20), Company NVARCHAR(80), Address NVARCHAR(70), City NVARCHAR(40), State NVARCHAR(40), Country NVARCHAR(40), PostalCode NVARCHAR(10), Phone NVARCHAR(24), Fax NVARCHAR(24), Email NVARCHAR(60), SupportRepId INTEGER\n",
      "Foreign Keys: SupportRepId -> Employee.EmployeeId\n",
      "Sample data: [(1, 'Luís', 'Gonçalves', 'Embraer - Empresa Brasileira de Aeronáutica S.A.', 'Av. Brigadeiro Faria Lima, 2170', 'São José dos Campos', 'SP', 'Brazil', '12227-000', '+55 (12) 3923-5555', '+55 (12) 3923-5566', 'luisg@embraer.com.br', 3)]\n",
      "--------------------------------------------------------------------------------\n",
      "Schema for Table 'Employee':\n",
      "Columns: EmployeeId INTEGER (PK), LastName NVARCHAR(20), FirstName NVARCHAR(20), Title NVARCHAR(30), ReportsTo INTEGER, BirthDate DATETIME, HireDate DATETIME, Address NVARCHAR(70), City NVARCHAR(40), State NVARCHAR(40), Country NVARCHAR(40), PostalCode NVARCHAR(10), Phone NVARCHAR(24), Fax NVARCHAR(24), Email NVARCHAR(60)\n",
      "Foreign Keys: ReportsTo -> Employee.EmployeeId\n",
      "Sample data: [(1, 'Adams', 'Andrew', 'General Manager', None, '1962-02-18 00:00:00', '2002-08-14 00:00:00', '11120 Jasper Ave NW', 'Edmonton', 'AB', 'Canada', 'T5K 2N1', '+1 (780) 428-9482', '+1 (780) 428-3457', 'andrew@chinookcorp.com')]\n",
      "--------------------------------------------------------------------------------\n",
      "Schema for Table 'Genre':\n",
      "Columns: GenreId INTEGER (PK), Name NVARCHAR(120)\n",
      "Foreign Keys: none\n",
      "Sample data: [(1, 'Rock')]\n",
      "--------------------------------------------------------------------------------\n",
      "Schema for Table 'Invoice':\n",
      "Columns: InvoiceId INTEGER (PK), CustomerId INTEGER, InvoiceDate DATETIME, BillingAddress NVARCHAR(70), BillingCity NVARCHAR(40), BillingState NVARCHAR(40), BillingCountry NVARCHAR(40), BillingPostalCode NVARCHAR(10), Total NUMERIC(10,2)\n",
      "Foreign Keys: CustomerId -> Customer.CustomerId\n",
      "Sample data: [(1, 2, '2009-01-01 00:00:00', 'Theodor-Heuss-Straße 34', 'Stuttgart', None, 'Germany', '70174', 1.98)]\n",
      "--------------------------------------------------------------------------------\n",
      "Schema for Table 'InvoiceLine':\n",
      "Columns: InvoiceLineId INTEGER (PK), InvoiceId INTEGER, TrackId INTEGER, UnitPrice NUMERIC(10,2), Quantity INTEGER\n",
      "Foreign Keys: TrackId -> Track.TrackId, InvoiceId -> Invoice.InvoiceId\n",
      "Sample data: [(1, 1, 2, 0.99, 1)]\n",
      "--------------------------------------------------------------------------------\n",
      "Schema for Table 'MediaType':\n",
      "Columns: MediaTypeId INTEGER (PK), Name NVARCHAR(120)\n",
      "Foreign Keys: none\n",
      "Sample data: [(1, 'MPEG audio file')]\n",
      "--------------------------------------------------------------------------------\n",
      "Schema for Table 'Playlist':\n",
      "Columns: PlaylistId INTEGER (PK), Name NVARCHAR(120)\n",
      "Foreign Keys: none\n",
      "Sample data: [(1, 'Music')]\n",
      "--------------------------------------------------------------------------------\n",
      "Schema for Table 'PlaylistTrack':\n",
      "Columns: PlaylistId INTEGER (PK), TrackId INTEGER (PK)\n",
      "Foreign Keys: TrackId -> Track.TrackId, PlaylistId -> Playlist.PlaylistId\n",
      "Sample data: [(1, 3402)]\n",
      "--------------------------------------------------------------------------------\n",
      "Schema for Table 'Track':\n",
      "Columns: TrackId INTEGER (PK), Name NVARCHAR(200), AlbumId INTEGER, MediaTypeId INTEGER, GenreId INTEGER, Composer NVARCHAR(220), Milliseconds INTEGER, Bytes INTEGER, UnitPrice NUMERIC(10,2)\n",
      "Foreign Keys: MediaTypeId -> MediaType.MediaTypeId, GenreId -> Genre.GenreId, AlbumId -> Album.AlbumId\n",
      "Sample data: [(1, 'For Those About To Rock (We Salute You)', 1, 1, 1, 'Angus Young, Malcolm Young, Brian Johnson', 343719, 11170334, 0.99)]\n",
      "--------------------------------------------------------------------------------\n"
     ]
    }
   ],
   "source": [
    "schema = extract_schema(db_path, sample_rows=1, verbose=True)"
   ]
  },
  {
   "cell_type": "code",
   "execution_count": 90,
   "metadata": {},
   "outputs": [],
   "source": [
    "schema_info_str = str(schema)"
   ]
  },
  {
   "cell_type": "markdown",
   "metadata": {},
   "source": [
    "#### Prompt erstellen"
   ]
  },
  {
   "cell_type": "code",
   "execution_count": 100,
   "metadata": {},
   "outputs": [],
   "source": [
    "from langchain import PromptTemplate\n",
    "\n",
    "# Define the prompt template in English\n",
    "prompt_template = PromptTemplate(\n",
    "    input_variables=[\"schema_info\", \"question\",\"db_dialect\"],\n",
    "    template=\"\"\"\n",
    "You are a helpful SQL assistant that provides only SELECT-Statements.\n",
    "Based on the following database schema, translate a natural language query into an SQL query that is executable in my {db_dialect}-Database.\n",
    "\n",
    "Database Schema:\n",
    "{schema_info}\n",
    "\n",
    "Using the schema information above, please formulate the appropriate SQL query this question:\n",
    "Question: {question}\n",
    "\n",
    "SQL Query:\n",
    "\"\"\".strip()\n",
    ")"
   ]
  },
  {
   "cell_type": "code",
   "execution_count": 92,
   "metadata": {},
   "outputs": [
    {
     "name": "stdout",
     "output_type": "stream",
     "text": [
      "You are a helpful SQL assistant that provides only SELECT-Statements.\n",
      "Based on the following database schema, translate a natural language query into an SQL query that is executable in my sqlite-Database.\n",
      "\n",
      "Database Schema:\n",
      "{'Album': {'columns': ['AlbumId INTEGER (PK)', 'Title NVARCHAR(160)', 'ArtistId INTEGER'], 'foreign_keys': ['ArtistId -> Artist.ArtistId'], 'sample_data': [(1, 'For Those About To Rock We Salute You', 1)]}, 'Artist': {'columns': ['ArtistId INTEGER (PK)', 'Name NVARCHAR(120)'], 'foreign_keys': [], 'sample_data': [(1, 'AC/DC')]}, 'Customer': {'columns': ['CustomerId INTEGER (PK)', 'FirstName NVARCHAR(40)', 'LastName NVARCHAR(20)', 'Company NVARCHAR(80)', 'Address NVARCHAR(70)', 'City NVARCHAR(40)', 'State NVARCHAR(40)', 'Country NVARCHAR(40)', 'PostalCode NVARCHAR(10)', 'Phone NVARCHAR(24)', 'Fax NVARCHAR(24)', 'Email NVARCHAR(60)', 'SupportRepId INTEGER'], 'foreign_keys': ['SupportRepId -> Employee.EmployeeId'], 'sample_data': [(1, 'Luís', 'Gonçalves', 'Embraer - Empresa Brasileira de Aeronáutica S.A.', 'Av. Brigadeiro Faria Lima, 2170', 'São José dos Campos', 'SP', 'Brazil', '12227-000', '+55 (12) 3923-5555', '+55 (12) 3923-5566', 'luisg@embraer.com.br', 3)]}, 'Employee': {'columns': ['EmployeeId INTEGER (PK)', 'LastName NVARCHAR(20)', 'FirstName NVARCHAR(20)', 'Title NVARCHAR(30)', 'ReportsTo INTEGER', 'BirthDate DATETIME', 'HireDate DATETIME', 'Address NVARCHAR(70)', 'City NVARCHAR(40)', 'State NVARCHAR(40)', 'Country NVARCHAR(40)', 'PostalCode NVARCHAR(10)', 'Phone NVARCHAR(24)', 'Fax NVARCHAR(24)', 'Email NVARCHAR(60)'], 'foreign_keys': ['ReportsTo -> Employee.EmployeeId'], 'sample_data': [(1, 'Adams', 'Andrew', 'General Manager', None, '1962-02-18 00:00:00', '2002-08-14 00:00:00', '11120 Jasper Ave NW', 'Edmonton', 'AB', 'Canada', 'T5K 2N1', '+1 (780) 428-9482', '+1 (780) 428-3457', 'andrew@chinookcorp.com')]}, 'Genre': {'columns': ['GenreId INTEGER (PK)', 'Name NVARCHAR(120)'], 'foreign_keys': [], 'sample_data': [(1, 'Rock')]}, 'Invoice': {'columns': ['InvoiceId INTEGER (PK)', 'CustomerId INTEGER', 'InvoiceDate DATETIME', 'BillingAddress NVARCHAR(70)', 'BillingCity NVARCHAR(40)', 'BillingState NVARCHAR(40)', 'BillingCountry NVARCHAR(40)', 'BillingPostalCode NVARCHAR(10)', 'Total NUMERIC(10,2)'], 'foreign_keys': ['CustomerId -> Customer.CustomerId'], 'sample_data': [(1, 2, '2009-01-01 00:00:00', 'Theodor-Heuss-Straße 34', 'Stuttgart', None, 'Germany', '70174', 1.98)]}, 'InvoiceLine': {'columns': ['InvoiceLineId INTEGER (PK)', 'InvoiceId INTEGER', 'TrackId INTEGER', 'UnitPrice NUMERIC(10,2)', 'Quantity INTEGER'], 'foreign_keys': ['TrackId -> Track.TrackId', 'InvoiceId -> Invoice.InvoiceId'], 'sample_data': [(1, 1, 2, 0.99, 1)]}, 'MediaType': {'columns': ['MediaTypeId INTEGER (PK)', 'Name NVARCHAR(120)'], 'foreign_keys': [], 'sample_data': [(1, 'MPEG audio file')]}, 'Playlist': {'columns': ['PlaylistId INTEGER (PK)', 'Name NVARCHAR(120)'], 'foreign_keys': [], 'sample_data': [(1, 'Music')]}, 'PlaylistTrack': {'columns': ['PlaylistId INTEGER (PK)', 'TrackId INTEGER (PK)'], 'foreign_keys': ['TrackId -> Track.TrackId', 'PlaylistId -> Playlist.PlaylistId'], 'sample_data': [(1, 3402)]}, 'Track': {'columns': ['TrackId INTEGER (PK)', 'Name NVARCHAR(200)', 'AlbumId INTEGER', 'MediaTypeId INTEGER', 'GenreId INTEGER', 'Composer NVARCHAR(220)', 'Milliseconds INTEGER', 'Bytes INTEGER', 'UnitPrice NUMERIC(10,2)'], 'foreign_keys': ['MediaTypeId -> MediaType.MediaTypeId', 'GenreId -> Genre.GenreId', 'AlbumId -> Album.AlbumId'], 'sample_data': [(1, 'For Those About To Rock (We Salute You)', 1, 1, 1, 'Angus Young, Malcolm Young, Brian Johnson', 343719, 11170334, 0.99)]}}\n",
      "\n",
      "Using the schema information above, please formulate the appropriate SQL query this question:\n",
      "Question: Which albums are the top sellers?\n",
      "\n",
      "SQL Query:\n"
     ]
    }
   ],
   "source": [
    "question = \"Which albums are the top sellers?\"\n",
    "\n",
    "prompt = prompt_template.format(\n",
    "    schema_info=schema_info_str, \n",
    "    question=question, \n",
    "    db_dialect=db_dialect\n",
    "    )\n",
    "\n",
    "print(prompt)"
   ]
  },
  {
   "cell_type": "markdown",
   "metadata": {},
   "source": [
    "#### States definieren"
   ]
  },
  {
   "cell_type": "code",
   "execution_count": 102,
   "metadata": {},
   "outputs": [],
   "source": [
    "from typing_extensions import TypedDict\n",
    "\n",
    "class State(TypedDict):\n",
    "    schema_info: str       # Geladene Informationen zum Datenbankschema\n",
    "    question: str          # Ursprüngliche Nutzereingabe in natürlicher Sprache\n",
    "    db_dialect: str        # Verwendeter SQL-Dialekt, z.B. \"SQLite\"\n",
    "    parsed_question: str   # (Optional) Analyse der Frage\n",
    "    query: str             # Generierte SQL-Abfrage\n",
    "    execution_result: str  # Ergebnis der SQL-Abfrage-Ausführung\n",
    "    answer: str            # Endgültige Antwort, formatiert für den Nutzer\n",
    "    error: str             # Fehlermeldungen, falls vorhanden\n"
   ]
  },
  {
   "cell_type": "markdown",
   "metadata": {},
   "source": [
    "#### Chain erstellen"
   ]
  },
  {
   "cell_type": "code",
   "execution_count": 93,
   "metadata": {},
   "outputs": [],
   "source": [
    "import langchain_community"
   ]
  },
  {
   "cell_type": "code",
   "execution_count": 94,
   "metadata": {},
   "outputs": [],
   "source": [
    "from langchain_experimental.sql import SQLDatabaseChain"
   ]
  },
  {
   "cell_type": "code",
   "execution_count": 97,
   "metadata": {},
   "outputs": [
    {
     "name": "stdout",
     "output_type": "stream",
     "text": [
      "```sql\n",
      "SELECT a.Title \n",
      "FROM Album a\n",
      "JOIN Track t ON a.AlbumId = t.AlbumId\n",
      "JOIN InvoiceLine il ON t.TrackId = il.TrackId\n",
      "GROUP BY a.AlbumId\n",
      "ORDER BY SUM(il.UnitPrice * il.Quantity) DESC;\n",
      "```\n"
     ]
    }
   ],
   "source": [
    "from langchain.chains import LLMChain\n",
    "\n",
    "# Erstelle die Chain mit dem Prompt-Template\n",
    "chain = LLMChain(llm=llm, prompt=prompt_template)\n",
    "\n",
    "# Beispielhafte Anfrage\n",
    "sql_query = chain.run(schema_info=schema_info_str, question=question, db_dialect=db_dialect)\n",
    "\n",
    "print(sql_query)"
   ]
  }
 ],
 "metadata": {
  "kernelspec": {
   "display_name": "langchain-lernen-GE3QnVly-py3.11",
   "language": "python",
   "name": "python3"
  },
  "language_info": {
   "codemirror_mode": {
    "name": "ipython",
    "version": 3
   },
   "file_extension": ".py",
   "mimetype": "text/x-python",
   "name": "python",
   "nbconvert_exporter": "python",
   "pygments_lexer": "ipython3",
   "version": "3.11.9"
  }
 },
 "nbformat": 4,
 "nbformat_minor": 2
}
